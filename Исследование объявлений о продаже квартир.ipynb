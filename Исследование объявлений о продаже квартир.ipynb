{
 "cells": [
  {
   "cell_type": "markdown",
   "metadata": {},
   "source": [
    "<div class=\"alert alert-success\">\n",
    "  <b> ✔️Комментарий ревьюера ✔️</b>\n",
    "\n",
    "Привет, Виктория! Меня зовут Михаил Майоров, я буду проверять твой проект. Предлагаю общаться на 'ты' :)\n",
    "Однако, если это неудобно - сообщи, и мы перейдем на 'Вы'. Моя главная цель —  поделиться с тобой своим опытом и помочь тебе стать аналитиком данных, а не только указать на совершенные тобой ошибки.\n",
    "\n",
    "Видно, что к проету приложен большой труд. Все ключевые этапы в работе выполнены, статистическое исследование проведено качественно. Так что в целом справиться с задачей тебе удалось.\n",
    "\n",
    "Есть несколько аспектов, которые **требуют** твоего **внимания**. Комментарии по ним помечены красным цветом и символами ❌. После их доработки проект будет принят, осталось совсем немного :) \n",
    "    \n",
    "\n",
    "Давай работать над проектом в диалоге: если **ты что-то меняешь** в проекте по моим рекомендациям — **пиши об этом**. Мне будет легче отследить изменения, если ты будешь использовать синюю форму, которую я прикреплю ниже. Пожалуйста, **не перемещай, не изменяй и не удаляй мои комментарии**. Всё это поможет выполнить повторную проверку твоего проекта оперативнее. \n",
    "\n",
    "\n",
    "\n",
    "Жду проект на повторное ревью. Успехов в изучении!\n",
    "\n",
    "\n",
    "\n",
    "</div>\n",
    "<div class=\"alert alert-block alert-danger\"> <b>❌ Комментарий ревьюера ❌</b> \n",
    "    Так я выделяю моменты, которые требуют особого внимания. Нужно будет учесть их и внести корректировки в свою работу. </div>\n",
    "<div class=\"alert alert-block alert-warning\"> <b>⚠️ Комментарий ревьюера ⚠️</b> \n",
    "    Желтым я отмечу рекомендации, которые, могут быть полезными при твоей работе. Они носят рекомендационный характер, но будет классно, если ты будешь учитывать их при работе.</div>\n",
    "<div class=\"alert alert-block alert-success\"> <b>✔️ Комментарий ревьюера ✔️</b>\n",
    "    Так я выделяю удачные и элегантные решения, на которые можно опираться в будущих проектах.</div>\n",
    "<div class=\"alert alert-block alert-info\">\n",
    "    \n",
    "А в таком блоке ты можешь оставить комментарии для меня \n",
    "    \n",
    "</div>"
   ]
  },
  {
   "cell_type": "markdown",
   "metadata": {},
   "source": [
    "# Исследование объявлений о продаже квартир\n",
    "\n",
    "В вашем распоряжении данные сервиса Яндекс.Недвижимость — архив объявлений о продаже квартир в Санкт-Петербурге и соседних населённых пунктов за несколько лет. Нужно научиться определять рыночную стоимость объектов недвижимости. Ваша задача — установить параметры. Это позволит построить автоматизированную систему: она отследит аномалии и мошенническую деятельность. \n",
    "\n",
    "По каждой квартире на продажу доступны два вида данных. Первые вписаны пользователем, вторые — получены автоматически на основе картографических данных. Например, расстояние до центра, аэропорта, ближайшего парка и водоёма. "
   ]
  },
  {
   "cell_type": "markdown",
   "metadata": {},
   "source": [
    "Цель исследования - установить параметры, влияющие на рыночную стоимость объектов недвижимости.\n",
    "\n",
    "Исходные данные - данные сервиса «Яндекс.Недвижимость» (архив объявлений о продаже квартир в Санкт-Петербурге и соседних населённых пунктах за несколько лет).\n",
    "\n",
    "Вопросы, интересующие заказчика:\n",
    "\n",
    "Сколько времени занимает продажа квартиры. \n",
    "\n",
    "Какие продажи можно считать быстрыми, а какие — необычно долгими.\n",
    "\n",
    "Какие факторы больше всего влияют на стоимость объекта. \n",
    "\n",
    "Какая средняя стоимость квартиры в 10 населённых пунктов с наибольшим числом объявлений.\n",
    "\n",
    "Как стоимость объектов зависит от расстояния до центра города."
   ]
  },
  {
   "cell_type": "markdown",
   "metadata": {},
   "source": [
    "<div class=\"alert alert-success\">\n",
    "\n",
    "**✔️ Комментарий ревьюера ✔️**\n",
    "   \n",
    "   Хорошее введение в проект - пригодится в будущем, когда соберешь большое портфолио и откроешь проект вновь👍\n",
    "\n",
    "</div>\n"
   ]
  },
  {
   "cell_type": "markdown",
   "metadata": {},
   "source": [
    "### Откройте файл с данными и изучите общую информацию. "
   ]
  },
  {
   "cell_type": "code",
   "execution_count": 98,
   "metadata": {},
   "outputs": [
    {
     "name": "stdout",
     "output_type": "stream",
     "text": [
      "<class 'pandas.core.frame.DataFrame'>\n",
      "RangeIndex: 23699 entries, 0 to 23698\n",
      "Data columns (total 22 columns):\n",
      " #   Column                Non-Null Count  Dtype  \n",
      "---  ------                --------------  -----  \n",
      " 0   total_images          23699 non-null  int64  \n",
      " 1   last_price            23699 non-null  float64\n",
      " 2   total_area            23699 non-null  float64\n",
      " 3   first_day_exposition  23699 non-null  object \n",
      " 4   rooms                 23699 non-null  int64  \n",
      " 5   ceiling_height        14504 non-null  float64\n",
      " 6   floors_total          23613 non-null  float64\n",
      " 7   living_area           21796 non-null  float64\n",
      " 8   floor                 23699 non-null  int64  \n",
      " 9   is_apartment          2775 non-null   object \n",
      " 10  studio                23699 non-null  bool   \n",
      " 11  open_plan             23699 non-null  bool   \n",
      " 12  kitchen_area          21421 non-null  float64\n",
      " 13  balcony               12180 non-null  float64\n",
      " 14  locality_name         23650 non-null  object \n",
      " 15  airports_nearest      18157 non-null  float64\n",
      " 16  cityCenters_nearest   18180 non-null  float64\n",
      " 17  parks_around3000      18181 non-null  float64\n",
      " 18  parks_nearest         8079 non-null   float64\n",
      " 19  ponds_around3000      18181 non-null  float64\n",
      " 20  ponds_nearest         9110 non-null   float64\n",
      " 21  days_exposition       20518 non-null  float64\n",
      "dtypes: bool(2), float64(14), int64(3), object(3)\n",
      "memory usage: 3.7+ MB\n",
      "\n",
      "Число дубликатов: 0\n"
     ]
    },
    {
     "data": {
      "text/html": [
       "<div>\n",
       "<style scoped>\n",
       "    .dataframe tbody tr th:only-of-type {\n",
       "        vertical-align: middle;\n",
       "    }\n",
       "\n",
       "    .dataframe tbody tr th {\n",
       "        vertical-align: top;\n",
       "    }\n",
       "\n",
       "    .dataframe thead th {\n",
       "        text-align: right;\n",
       "    }\n",
       "</style>\n",
       "<table border=\"1\" class=\"dataframe\">\n",
       "  <thead>\n",
       "    <tr style=\"text-align: right;\">\n",
       "      <th></th>\n",
       "      <th>total_images</th>\n",
       "      <th>last_price</th>\n",
       "      <th>total_area</th>\n",
       "      <th>rooms</th>\n",
       "      <th>ceiling_height</th>\n",
       "      <th>floors_total</th>\n",
       "      <th>living_area</th>\n",
       "      <th>floor</th>\n",
       "      <th>kitchen_area</th>\n",
       "      <th>balcony</th>\n",
       "      <th>airports_nearest</th>\n",
       "      <th>cityCenters_nearest</th>\n",
       "      <th>parks_around3000</th>\n",
       "      <th>parks_nearest</th>\n",
       "      <th>ponds_around3000</th>\n",
       "      <th>ponds_nearest</th>\n",
       "      <th>days_exposition</th>\n",
       "    </tr>\n",
       "  </thead>\n",
       "  <tbody>\n",
       "    <tr>\n",
       "      <th>count</th>\n",
       "      <td>23699.000000</td>\n",
       "      <td>2.369900e+04</td>\n",
       "      <td>23699.000000</td>\n",
       "      <td>23699.000000</td>\n",
       "      <td>14504.000000</td>\n",
       "      <td>23613.000000</td>\n",
       "      <td>21796.000000</td>\n",
       "      <td>23699.000000</td>\n",
       "      <td>21421.000000</td>\n",
       "      <td>12180.000000</td>\n",
       "      <td>18157.000000</td>\n",
       "      <td>18180.000000</td>\n",
       "      <td>18181.000000</td>\n",
       "      <td>8079.000000</td>\n",
       "      <td>18181.000000</td>\n",
       "      <td>9110.000000</td>\n",
       "      <td>20518.000000</td>\n",
       "    </tr>\n",
       "    <tr>\n",
       "      <th>mean</th>\n",
       "      <td>9.858475</td>\n",
       "      <td>6.541549e+06</td>\n",
       "      <td>60.348651</td>\n",
       "      <td>2.070636</td>\n",
       "      <td>2.771499</td>\n",
       "      <td>10.673824</td>\n",
       "      <td>34.457852</td>\n",
       "      <td>5.892358</td>\n",
       "      <td>10.569807</td>\n",
       "      <td>1.150082</td>\n",
       "      <td>28793.672193</td>\n",
       "      <td>14191.277833</td>\n",
       "      <td>0.611408</td>\n",
       "      <td>490.804555</td>\n",
       "      <td>0.770255</td>\n",
       "      <td>517.980900</td>\n",
       "      <td>180.888634</td>\n",
       "    </tr>\n",
       "    <tr>\n",
       "      <th>std</th>\n",
       "      <td>5.682529</td>\n",
       "      <td>1.088701e+07</td>\n",
       "      <td>35.654083</td>\n",
       "      <td>1.078405</td>\n",
       "      <td>1.261056</td>\n",
       "      <td>6.597173</td>\n",
       "      <td>22.030445</td>\n",
       "      <td>4.885249</td>\n",
       "      <td>5.905438</td>\n",
       "      <td>1.071300</td>\n",
       "      <td>12630.880622</td>\n",
       "      <td>8608.386210</td>\n",
       "      <td>0.802074</td>\n",
       "      <td>342.317995</td>\n",
       "      <td>0.938346</td>\n",
       "      <td>277.720643</td>\n",
       "      <td>219.727988</td>\n",
       "    </tr>\n",
       "    <tr>\n",
       "      <th>min</th>\n",
       "      <td>0.000000</td>\n",
       "      <td>1.219000e+04</td>\n",
       "      <td>12.000000</td>\n",
       "      <td>0.000000</td>\n",
       "      <td>1.000000</td>\n",
       "      <td>1.000000</td>\n",
       "      <td>2.000000</td>\n",
       "      <td>1.000000</td>\n",
       "      <td>1.300000</td>\n",
       "      <td>0.000000</td>\n",
       "      <td>0.000000</td>\n",
       "      <td>181.000000</td>\n",
       "      <td>0.000000</td>\n",
       "      <td>1.000000</td>\n",
       "      <td>0.000000</td>\n",
       "      <td>13.000000</td>\n",
       "      <td>1.000000</td>\n",
       "    </tr>\n",
       "    <tr>\n",
       "      <th>25%</th>\n",
       "      <td>6.000000</td>\n",
       "      <td>3.400000e+06</td>\n",
       "      <td>40.000000</td>\n",
       "      <td>1.000000</td>\n",
       "      <td>2.520000</td>\n",
       "      <td>5.000000</td>\n",
       "      <td>18.600000</td>\n",
       "      <td>2.000000</td>\n",
       "      <td>7.000000</td>\n",
       "      <td>0.000000</td>\n",
       "      <td>18585.000000</td>\n",
       "      <td>9238.000000</td>\n",
       "      <td>0.000000</td>\n",
       "      <td>288.000000</td>\n",
       "      <td>0.000000</td>\n",
       "      <td>294.000000</td>\n",
       "      <td>45.000000</td>\n",
       "    </tr>\n",
       "    <tr>\n",
       "      <th>50%</th>\n",
       "      <td>9.000000</td>\n",
       "      <td>4.650000e+06</td>\n",
       "      <td>52.000000</td>\n",
       "      <td>2.000000</td>\n",
       "      <td>2.650000</td>\n",
       "      <td>9.000000</td>\n",
       "      <td>30.000000</td>\n",
       "      <td>4.000000</td>\n",
       "      <td>9.100000</td>\n",
       "      <td>1.000000</td>\n",
       "      <td>26726.000000</td>\n",
       "      <td>13098.500000</td>\n",
       "      <td>0.000000</td>\n",
       "      <td>455.000000</td>\n",
       "      <td>1.000000</td>\n",
       "      <td>502.000000</td>\n",
       "      <td>95.000000</td>\n",
       "    </tr>\n",
       "    <tr>\n",
       "      <th>75%</th>\n",
       "      <td>14.000000</td>\n",
       "      <td>6.800000e+06</td>\n",
       "      <td>69.900000</td>\n",
       "      <td>3.000000</td>\n",
       "      <td>2.800000</td>\n",
       "      <td>16.000000</td>\n",
       "      <td>42.300000</td>\n",
       "      <td>8.000000</td>\n",
       "      <td>12.000000</td>\n",
       "      <td>2.000000</td>\n",
       "      <td>37273.000000</td>\n",
       "      <td>16293.000000</td>\n",
       "      <td>1.000000</td>\n",
       "      <td>612.000000</td>\n",
       "      <td>1.000000</td>\n",
       "      <td>729.000000</td>\n",
       "      <td>232.000000</td>\n",
       "    </tr>\n",
       "    <tr>\n",
       "      <th>max</th>\n",
       "      <td>50.000000</td>\n",
       "      <td>7.630000e+08</td>\n",
       "      <td>900.000000</td>\n",
       "      <td>19.000000</td>\n",
       "      <td>100.000000</td>\n",
       "      <td>60.000000</td>\n",
       "      <td>409.700000</td>\n",
       "      <td>33.000000</td>\n",
       "      <td>112.000000</td>\n",
       "      <td>5.000000</td>\n",
       "      <td>84869.000000</td>\n",
       "      <td>65968.000000</td>\n",
       "      <td>3.000000</td>\n",
       "      <td>3190.000000</td>\n",
       "      <td>3.000000</td>\n",
       "      <td>1344.000000</td>\n",
       "      <td>1580.000000</td>\n",
       "    </tr>\n",
       "  </tbody>\n",
       "</table>\n",
       "</div>"
      ],
      "text/plain": [
       "       total_images    last_price    total_area         rooms  ceiling_height  \\\n",
       "count  23699.000000  2.369900e+04  23699.000000  23699.000000    14504.000000   \n",
       "mean       9.858475  6.541549e+06     60.348651      2.070636        2.771499   \n",
       "std        5.682529  1.088701e+07     35.654083      1.078405        1.261056   \n",
       "min        0.000000  1.219000e+04     12.000000      0.000000        1.000000   \n",
       "25%        6.000000  3.400000e+06     40.000000      1.000000        2.520000   \n",
       "50%        9.000000  4.650000e+06     52.000000      2.000000        2.650000   \n",
       "75%       14.000000  6.800000e+06     69.900000      3.000000        2.800000   \n",
       "max       50.000000  7.630000e+08    900.000000     19.000000      100.000000   \n",
       "\n",
       "       floors_total   living_area         floor  kitchen_area       balcony  \\\n",
       "count  23613.000000  21796.000000  23699.000000  21421.000000  12180.000000   \n",
       "mean      10.673824     34.457852      5.892358     10.569807      1.150082   \n",
       "std        6.597173     22.030445      4.885249      5.905438      1.071300   \n",
       "min        1.000000      2.000000      1.000000      1.300000      0.000000   \n",
       "25%        5.000000     18.600000      2.000000      7.000000      0.000000   \n",
       "50%        9.000000     30.000000      4.000000      9.100000      1.000000   \n",
       "75%       16.000000     42.300000      8.000000     12.000000      2.000000   \n",
       "max       60.000000    409.700000     33.000000    112.000000      5.000000   \n",
       "\n",
       "       airports_nearest  cityCenters_nearest  parks_around3000  parks_nearest  \\\n",
       "count      18157.000000         18180.000000      18181.000000    8079.000000   \n",
       "mean       28793.672193         14191.277833          0.611408     490.804555   \n",
       "std        12630.880622          8608.386210          0.802074     342.317995   \n",
       "min            0.000000           181.000000          0.000000       1.000000   \n",
       "25%        18585.000000          9238.000000          0.000000     288.000000   \n",
       "50%        26726.000000         13098.500000          0.000000     455.000000   \n",
       "75%        37273.000000         16293.000000          1.000000     612.000000   \n",
       "max        84869.000000         65968.000000          3.000000    3190.000000   \n",
       "\n",
       "       ponds_around3000  ponds_nearest  days_exposition  \n",
       "count      18181.000000    9110.000000     20518.000000  \n",
       "mean           0.770255     517.980900       180.888634  \n",
       "std            0.938346     277.720643       219.727988  \n",
       "min            0.000000      13.000000         1.000000  \n",
       "25%            0.000000     294.000000        45.000000  \n",
       "50%            1.000000     502.000000        95.000000  \n",
       "75%            1.000000     729.000000       232.000000  \n",
       "max            3.000000    1344.000000      1580.000000  "
      ]
     },
     "execution_count": 98,
     "metadata": {},
     "output_type": "execute_result"
    }
   ],
   "source": [
    "import pandas as pd\n",
    "import matplotlib.pyplot as plt\n",
    "\n",
    "try:\n",
    "    data = pd.read_csv('/datasets/real_estate_data.csv', sep='\\t')\n",
    "except:\n",
    "    data = pd.read_csv('real_estate_data.csv', sep='\\t')\n",
    "\n",
    "data.head()\n",
    "\n",
    "data.info()\n",
    "\n",
    "print('\\nЧисло дубликатов:', data.duplicated().sum())\n",
    "data.describe()"
   ]
  },
  {
   "cell_type": "code",
   "execution_count": 99,
   "metadata": {},
   "outputs": [
    {
     "name": "stdout",
     "output_type": "stream",
     "text": [
      "<class 'pandas.core.frame.DataFrame'>\n",
      "RangeIndex: 23699 entries, 0 to 23698\n",
      "Data columns (total 22 columns):\n",
      " #   Column                Non-Null Count  Dtype  \n",
      "---  ------                --------------  -----  \n",
      " 0   total_images          23699 non-null  int64  \n",
      " 1   last_price            23699 non-null  float64\n",
      " 2   total_area            23699 non-null  float64\n",
      " 3   first_day_exposition  23699 non-null  object \n",
      " 4   rooms                 23699 non-null  int64  \n",
      " 5   ceiling_height        14504 non-null  float64\n",
      " 6   floors_total          23613 non-null  float64\n",
      " 7   living_area           21796 non-null  float64\n",
      " 8   floor                 23699 non-null  int64  \n",
      " 9   is_apartment          2775 non-null   object \n",
      " 10  studio                23699 non-null  bool   \n",
      " 11  open_plan             23699 non-null  bool   \n",
      " 12  kitchen_area          21421 non-null  float64\n",
      " 13  balcony               12180 non-null  float64\n",
      " 14  locality_name         23650 non-null  object \n",
      " 15  airports_nearest      18157 non-null  float64\n",
      " 16  cityCenters_nearest   18180 non-null  float64\n",
      " 17  parks_around3000      18181 non-null  float64\n",
      " 18  parks_nearest         8079 non-null   float64\n",
      " 19  ponds_around3000      18181 non-null  float64\n",
      " 20  ponds_nearest         9110 non-null   float64\n",
      " 21  days_exposition       20518 non-null  float64\n",
      "dtypes: bool(2), float64(14), int64(3), object(3)\n",
      "memory usage: 3.7+ MB\n"
     ]
    }
   ],
   "source": [
    "# Посмотрим типы данных и количество нулевых значений\n",
    "data.info()"
   ]
  },
  {
   "cell_type": "markdown",
   "metadata": {},
   "source": [
    "Замечено следующее:\n",
    "\n",
    "1. first_day_exposition - object - должен быть тип datetime ++\n",
    "2. ceiling_height - нулевые значения ++\n",
    "3. floors_total - должен быть тип int, т.к. количество этажей - целое значение + нулевые значения ++\n",
    "4. is_apartment - должен быть тип bool + нулевые значения ++\n",
    "5. living_area - нулевые значения ++\n",
    "6. kitchen_area - нулевые значения\n",
    "7. balcony - нулевые значения ++\n",
    "8. locality_name - нулевые значения ++\n",
    "9. airports_nearest - нулевые значения\n",
    "10. cityCenters_nearest - нулевые значения\n",
    "11. parks_around3000 - тип должен быть int + нулевые значения\n",
    "12. parks_nearest - нулевые значения\n",
    "13. ponds_around3000 - тип должен быть int + нулевые значения\n",
    "14. ponds_nearest - нулевые значения\n",
    "15. days_exposition - тип должен быть int + нулевые значения ++"
   ]
  },
  {
   "cell_type": "code",
   "execution_count": 100,
   "metadata": {},
   "outputs": [
    {
     "data": {
      "text/plain": [
       "array([[<AxesSubplot:title={'center':'total_images'}>,\n",
       "        <AxesSubplot:title={'center':'last_price'}>,\n",
       "        <AxesSubplot:title={'center':'total_area'}>,\n",
       "        <AxesSubplot:title={'center':'rooms'}>],\n",
       "       [<AxesSubplot:title={'center':'ceiling_height'}>,\n",
       "        <AxesSubplot:title={'center':'floors_total'}>,\n",
       "        <AxesSubplot:title={'center':'living_area'}>,\n",
       "        <AxesSubplot:title={'center':'floor'}>],\n",
       "       [<AxesSubplot:title={'center':'kitchen_area'}>,\n",
       "        <AxesSubplot:title={'center':'balcony'}>,\n",
       "        <AxesSubplot:title={'center':'airports_nearest'}>,\n",
       "        <AxesSubplot:title={'center':'cityCenters_nearest'}>],\n",
       "       [<AxesSubplot:title={'center':'parks_around3000'}>,\n",
       "        <AxesSubplot:title={'center':'parks_nearest'}>,\n",
       "        <AxesSubplot:title={'center':'ponds_around3000'}>,\n",
       "        <AxesSubplot:title={'center':'ponds_nearest'}>],\n",
       "       [<AxesSubplot:title={'center':'days_exposition'}>, <AxesSubplot:>,\n",
       "        <AxesSubplot:>, <AxesSubplot:>]], dtype=object)"
      ]
     },
     "execution_count": 100,
     "metadata": {},
     "output_type": "execute_result"
    },
    {
     "data": {
      "image/png": "[encoded data removed]",
      "text/plain": [
       "<Figure size 1080x1440 with 20 Axes>"
      ]
     },
     "metadata": {
      "needs_background": "light"
     },
     "output_type": "display_data"
    }
   ],
   "source": [
    "data.hist(figsize=(15, 20))"
   ]
  },
  {
   "cell_type": "markdown",
   "metadata": {},
   "source": [
    "<div class=\"alert alert-success\">\n",
    "\n",
    "**✔️ Комментарий ревьюера ✔️**\n",
    "   \n",
    "   Хорошо. Приступаем к предобработке\n",
    "\n",
    "</div>\n"
   ]
  },
  {
   "cell_type": "markdown",
   "metadata": {},
   "source": [
    "### Предобработка данных"
   ]
  },
  {
   "cell_type": "code",
   "execution_count": 101,
   "metadata": {},
   "outputs": [
    {
     "name": "stdout",
     "output_type": "stream",
     "text": [
      "Index(['total_images', 'last_price', 'total_area', 'first_day_exposition',\n",
      "       'rooms', 'ceiling_height', 'floors_total', 'living_area', 'floor',\n",
      "       'is_apartment', 'studio', 'open_plan', 'kitchen_area', 'balcony',\n",
      "       'locality_name', 'airports_nearest', 'cityCenters_nearest',\n",
      "       'parks_around3000', 'parks_nearest', 'ponds_around3000',\n",
      "       'ponds_nearest', 'days_exposition'],\n",
      "      dtype='object')\n"
     ]
    },
    {
     "data": {
      "text/plain": [
       "427.0     70\n",
       "454.0     41\n",
       "153.0     40\n",
       "433.0     39\n",
       "564.0     37\n",
       "          ..\n",
       "1075.0     1\n",
       "74.0       1\n",
       "1236.0     1\n",
       "395.0      1\n",
       "995.0      1\n",
       "Name: ponds_nearest, Length: 1096, dtype: int64"
      ]
     },
     "execution_count": 101,
     "metadata": {},
     "output_type": "execute_result"
    }
   ],
   "source": [
    "# Посмотрим значения в столбцах для выявления нестандартных значений на первый взгляд и ошибок\n",
    "\n",
    "print(data.columns)\n",
    "\n",
    "# Все столбцы оставляем как есть\n",
    "data['total_images'].value_counts()\n",
    "data['ceiling_height'].value_counts()\n",
    "data['floor'].value_counts()\n",
    "data['is_apartment'].value_counts()\n",
    "data['total_area'].value_counts()\n",
    "data['rooms'].value_counts()\n",
    "data['airports_nearest'].value_counts()\n",
    "data['cityCenters_nearest'].value_counts()\n",
    "data['parks_around3000'].value_counts()\n",
    "data['parks_nearest'].value_counts()\n",
    "data['ponds_around3000'].value_counts()\n",
    "data['ponds_nearest'].value_counts()"
   ]
  },
  {
   "cell_type": "code",
   "execution_count": 102,
   "metadata": {},
   "outputs": [
    {
     "data": {
      "text/plain": [
       "total_images                0\n",
       "last_price                  0\n",
       "total_area                  0\n",
       "first_day_exposition        0\n",
       "rooms                       0\n",
       "ceiling_height           9195\n",
       "floors_total               86\n",
       "living_area              1903\n",
       "floor                       0\n",
       "is_apartment                0\n",
       "studio                      0\n",
       "open_plan                   0\n",
       "kitchen_area             2278\n",
       "balcony                     0\n",
       "locality_name              49\n",
       "airports_nearest         5542\n",
       "cityCenters_nearest      5519\n",
       "parks_around3000            0\n",
       "parks_nearest           15620\n",
       "ponds_around3000            0\n",
       "ponds_nearest           14589\n",
       "days_exposition          3181\n",
       "dtype: int64"
      ]
     },
     "execution_count": 102,
     "metadata": {},
     "output_type": "execute_result"
    }
   ],
   "source": [
    "# Столбец апартаменты, возможно, появился не с самого начала ведения записей\n",
    "# Заменим все пропущенные значения на False\n",
    "data['is_apartment'] = data['is_apartment'].fillna(False)\n",
    "\n",
    "# Изменим цену на тип int для удобства\n",
    "data['last_price'] = data['last_price'].astype('int')\n",
    "\n",
    "# Заменим пропуски в days_exposition и изменим тип данных\n",
    "#data['days_exposition'] = data['days_exposition'].fillna(0).astype('int')\n",
    "\n",
    "# Переведем столбец с датой в формат даты без времени, так как время не указано\n",
    "data['first_day_exposition'] = pd.to_datetime(data['first_day_exposition'], format = '%Y-%m-%d')\n",
    "\n",
    "# Заменим пропуски в balcony на 0 и изменим тип данных на int\n",
    "data['balcony'] = data['balcony'].fillna(0).astype('int')\n",
    "\n",
    "# Приводим в целочисленный тип колличество парков. Заменяем пропущенные значения на 0\n",
    "data['parks_around3000'] = data['parks_around3000'].fillna(value=0).astype('int')\n",
    "\n",
    "# Приводим в целочисленный тип количество прудов. Заменяем пропущенные значения на 0\n",
    "data['ponds_around3000'] = data['ponds_around3000'].fillna(value=0).astype('int')\n",
    "\n",
    "# Смотрим количество пропущенных значений\n",
    "data.isnull().sum()\n"
   ]
  },
  {
   "cell_type": "markdown",
   "metadata": {},
   "source": [
    " <div class=\"alert alert-danger\">\n",
    "\n",
    "**❌ Комментарий ревьюера ❌**\n",
    "   \n",
    "   По столбцу `days_exposition` - Мы можем заполнять только те данные, которые пропущенны совершенно случайно. Иначе заполнение может повлиять на характер связи между заполняемой величиной и остальными. Попробуй рассмотреть распределение пропусков в данном столбце относительно года выставления квартиры на продажу. Какой вывод ты сможешь сделать? Являются ли данные пропуски случайными?\n",
    "    \n",
    "</div>"
   ]
  },
  {
   "cell_type": "markdown",
   "metadata": {},
   "source": [
    "<div class=\"alert alert-block alert-info\">\n",
    "    Пропуски в столбце days_exposition возможно вызваны тем, что объект еще не продан. Поэтому мы оставим данные как есть, а при выводе гистограммы исключим их. \n",
    "    Так же поступим и с выбросами 45, 60 и 90 дней так как, по данным сайта Яндекс Справка, именно в эти сроки объявления снимаются автоматически и программа могла защитать это как продажу. Срок, через который объявления будут сняты с публикации напрямую зависят от стоимости объекта.\n",
    "        В коде выше закомментировала дейсствия со столбцом days_exposition."
   ]
  },
  {
   "cell_type": "code",
   "execution_count": 105,
   "metadata": {},
   "outputs": [
    {
     "data": {
      "text/html": [
       "<div>\n",
       "<style scoped>\n",
       "    .dataframe tbody tr th:only-of-type {\n",
       "        vertical-align: middle;\n",
       "    }\n",
       "\n",
       "    .dataframe tbody tr th {\n",
       "        vertical-align: top;\n",
       "    }\n",
       "\n",
       "    .dataframe thead th {\n",
       "        text-align: right;\n",
       "    }\n",
       "</style>\n",
       "<table border=\"1\" class=\"dataframe\">\n",
       "  <thead>\n",
       "    <tr style=\"text-align: right;\">\n",
       "      <th></th>\n",
       "      <th>total_images</th>\n",
       "      <th>last_price</th>\n",
       "      <th>total_area</th>\n",
       "      <th>first_day_exposition</th>\n",
       "      <th>rooms</th>\n",
       "      <th>ceiling_height</th>\n",
       "      <th>floors_total</th>\n",
       "      <th>living_area</th>\n",
       "      <th>floor</th>\n",
       "      <th>is_apartment</th>\n",
       "      <th>...</th>\n",
       "      <th>kitchen_area</th>\n",
       "      <th>balcony</th>\n",
       "      <th>locality_name</th>\n",
       "      <th>airports_nearest</th>\n",
       "      <th>cityCenters_nearest</th>\n",
       "      <th>parks_around3000</th>\n",
       "      <th>parks_nearest</th>\n",
       "      <th>ponds_around3000</th>\n",
       "      <th>ponds_nearest</th>\n",
       "      <th>days_exposition</th>\n",
       "    </tr>\n",
       "  </thead>\n",
       "  <tbody>\n",
       "    <tr>\n",
       "      <th>12003</th>\n",
       "      <td>10</td>\n",
       "      <td>950000</td>\n",
       "      <td>37.10</td>\n",
       "      <td>2019-05-03</td>\n",
       "      <td>1</td>\n",
       "      <td>NaN</td>\n",
       "      <td>4.0</td>\n",
       "      <td>17.00</td>\n",
       "      <td>4</td>\n",
       "      <td>False</td>\n",
       "      <td>...</td>\n",
       "      <td>8.40</td>\n",
       "      <td>2</td>\n",
       "      <td>деревня Курковицы</td>\n",
       "      <td>NaN</td>\n",
       "      <td>NaN</td>\n",
       "      <td>0</td>\n",
       "      <td>NaN</td>\n",
       "      <td>0</td>\n",
       "      <td>NaN</td>\n",
       "      <td>NaN</td>\n",
       "    </tr>\n",
       "    <tr>\n",
       "      <th>14246</th>\n",
       "      <td>14</td>\n",
       "      <td>6200000</td>\n",
       "      <td>86.20</td>\n",
       "      <td>2019-05-03</td>\n",
       "      <td>3</td>\n",
       "      <td>NaN</td>\n",
       "      <td>10.0</td>\n",
       "      <td>49.50</td>\n",
       "      <td>7</td>\n",
       "      <td>False</td>\n",
       "      <td>...</td>\n",
       "      <td>17.00</td>\n",
       "      <td>0</td>\n",
       "      <td>деревня Куттузи</td>\n",
       "      <td>NaN</td>\n",
       "      <td>NaN</td>\n",
       "      <td>0</td>\n",
       "      <td>NaN</td>\n",
       "      <td>0</td>\n",
       "      <td>NaN</td>\n",
       "      <td>NaN</td>\n",
       "    </tr>\n",
       "    <tr>\n",
       "      <th>3254</th>\n",
       "      <td>16</td>\n",
       "      <td>8800000</td>\n",
       "      <td>80.00</td>\n",
       "      <td>2019-05-03</td>\n",
       "      <td>3</td>\n",
       "      <td>2.80</td>\n",
       "      <td>17.0</td>\n",
       "      <td>31.00</td>\n",
       "      <td>15</td>\n",
       "      <td>False</td>\n",
       "      <td>...</td>\n",
       "      <td>27.00</td>\n",
       "      <td>2</td>\n",
       "      <td>Кудрово</td>\n",
       "      <td>NaN</td>\n",
       "      <td>NaN</td>\n",
       "      <td>0</td>\n",
       "      <td>NaN</td>\n",
       "      <td>0</td>\n",
       "      <td>NaN</td>\n",
       "      <td>NaN</td>\n",
       "    </tr>\n",
       "    <tr>\n",
       "      <th>12343</th>\n",
       "      <td>12</td>\n",
       "      <td>2890000</td>\n",
       "      <td>48.80</td>\n",
       "      <td>2019-05-03</td>\n",
       "      <td>2</td>\n",
       "      <td>2.55</td>\n",
       "      <td>5.0</td>\n",
       "      <td>29.40</td>\n",
       "      <td>1</td>\n",
       "      <td>False</td>\n",
       "      <td>...</td>\n",
       "      <td>7.20</td>\n",
       "      <td>0</td>\n",
       "      <td>городской посёлок Рощино</td>\n",
       "      <td>NaN</td>\n",
       "      <td>NaN</td>\n",
       "      <td>0</td>\n",
       "      <td>NaN</td>\n",
       "      <td>0</td>\n",
       "      <td>NaN</td>\n",
       "      <td>NaN</td>\n",
       "    </tr>\n",
       "    <tr>\n",
       "      <th>5986</th>\n",
       "      <td>0</td>\n",
       "      <td>5000000</td>\n",
       "      <td>48.00</td>\n",
       "      <td>2019-05-03</td>\n",
       "      <td>3</td>\n",
       "      <td>2.50</td>\n",
       "      <td>9.0</td>\n",
       "      <td>NaN</td>\n",
       "      <td>2</td>\n",
       "      <td>False</td>\n",
       "      <td>...</td>\n",
       "      <td>NaN</td>\n",
       "      <td>0</td>\n",
       "      <td>Санкт-Петербург</td>\n",
       "      <td>51060.0</td>\n",
       "      <td>16892.0</td>\n",
       "      <td>0</td>\n",
       "      <td>NaN</td>\n",
       "      <td>0</td>\n",
       "      <td>NaN</td>\n",
       "      <td>NaN</td>\n",
       "    </tr>\n",
       "    <tr>\n",
       "      <th>12380</th>\n",
       "      <td>9</td>\n",
       "      <td>3900000</td>\n",
       "      <td>35.60</td>\n",
       "      <td>2019-05-03</td>\n",
       "      <td>1</td>\n",
       "      <td>2.50</td>\n",
       "      <td>12.0</td>\n",
       "      <td>18.00</td>\n",
       "      <td>12</td>\n",
       "      <td>False</td>\n",
       "      <td>...</td>\n",
       "      <td>10.80</td>\n",
       "      <td>2</td>\n",
       "      <td>Санкт-Петербург</td>\n",
       "      <td>41522.0</td>\n",
       "      <td>12331.0</td>\n",
       "      <td>2</td>\n",
       "      <td>371.0</td>\n",
       "      <td>0</td>\n",
       "      <td>NaN</td>\n",
       "      <td>NaN</td>\n",
       "    </tr>\n",
       "    <tr>\n",
       "      <th>13993</th>\n",
       "      <td>6</td>\n",
       "      <td>3300000</td>\n",
       "      <td>43.00</td>\n",
       "      <td>2019-05-03</td>\n",
       "      <td>1</td>\n",
       "      <td>2.60</td>\n",
       "      <td>17.0</td>\n",
       "      <td>18.00</td>\n",
       "      <td>3</td>\n",
       "      <td>False</td>\n",
       "      <td>...</td>\n",
       "      <td>10.50</td>\n",
       "      <td>0</td>\n",
       "      <td>Колпино</td>\n",
       "      <td>28554.0</td>\n",
       "      <td>34341.0</td>\n",
       "      <td>0</td>\n",
       "      <td>NaN</td>\n",
       "      <td>3</td>\n",
       "      <td>287.0</td>\n",
       "      <td>NaN</td>\n",
       "    </tr>\n",
       "    <tr>\n",
       "      <th>17551</th>\n",
       "      <td>7</td>\n",
       "      <td>3200000</td>\n",
       "      <td>45.60</td>\n",
       "      <td>2019-05-03</td>\n",
       "      <td>2</td>\n",
       "      <td>NaN</td>\n",
       "      <td>5.0</td>\n",
       "      <td>30.90</td>\n",
       "      <td>5</td>\n",
       "      <td>False</td>\n",
       "      <td>...</td>\n",
       "      <td>5.60</td>\n",
       "      <td>1</td>\n",
       "      <td>Сосновый Бор</td>\n",
       "      <td>NaN</td>\n",
       "      <td>NaN</td>\n",
       "      <td>0</td>\n",
       "      <td>NaN</td>\n",
       "      <td>0</td>\n",
       "      <td>NaN</td>\n",
       "      <td>NaN</td>\n",
       "    </tr>\n",
       "    <tr>\n",
       "      <th>8170</th>\n",
       "      <td>4</td>\n",
       "      <td>3280000</td>\n",
       "      <td>38.19</td>\n",
       "      <td>2019-05-03</td>\n",
       "      <td>1</td>\n",
       "      <td>NaN</td>\n",
       "      <td>6.0</td>\n",
       "      <td>14.41</td>\n",
       "      <td>4</td>\n",
       "      <td>False</td>\n",
       "      <td>...</td>\n",
       "      <td>10.26</td>\n",
       "      <td>0</td>\n",
       "      <td>городской посёлок Новоселье</td>\n",
       "      <td>NaN</td>\n",
       "      <td>NaN</td>\n",
       "      <td>0</td>\n",
       "      <td>NaN</td>\n",
       "      <td>0</td>\n",
       "      <td>NaN</td>\n",
       "      <td>NaN</td>\n",
       "    </tr>\n",
       "    <tr>\n",
       "      <th>9217</th>\n",
       "      <td>7</td>\n",
       "      <td>4300000</td>\n",
       "      <td>35.70</td>\n",
       "      <td>2019-05-03</td>\n",
       "      <td>1</td>\n",
       "      <td>2.70</td>\n",
       "      <td>21.0</td>\n",
       "      <td>15.00</td>\n",
       "      <td>12</td>\n",
       "      <td>False</td>\n",
       "      <td>...</td>\n",
       "      <td>13.00</td>\n",
       "      <td>2</td>\n",
       "      <td>Мурино</td>\n",
       "      <td>NaN</td>\n",
       "      <td>NaN</td>\n",
       "      <td>0</td>\n",
       "      <td>NaN</td>\n",
       "      <td>0</td>\n",
       "      <td>NaN</td>\n",
       "      <td>NaN</td>\n",
       "    </tr>\n",
       "    <tr>\n",
       "      <th>14424</th>\n",
       "      <td>1</td>\n",
       "      <td>14500000</td>\n",
       "      <td>91.40</td>\n",
       "      <td>2019-05-03</td>\n",
       "      <td>3</td>\n",
       "      <td>3.00</td>\n",
       "      <td>5.0</td>\n",
       "      <td>50.50</td>\n",
       "      <td>3</td>\n",
       "      <td>False</td>\n",
       "      <td>...</td>\n",
       "      <td>23.00</td>\n",
       "      <td>0</td>\n",
       "      <td>Санкт-Петербург</td>\n",
       "      <td>23783.0</td>\n",
       "      <td>3350.0</td>\n",
       "      <td>3</td>\n",
       "      <td>190.0</td>\n",
       "      <td>3</td>\n",
       "      <td>144.0</td>\n",
       "      <td>NaN</td>\n",
       "    </tr>\n",
       "    <tr>\n",
       "      <th>13746</th>\n",
       "      <td>10</td>\n",
       "      <td>7790000</td>\n",
       "      <td>42.30</td>\n",
       "      <td>2019-05-03</td>\n",
       "      <td>1</td>\n",
       "      <td>NaN</td>\n",
       "      <td>17.0</td>\n",
       "      <td>18.80</td>\n",
       "      <td>9</td>\n",
       "      <td>False</td>\n",
       "      <td>...</td>\n",
       "      <td>11.70</td>\n",
       "      <td>2</td>\n",
       "      <td>Санкт-Петербург</td>\n",
       "      <td>39065.0</td>\n",
       "      <td>12241.0</td>\n",
       "      <td>1</td>\n",
       "      <td>192.0</td>\n",
       "      <td>0</td>\n",
       "      <td>NaN</td>\n",
       "      <td>NaN</td>\n",
       "    </tr>\n",
       "    <tr>\n",
       "      <th>4450</th>\n",
       "      <td>13</td>\n",
       "      <td>3500000</td>\n",
       "      <td>34.60</td>\n",
       "      <td>2019-05-03</td>\n",
       "      <td>1</td>\n",
       "      <td>2.50</td>\n",
       "      <td>5.0</td>\n",
       "      <td>19.40</td>\n",
       "      <td>3</td>\n",
       "      <td>False</td>\n",
       "      <td>...</td>\n",
       "      <td>7.30</td>\n",
       "      <td>2</td>\n",
       "      <td>Пушкин</td>\n",
       "      <td>13107.0</td>\n",
       "      <td>25261.0</td>\n",
       "      <td>1</td>\n",
       "      <td>361.0</td>\n",
       "      <td>0</td>\n",
       "      <td>NaN</td>\n",
       "      <td>NaN</td>\n",
       "    </tr>\n",
       "    <tr>\n",
       "      <th>12208</th>\n",
       "      <td>7</td>\n",
       "      <td>9000000</td>\n",
       "      <td>60.30</td>\n",
       "      <td>2019-05-03</td>\n",
       "      <td>2</td>\n",
       "      <td>3.25</td>\n",
       "      <td>5.0</td>\n",
       "      <td>36.90</td>\n",
       "      <td>4</td>\n",
       "      <td>False</td>\n",
       "      <td>...</td>\n",
       "      <td>5.80</td>\n",
       "      <td>4</td>\n",
       "      <td>Санкт-Петербург</td>\n",
       "      <td>32302.0</td>\n",
       "      <td>4662.0</td>\n",
       "      <td>1</td>\n",
       "      <td>398.0</td>\n",
       "      <td>0</td>\n",
       "      <td>NaN</td>\n",
       "      <td>NaN</td>\n",
       "    </tr>\n",
       "    <tr>\n",
       "      <th>2178</th>\n",
       "      <td>10</td>\n",
       "      <td>5100000</td>\n",
       "      <td>51.00</td>\n",
       "      <td>2019-05-03</td>\n",
       "      <td>1</td>\n",
       "      <td>NaN</td>\n",
       "      <td>9.0</td>\n",
       "      <td>15.00</td>\n",
       "      <td>2</td>\n",
       "      <td>False</td>\n",
       "      <td>...</td>\n",
       "      <td>25.00</td>\n",
       "      <td>0</td>\n",
       "      <td>Кудрово</td>\n",
       "      <td>NaN</td>\n",
       "      <td>NaN</td>\n",
       "      <td>0</td>\n",
       "      <td>NaN</td>\n",
       "      <td>0</td>\n",
       "      <td>NaN</td>\n",
       "      <td>NaN</td>\n",
       "    </tr>\n",
       "    <tr>\n",
       "      <th>15072</th>\n",
       "      <td>5</td>\n",
       "      <td>1400000</td>\n",
       "      <td>34.00</td>\n",
       "      <td>2019-05-03</td>\n",
       "      <td>1</td>\n",
       "      <td>2.50</td>\n",
       "      <td>5.0</td>\n",
       "      <td>NaN</td>\n",
       "      <td>2</td>\n",
       "      <td>False</td>\n",
       "      <td>...</td>\n",
       "      <td>7.00</td>\n",
       "      <td>0</td>\n",
       "      <td>Кириши</td>\n",
       "      <td>NaN</td>\n",
       "      <td>NaN</td>\n",
       "      <td>0</td>\n",
       "      <td>NaN</td>\n",
       "      <td>0</td>\n",
       "      <td>NaN</td>\n",
       "      <td>NaN</td>\n",
       "    </tr>\n",
       "    <tr>\n",
       "      <th>21887</th>\n",
       "      <td>0</td>\n",
       "      <td>5600000</td>\n",
       "      <td>61.60</td>\n",
       "      <td>2019-05-03</td>\n",
       "      <td>3</td>\n",
       "      <td>2.50</td>\n",
       "      <td>9.0</td>\n",
       "      <td>42.00</td>\n",
       "      <td>5</td>\n",
       "      <td>False</td>\n",
       "      <td>...</td>\n",
       "      <td>8.30</td>\n",
       "      <td>0</td>\n",
       "      <td>Санкт-Петербург</td>\n",
       "      <td>36326.0</td>\n",
       "      <td>10641.0</td>\n",
       "      <td>1</td>\n",
       "      <td>637.0</td>\n",
       "      <td>0</td>\n",
       "      <td>NaN</td>\n",
       "      <td>NaN</td>\n",
       "    </tr>\n",
       "    <tr>\n",
       "      <th>17872</th>\n",
       "      <td>3</td>\n",
       "      <td>4650000</td>\n",
       "      <td>34.80</td>\n",
       "      <td>2019-05-03</td>\n",
       "      <td>1</td>\n",
       "      <td>2.50</td>\n",
       "      <td>9.0</td>\n",
       "      <td>13.90</td>\n",
       "      <td>1</td>\n",
       "      <td>False</td>\n",
       "      <td>...</td>\n",
       "      <td>11.20</td>\n",
       "      <td>0</td>\n",
       "      <td>Санкт-Петербург</td>\n",
       "      <td>12384.0</td>\n",
       "      <td>12296.0</td>\n",
       "      <td>0</td>\n",
       "      <td>NaN</td>\n",
       "      <td>1</td>\n",
       "      <td>396.0</td>\n",
       "      <td>NaN</td>\n",
       "    </tr>\n",
       "    <tr>\n",
       "      <th>10917</th>\n",
       "      <td>20</td>\n",
       "      <td>10000000</td>\n",
       "      <td>62.30</td>\n",
       "      <td>2019-05-03</td>\n",
       "      <td>2</td>\n",
       "      <td>NaN</td>\n",
       "      <td>6.0</td>\n",
       "      <td>20.00</td>\n",
       "      <td>3</td>\n",
       "      <td>False</td>\n",
       "      <td>...</td>\n",
       "      <td>30.00</td>\n",
       "      <td>0</td>\n",
       "      <td>Санкт-Петербург</td>\n",
       "      <td>25083.0</td>\n",
       "      <td>3148.0</td>\n",
       "      <td>2</td>\n",
       "      <td>629.0</td>\n",
       "      <td>0</td>\n",
       "      <td>NaN</td>\n",
       "      <td>NaN</td>\n",
       "    </tr>\n",
       "    <tr>\n",
       "      <th>15881</th>\n",
       "      <td>9</td>\n",
       "      <td>2100000</td>\n",
       "      <td>35.80</td>\n",
       "      <td>2019-05-03</td>\n",
       "      <td>1</td>\n",
       "      <td>2.50</td>\n",
       "      <td>5.0</td>\n",
       "      <td>18.00</td>\n",
       "      <td>5</td>\n",
       "      <td>False</td>\n",
       "      <td>...</td>\n",
       "      <td>7.00</td>\n",
       "      <td>1</td>\n",
       "      <td>посёлок Ленинское</td>\n",
       "      <td>NaN</td>\n",
       "      <td>NaN</td>\n",
       "      <td>0</td>\n",
       "      <td>NaN</td>\n",
       "      <td>0</td>\n",
       "      <td>NaN</td>\n",
       "      <td>NaN</td>\n",
       "    </tr>\n",
       "  </tbody>\n",
       "</table>\n",
       "<p>20 rows × 22 columns</p>\n",
       "</div>"
      ],
      "text/plain": [
       "       total_images  last_price  total_area first_day_exposition  rooms  \\\n",
       "12003            10      950000       37.10           2019-05-03      1   \n",
       "14246            14     6200000       86.20           2019-05-03      3   \n",
       "3254             16     8800000       80.00           2019-05-03      3   \n",
       "12343            12     2890000       48.80           2019-05-03      2   \n",
       "5986              0     5000000       48.00           2019-05-03      3   \n",
       "12380             9     3900000       35.60           2019-05-03      1   \n",
       "13993             6     3300000       43.00           2019-05-03      1   \n",
       "17551             7     3200000       45.60           2019-05-03      2   \n",
       "8170              4     3280000       38.19           2019-05-03      1   \n",
       "9217              7     4300000       35.70           2019-05-03      1   \n",
       "14424             1    14500000       91.40           2019-05-03      3   \n",
       "13746            10     7790000       42.30           2019-05-03      1   \n",
       "4450             13     3500000       34.60           2019-05-03      1   \n",
       "12208             7     9000000       60.30           2019-05-03      2   \n",
       "2178             10     5100000       51.00           2019-05-03      1   \n",
       "15072             5     1400000       34.00           2019-05-03      1   \n",
       "21887             0     5600000       61.60           2019-05-03      3   \n",
       "17872             3     4650000       34.80           2019-05-03      1   \n",
       "10917            20    10000000       62.30           2019-05-03      2   \n",
       "15881             9     2100000       35.80           2019-05-03      1   \n",
       "\n",
       "       ceiling_height  floors_total  living_area  floor  is_apartment  ...  \\\n",
       "12003             NaN           4.0        17.00      4         False  ...   \n",
       "14246             NaN          10.0        49.50      7         False  ...   \n",
       "3254             2.80          17.0        31.00     15         False  ...   \n",
       "12343            2.55           5.0        29.40      1         False  ...   \n",
       "5986             2.50           9.0          NaN      2         False  ...   \n",
       "12380            2.50          12.0        18.00     12         False  ...   \n",
       "13993            2.60          17.0        18.00      3         False  ...   \n",
       "17551             NaN           5.0        30.90      5         False  ...   \n",
       "8170              NaN           6.0        14.41      4         False  ...   \n",
       "9217             2.70          21.0        15.00     12         False  ...   \n",
       "14424            3.00           5.0        50.50      3         False  ...   \n",
       "13746             NaN          17.0        18.80      9         False  ...   \n",
       "4450             2.50           5.0        19.40      3         False  ...   \n",
       "12208            3.25           5.0        36.90      4         False  ...   \n",
       "2178              NaN           9.0        15.00      2         False  ...   \n",
       "15072            2.50           5.0          NaN      2         False  ...   \n",
       "21887            2.50           9.0        42.00      5         False  ...   \n",
       "17872            2.50           9.0        13.90      1         False  ...   \n",
       "10917             NaN           6.0        20.00      3         False  ...   \n",
       "15881            2.50           5.0        18.00      5         False  ...   \n",
       "\n",
       "       kitchen_area  balcony                locality_name  airports_nearest  \\\n",
       "12003          8.40        2            деревня Курковицы               NaN   \n",
       "14246         17.00        0              деревня Куттузи               NaN   \n",
       "3254          27.00        2                      Кудрово               NaN   \n",
       "12343          7.20        0     городской посёлок Рощино               NaN   \n",
       "5986            NaN        0              Санкт-Петербург           51060.0   \n",
       "12380         10.80        2              Санкт-Петербург           41522.0   \n",
       "13993         10.50        0                      Колпино           28554.0   \n",
       "17551          5.60        1                 Сосновый Бор               NaN   \n",
       "8170          10.26        0  городской посёлок Новоселье               NaN   \n",
       "9217          13.00        2                       Мурино               NaN   \n",
       "14424         23.00        0              Санкт-Петербург           23783.0   \n",
       "13746         11.70        2              Санкт-Петербург           39065.0   \n",
       "4450           7.30        2                       Пушкин           13107.0   \n",
       "12208          5.80        4              Санкт-Петербург           32302.0   \n",
       "2178          25.00        0                      Кудрово               NaN   \n",
       "15072          7.00        0                       Кириши               NaN   \n",
       "21887          8.30        0              Санкт-Петербург           36326.0   \n",
       "17872         11.20        0              Санкт-Петербург           12384.0   \n",
       "10917         30.00        0              Санкт-Петербург           25083.0   \n",
       "15881          7.00        1            посёлок Ленинское               NaN   \n",
       "\n",
       "      cityCenters_nearest  parks_around3000  parks_nearest  ponds_around3000  \\\n",
       "12003                 NaN                 0            NaN                 0   \n",
       "14246                 NaN                 0            NaN                 0   \n",
       "3254                  NaN                 0            NaN                 0   \n",
       "12343                 NaN                 0            NaN                 0   \n",
       "5986              16892.0                 0            NaN                 0   \n",
       "12380             12331.0                 2          371.0                 0   \n",
       "13993             34341.0                 0            NaN                 3   \n",
       "17551                 NaN                 0            NaN                 0   \n",
       "8170                  NaN                 0            NaN                 0   \n",
       "9217                  NaN                 0            NaN                 0   \n",
       "14424              3350.0                 3          190.0                 3   \n",
       "13746             12241.0                 1          192.0                 0   \n",
       "4450              25261.0                 1          361.0                 0   \n",
       "12208              4662.0                 1          398.0                 0   \n",
       "2178                  NaN                 0            NaN                 0   \n",
       "15072                 NaN                 0            NaN                 0   \n",
       "21887             10641.0                 1          637.0                 0   \n",
       "17872             12296.0                 0            NaN                 1   \n",
       "10917              3148.0                 2          629.0                 0   \n",
       "15881                 NaN                 0            NaN                 0   \n",
       "\n",
       "       ponds_nearest  days_exposition  \n",
       "12003            NaN              NaN  \n",
       "14246            NaN              NaN  \n",
       "3254             NaN              NaN  \n",
       "12343            NaN              NaN  \n",
       "5986             NaN              NaN  \n",
       "12380            NaN              NaN  \n",
       "13993          287.0              NaN  \n",
       "17551            NaN              NaN  \n",
       "8170             NaN              NaN  \n",
       "9217             NaN              NaN  \n",
       "14424          144.0              NaN  \n",
       "13746            NaN              NaN  \n",
       "4450             NaN              NaN  \n",
       "12208            NaN              NaN  \n",
       "2178             NaN              NaN  \n",
       "15072            NaN              NaN  \n",
       "21887            NaN              NaN  \n",
       "17872          396.0              NaN  \n",
       "10917            NaN              NaN  \n",
       "15881            NaN              NaN  \n",
       "\n",
       "[20 rows x 22 columns]"
      ]
     },
     "execution_count": 105,
     "metadata": {},
     "output_type": "execute_result"
    }
   ],
   "source": [
    "data.sort_values('first_day_exposition', ascending=False).head(20)"
   ]
  },
  {
   "cell_type": "code",
   "execution_count": 169,
   "metadata": {},
   "outputs": [
    {
     "data": {
      "text/plain": [
       "0         True\n",
       "1        False\n",
       "2        False\n",
       "3        False\n",
       "4        False\n",
       "         ...  \n",
       "23694     True\n",
       "23695    False\n",
       "23696     True\n",
       "23697    False\n",
       "23698     True\n",
       "Name: days_exposition, Length: 23565, dtype: bool"
      ]
     },
     "execution_count": 169,
     "metadata": {},
     "output_type": "execute_result"
    }
   ],
   "source": [
    "data['days_exposition'].isna()\n"
   ]
  },
  {
   "cell_type": "code",
   "execution_count": 110,
   "metadata": {},
   "outputs": [],
   "source": [
    "# Заменяем оставшиеся пустые значения высоты потолков на медианное значение по всему датасету\n",
    "#data['ceiling_height'] = data.groupby(['locality_name', 'floors_total'])['ceiling_height'].apply(lambda x: x.fillna(x.median()))\n",
    "#data['ceiling_height'].fillna(data['ceiling_height'].median(), inplace=True)\n"
   ]
  },
  {
   "cell_type": "markdown",
   "metadata": {},
   "source": [
    "<div class=\"alert alert-danger\">\n",
    "\n",
    "**❌ Комментарий ревьюера ❌**\n",
    "   \n",
    "   \n",
    "   По столбцу `ceiling_height` - рекомендую рассмотреть аномальные значения, большие, чем 10м - может быть, продавцы ошиблись на порядок, заполняя данные? Это можно исправить. После этого рекомендую заполнить пропуски в столбце медианным значением - оно будет уже не так сильно подвержено выбросам\n",
    "</div> "
   ]
  },
  {
   "cell_type": "markdown",
   "metadata": {},
   "source": [
    "<div class=\"alert alert-block alert-info\">\n",
    "Попробовала исправить значения больше 10м. Возможно при заполнении забыли поставить плавающую точку и получились потолки по 27/ 32 метра."
   ]
  },
  {
   "cell_type": "code",
   "execution_count": 111,
   "metadata": {},
   "outputs": [
    {
     "data": {
      "text/plain": [
       "23634   NaN\n",
       "23636   NaN\n",
       "23637   NaN\n",
       "23638   NaN\n",
       "23643   NaN\n",
       "23651   NaN\n",
       "23657   NaN\n",
       "23665   NaN\n",
       "23666   NaN\n",
       "23669   NaN\n",
       "23672   NaN\n",
       "23674   NaN\n",
       "23675   NaN\n",
       "23676   NaN\n",
       "23679   NaN\n",
       "23687   NaN\n",
       "23690   NaN\n",
       "23692   NaN\n",
       "23695   NaN\n",
       "23696   NaN\n",
       "Name: ceiling_height, dtype: float64"
      ]
     },
     "execution_count": 111,
     "metadata": {},
     "output_type": "execute_result"
    }
   ],
   "source": [
    "# Посмотрим на максимальные значения в эотм столбце\n",
    "data['ceiling_height'].sort_values().tail(20)"
   ]
  },
  {
   "cell_type": "code",
   "execution_count": 173,
   "metadata": {},
   "outputs": [],
   "source": [
    "data.update(data[(data['ceiling_height'] > 10) & (data['ceiling_height'] <= 100)]['ceiling_height']/10)"
   ]
  },
  {
   "cell_type": "code",
   "execution_count": 113,
   "metadata": {},
   "outputs": [
    {
     "data": {
      "text/plain": [
       "3067      4.50\n",
       "13224     4.50\n",
       "12401     4.65\n",
       "1300      4.70\n",
       "19142     4.70\n",
       "2802      4.80\n",
       "21923     4.90\n",
       "1053      5.00\n",
       "464       5.20\n",
       "1026      5.30\n",
       "12628     5.30\n",
       "7578      5.50\n",
       "1388      5.60\n",
       "21227     5.80\n",
       "20264     6.00\n",
       "17442     8.00\n",
       "15743     8.00\n",
       "3474      8.00\n",
       "5863      8.30\n",
       "22869    10.00\n",
       "Name: ceiling_height, dtype: float64"
      ]
     },
     "execution_count": 113,
     "metadata": {},
     "output_type": "execute_result"
    }
   ],
   "source": [
    "# Теперь рассчитаем медианное значение и заполним им пропуски\n",
    "ch_median = data['ceiling_height'].median()\n",
    "\n",
    "data['ceiling_height'] = data['ceiling_height'].fillna(ch_median)\n",
    "data['ceiling_height'].sort_values().tail(20)"
   ]
  },
  {
   "cell_type": "code",
   "execution_count": 114,
   "metadata": {},
   "outputs": [],
   "source": [
    "# Заменяем пустые значения жилой площади и площади кухни\n",
    "#living_ratio = data['living_area'].mean() / data['total_area'].mean()\n",
    "#kitchen_ratio = data['kitchen_area'].mean() / data['total_area'].mean()\n",
    "#data['living_area'].fillna(living_ratio * data['total_area'], inplace=True)\n",
    "#data['kitchen_area'].fillna(kitchen_ratio * data['total_area'], inplace=True)\n"
   ]
  },
  {
   "cell_type": "markdown",
   "metadata": {},
   "source": [
    "<div class=\"alert alert-success\">\n",
    "\n",
    "**✔️ Комментарий ревьюера ✔️**\n",
    "   \n",
    "   Хорошо, только рекомендую вместо среднего mean использовать медианное median - оно меньше подвержено выбросам\n",
    "\n",
    "</div>\n"
   ]
  },
  {
   "cell_type": "markdown",
   "metadata": {},
   "source": [
    "<div class=\"alert alert-block alert-info\">\n",
    "    \n",
    "Исправила mean на median."
   ]
  },
  {
   "cell_type": "code",
   "execution_count": 115,
   "metadata": {},
   "outputs": [],
   "source": [
    "# Заменяем пустые значения жилой площади и площади кухни\n",
    "living_ratio = data['living_area'].median() / data['total_area'].median()\n",
    "kitchen_ratio = data['kitchen_area'].median() / data['total_area'].median()\n",
    "data['living_area'].fillna(living_ratio * data['total_area'], inplace=True)\n",
    "data['kitchen_area'].fillna(kitchen_ratio * data['total_area'], inplace=True)"
   ]
  },
  {
   "cell_type": "code",
   "execution_count": 116,
   "metadata": {},
   "outputs": [
    {
     "data": {
      "text/html": [
       "<div>\n",
       "<style scoped>\n",
       "    .dataframe tbody tr th:only-of-type {\n",
       "        vertical-align: middle;\n",
       "    }\n",
       "\n",
       "    .dataframe tbody tr th {\n",
       "        vertical-align: top;\n",
       "    }\n",
       "\n",
       "    .dataframe thead th {\n",
       "        text-align: right;\n",
       "    }\n",
       "</style>\n",
       "<table border=\"1\" class=\"dataframe\">\n",
       "  <thead>\n",
       "    <tr style=\"text-align: right;\">\n",
       "      <th></th>\n",
       "      <th>total_images</th>\n",
       "      <th>last_price</th>\n",
       "      <th>total_area</th>\n",
       "      <th>first_day_exposition</th>\n",
       "      <th>rooms</th>\n",
       "      <th>ceiling_height</th>\n",
       "      <th>floors_total</th>\n",
       "      <th>living_area</th>\n",
       "      <th>floor</th>\n",
       "      <th>is_apartment</th>\n",
       "      <th>...</th>\n",
       "      <th>kitchen_area</th>\n",
       "      <th>balcony</th>\n",
       "      <th>locality_name</th>\n",
       "      <th>airports_nearest</th>\n",
       "      <th>cityCenters_nearest</th>\n",
       "      <th>parks_around3000</th>\n",
       "      <th>parks_nearest</th>\n",
       "      <th>ponds_around3000</th>\n",
       "      <th>ponds_nearest</th>\n",
       "      <th>days_exposition</th>\n",
       "    </tr>\n",
       "  </thead>\n",
       "  <tbody>\n",
       "  </tbody>\n",
       "</table>\n",
       "<p>0 rows × 22 columns</p>\n",
       "</div>"
      ],
      "text/plain": [
       "Empty DataFrame\n",
       "Columns: [total_images, last_price, total_area, first_day_exposition, rooms, ceiling_height, floors_total, living_area, floor, is_apartment, studio, open_plan, kitchen_area, balcony, locality_name, airports_nearest, cityCenters_nearest, parks_around3000, parks_nearest, ponds_around3000, ponds_nearest, days_exposition]\n",
       "Index: []\n",
       "\n",
       "[0 rows x 22 columns]"
      ]
     },
     "execution_count": 116,
     "metadata": {},
     "output_type": "execute_result"
    }
   ],
   "source": [
    "# Удаляем записи, где отсутствует локация и этажность\n",
    "data.dropna(subset=['locality_name'], inplace=True)\n",
    "data.dropna(subset=['floors_total'], inplace=True)\n",
    "\n",
    "# Проверим остались ли пропуски в floors_total\n",
    "data[data['floors_total'].isna()]"
   ]
  },
  {
   "cell_type": "code",
   "execution_count": 117,
   "metadata": {},
   "outputs": [],
   "source": [
    "# Устанавливаем маркер 9999 для пропусков в сроке продажи и приводим к целочисленному типу\n",
    "#data['days_exposition'].fillna(9999, inplace=True)\n",
    "#data['days_exposition'] = data['days_exposition'].astype('int')"
   ]
  },
  {
   "cell_type": "markdown",
   "metadata": {},
   "source": [
    "<div class=\"alert alert-danger\">\n",
    "\n",
    "**❌ Комментарий ревьюера ❌**\n",
    "   \n",
    "   Пропуски уже заполнялись нулем - теперь заполняются 9999 - маркерные заглушки использовать также не рекомендую\n",
    "\n",
    "</div>\n"
   ]
  },
  {
   "cell_type": "markdown",
   "metadata": {},
   "source": [
    "<div class=\"alert alert-block alert-info\">\n",
    "Убрала маркерные заглушки. "
   ]
  },
  {
   "cell_type": "code",
   "execution_count": 118,
   "metadata": {},
   "outputs": [],
   "source": [
    "# Приводим этажность к целочисленному типу\n",
    "data['floors_total'] = data['floors_total'].astype('int')\n"
   ]
  },
  {
   "cell_type": "code",
   "execution_count": 119,
   "metadata": {},
   "outputs": [
    {
     "data": {
      "text/plain": [
       "array(['Бокситогорск', 'Волосово', 'Волхов', 'Всеволожск', 'Выборг',\n",
       "       'Высоцк', 'Гатчина', 'Зеленогорск', 'Ивангород', 'Каменногорск',\n",
       "       'Кингисепп', 'Кириши', 'Кировск', 'Колпино', 'Коммунар',\n",
       "       'Красное Село', 'Кронштадт', 'Кудрово', 'Лодейное Поле',\n",
       "       'Ломоносов', 'Луга', 'Любань', 'Мурино', 'Никольское',\n",
       "       'Новая Ладога', 'Отрадное', 'Павловск', 'Петергоф', 'Пикалёво',\n",
       "       'Подпорожье', 'Приморск', 'Приозерск', 'Пушкин', 'Санкт-Петербург',\n",
       "       'Светогорск', 'Сертолово', 'Сестрорецк', 'Сланцы', 'Сосновый Бор',\n",
       "       'Сясьстрой', 'Тихвин', 'Тосно', 'Шлиссельбург',\n",
       "       'городской поселок Большая Ижора', 'городской поселок Янино-1',\n",
       "       'городской посёлок Будогощь', 'городской посёлок Виллози',\n",
       "       'городской посёлок Лесогорский', 'городской посёлок Мга',\n",
       "       'городской посёлок Назия', 'городской посёлок Новоселье',\n",
       "       'городской посёлок Павлово', 'городской посёлок Рощино',\n",
       "       'городской посёлок Свирьстрой', 'городской посёлок Советский',\n",
       "       'городской посёлок Фёдоровское', 'городской посёлок Янино-1',\n",
       "       'деревня Агалатово', 'деревня Аро', 'деревня Батово',\n",
       "       'деревня Бегуницы', 'деревня Белогорка', 'деревня Большая Вруда',\n",
       "       'деревня Большая Пустомержа', 'деревня Большие Колпаны',\n",
       "       'деревня Большое Рейзино', 'деревня Большой Сабск', 'деревня Бор',\n",
       "       'деревня Борисова Грива', 'деревня Ваганово', 'деревня Вартемяги',\n",
       "       'деревня Вахнова Кара', 'деревня Выскатка', 'деревня Гарболово',\n",
       "       'деревня Глинка', 'деревня Горбунки', 'деревня Гостилицы',\n",
       "       'деревня Заклинье', 'деревня Заневка', 'деревня Зимитицы',\n",
       "       'деревня Извара', 'деревня Иссад', 'деревня Калитино',\n",
       "       'деревня Кальтино', 'деревня Камышовка', 'деревня Каськово',\n",
       "       'деревня Келози', 'деревня Кипень', 'деревня Кисельня',\n",
       "       'деревня Колтуши', 'деревня Коркино', 'деревня Котлы',\n",
       "       'деревня Кривко', 'деревня Кудрово', 'деревня Кузьмолово',\n",
       "       'деревня Курковицы', 'деревня Куровицы', 'деревня Куттузи',\n",
       "       'деревня Лаврики', 'деревня Лаголово', 'деревня Лампово',\n",
       "       'деревня Лесколово', 'деревня Лопухинка', 'деревня Лупполово',\n",
       "       'деревня Малая Романовка', 'деревня Малое Верево',\n",
       "       'деревня Малое Карлино', 'деревня Малые Колпаны',\n",
       "       'деревня Мануйлово', 'деревня Меньково', 'деревня Мины',\n",
       "       'деревня Мистолово', 'деревня Ненимяки', 'деревня Нижние Осельки',\n",
       "       'деревня Нижняя', 'деревня Низино', 'деревня Новое Девяткино',\n",
       "       'деревня Новолисино', 'деревня Нурма', 'деревня Оржицы',\n",
       "       'деревня Парицы', 'деревня Пельгора', 'деревня Пеники',\n",
       "       'деревня Пижма', 'деревня Пикколово', 'деревня Пудомяги',\n",
       "       'деревня Пустынка', 'деревня Пчева', 'деревня Рабитицы',\n",
       "       'деревня Разбегаево', 'деревня Раздолье', 'деревня Разметелево',\n",
       "       'деревня Рапполово', 'деревня Реброво', 'деревня Русско',\n",
       "       'деревня Сижно', 'деревня Снегирёвка', 'деревня Старая',\n",
       "       'деревня Старая Пустошь', 'деревня Старое Хинколово',\n",
       "       'деревня Старополье', 'деревня Старосиверская',\n",
       "       'деревня Старые Бегуницы', 'деревня Суоранда',\n",
       "       'деревня Сяськелево', 'деревня Тарасово', 'деревня Терпилицы',\n",
       "       'деревня Тихковицы', 'деревня Тойворово', 'деревня Торосово',\n",
       "       'деревня Торошковичи', 'деревня Трубников Бор',\n",
       "       'деревня Фалилеево', 'деревня Фёдоровское', 'деревня Хапо-Ое',\n",
       "       'деревня Хязельки', 'деревня Чудской Бор', 'деревня Шпаньково',\n",
       "       'деревня Щеглово', 'деревня Юкки', 'деревня Ялгино',\n",
       "       'деревня Яльгелево', 'деревня Ям-Тесово',\n",
       "       'коттеджный поселок Кивеннапа Север', 'коттеджный поселок Счастье',\n",
       "       'коттеджный посёлок Лесное', 'поселок Аннино', 'поселок Барышево',\n",
       "       'поселок Бугры', 'поселок Возрождение', 'поселок Войсковицы',\n",
       "       'поселок Володарское', 'поселок Гаврилово', 'поселок Гарболово',\n",
       "       'поселок Гладкое', 'поселок Глажево', 'поселок Глебычево',\n",
       "       'поселок Гончарово', 'поселок Громово', 'поселок Дружноселье',\n",
       "       'поселок Елизаветино', 'поселок Жилгородок', 'поселок Жилпосёлок',\n",
       "       'поселок Житково', 'поселок Заводской', 'поселок Запорожское',\n",
       "       'поселок Зимитицы', 'поселок Ильичёво', 'поселок Калитино',\n",
       "       'поселок Каложицы', 'поселок Кингисеппский', 'поселок Кирпичное',\n",
       "       'поселок Кобралово', 'поселок Кобринское', 'поселок Коммунары',\n",
       "       'поселок Коробицыно', 'поселок Котельский',\n",
       "       'поселок Красная Долина', 'поселок Красносельское',\n",
       "       'поселок Лесное', 'поселок Лисий Нос', 'поселок Лукаши',\n",
       "       'поселок Любань', 'поселок Мельниково', 'поселок Мичуринское',\n",
       "       'поселок Молодцово', 'поселок Мурино', 'поселок Новый Свет',\n",
       "       'поселок Новый Учхоз', 'поселок Оредеж',\n",
       "       'поселок Пансионат Зелёный Бор', 'поселок Первомайское',\n",
       "       'поселок Перово', 'поселок Петровское', 'поселок Победа',\n",
       "       'поселок Поляны', 'поселок Почап', 'поселок Починок',\n",
       "       'поселок Пушное', 'поселок Пчевжа', 'поселок Рабитицы',\n",
       "       'поселок Романовка', 'поселок Ромашки', 'поселок Рябово',\n",
       "       'поселок Севастьяново', 'поселок Селезнёво', 'поселок Сельцо',\n",
       "       'поселок Семиозерье', 'поселок Семрино', 'поселок Серебрянский',\n",
       "       'поселок Совхозный', 'поселок Старая Малукса',\n",
       "       'поселок Стеклянный', 'поселок Сумино', 'поселок Суходолье',\n",
       "       'поселок Тельмана', 'поселок Терволово', 'поселок Торковичи',\n",
       "       'поселок Тёсово-4', 'поселок Углово', 'поселок Усть-Луга',\n",
       "       'поселок Ушаки', 'поселок Цвелодубово', 'поселок Цвылёво',\n",
       "       'поселок городского типа Большая Ижора',\n",
       "       'поселок городского типа Вырица',\n",
       "       'поселок городского типа Дружная Горка',\n",
       "       'поселок городского типа Дубровка',\n",
       "       'поселок городского типа Ефимовский',\n",
       "       'поселок городского типа Кондратьево',\n",
       "       'поселок городского типа Красный Бор',\n",
       "       'поселок городского типа Кузьмоловский',\n",
       "       'поселок городского типа Лебяжье',\n",
       "       'поселок городского типа Лесогорский',\n",
       "       'поселок городского типа Назия',\n",
       "       'поселок городского типа Никольский',\n",
       "       'поселок городского типа Приладожский',\n",
       "       'поселок городского типа Рахья', 'поселок городского типа Рощино',\n",
       "       'поселок городского типа Рябово',\n",
       "       'поселок городского типа Синявино',\n",
       "       'поселок городского типа Советский',\n",
       "       'поселок городского типа Токсово',\n",
       "       'поселок городского типа Форносово',\n",
       "       'поселок городского типа имени Свердлова',\n",
       "       'поселок станции Вещево', 'поселок станции Корнево',\n",
       "       'поселок станции Лужайка', 'поселок станции Приветнинское',\n",
       "       'посёлок Александровская', 'посёлок Алексеевка', 'посёлок Аннино',\n",
       "       'посёлок Белоостров', 'посёлок Бугры', 'посёлок Возрождение',\n",
       "       'посёлок Войскорово', 'посёлок Высокоключевой',\n",
       "       'посёлок Гаврилово', 'посёлок Дзержинского', 'посёлок Жилгородок',\n",
       "       'посёлок Ильичёво', 'посёлок Кикерино', 'посёлок Кобралово',\n",
       "       'посёлок Коробицыно', 'посёлок Левашово', 'посёлок Ленинское',\n",
       "       'посёлок Лисий Нос', 'посёлок Мельниково', 'посёлок Металлострой',\n",
       "       'посёлок Мичуринское', 'посёлок Молодёжное', 'посёлок Мурино',\n",
       "       'посёлок Мыза-Ивановка', 'посёлок Новогорелово',\n",
       "       'посёлок Новый Свет', 'посёлок Пансионат Зелёный Бор',\n",
       "       'посёлок Парголово', 'посёлок Перово', 'посёлок Песочный',\n",
       "       'посёлок Петро-Славянка', 'посёлок Петровское',\n",
       "       'посёлок Платформа 69-й километр', 'посёлок Плодовое',\n",
       "       'посёлок Плоское', 'посёлок Победа', 'посёлок Поляны',\n",
       "       'посёлок Понтонный', 'посёлок Пригородный', 'посёлок Пудость',\n",
       "       'посёлок Репино', 'посёлок Ропша', 'посёлок Сапёрное',\n",
       "       'посёлок Сапёрный', 'посёлок Сосново', 'посёлок Старая Малукса',\n",
       "       'посёлок Стеклянный', 'посёлок Стрельна', 'посёлок Суйда',\n",
       "       'посёлок Сумино', 'посёлок Тельмана', 'посёлок Терволово',\n",
       "       'посёлок Торфяное', 'посёлок Усть-Ижора', 'посёлок Усть-Луга',\n",
       "       'посёлок Форт Красная Горка', 'посёлок Шугозеро', 'посёлок Шушары',\n",
       "       'посёлок Щеглово', 'посёлок городского типа Важины',\n",
       "       'посёлок городского типа Вознесенье',\n",
       "       'посёлок городского типа Вырица',\n",
       "       'посёлок городского типа Красный Бор',\n",
       "       'посёлок городского типа Кузнечное',\n",
       "       'посёлок городского типа Кузьмоловский',\n",
       "       'посёлок городского типа Лебяжье', 'посёлок городского типа Мга',\n",
       "       'посёлок городского типа Павлово',\n",
       "       'посёлок городского типа Рощино', 'посёлок городского типа Рябово',\n",
       "       'посёлок городского типа Сиверский',\n",
       "       'посёлок городского типа Тайцы', 'посёлок городского типа Токсово',\n",
       "       'посёлок городского типа Ульяновка',\n",
       "       'посёлок городского типа Форносово',\n",
       "       'посёлок городского типа имени Морозова',\n",
       "       'посёлок городского типа имени Свердлова',\n",
       "       'посёлок при железнодорожной станции Вещево',\n",
       "       'посёлок при железнодорожной станции Приветнинское',\n",
       "       'посёлок станции Громово', 'посёлок станции Свирь',\n",
       "       'садоводческое некоммерческое товарищество Лесная Поляна',\n",
       "       'садовое товарищество Новая Ропша',\n",
       "       'садовое товарищество Приладожский', 'садовое товарищество Рахья',\n",
       "       'садовое товарищество Садко', 'село Копорье', 'село Никольское',\n",
       "       'село Павлово', 'село Паша', 'село Путилово', 'село Рождествено',\n",
       "       'село Русско-Высоцкое', 'село Старая Ладога', 'село Шум'],\n",
       "      dtype=object)"
      ]
     },
     "execution_count": 119,
     "metadata": {},
     "output_type": "execute_result"
    }
   ],
   "source": [
    "# Заменим неявные дубликаты в названиях населённых пунктов\n",
    "data['locality_name'].duplicated().sum()\n",
    "data['locality_name'].sort_values().unique()\n"
   ]
  },
  {
   "cell_type": "code",
   "execution_count": 120,
   "metadata": {},
   "outputs": [],
   "source": [
    "# Заменим неявные дубликаты\n",
    "data['locality_name'] = data['locality_name'].str.replace('городской поселок','посёлок городского типа')\n",
    "data['locality_name'] = data['locality_name'].str.replace('городской посёлок','посёлок городского типа')\n",
    "data['locality_name'] = data['locality_name'].str.replace('коттеджный посёлок','коттеджный посёлок')\n",
    "data['locality_name'] = data['locality_name'].str.replace('садоводческое некоммерческое товарищество','садовое товарищество')\n",
    "data['locality_name'] = data['locality_name'].str.replace('поселок', 'посёлок')\n",
    "data['locality_name'] = data['locality_name'].str.replace('поселок', 'посёлок')"
   ]
  },
  {
   "cell_type": "code",
   "execution_count": 121,
   "metadata": {},
   "outputs": [
    {
     "data": {
      "text/plain": [
       "array(['Бокситогорск', 'Волосово', 'Волхов', 'Всеволожск', 'Выборг',\n",
       "       'Высоцк', 'Гатчина', 'Зеленогорск', 'Ивангород', 'Каменногорск',\n",
       "       'Кингисепп', 'Кириши', 'Кировск', 'Колпино', 'Коммунар',\n",
       "       'Красное Село', 'Кронштадт', 'Кудрово', 'Лодейное Поле',\n",
       "       'Ломоносов', 'Луга', 'Любань', 'Мурино', 'Никольское',\n",
       "       'Новая Ладога', 'Отрадное', 'Павловск', 'Петергоф', 'Пикалёво',\n",
       "       'Подпорожье', 'Приморск', 'Приозерск', 'Пушкин', 'Санкт-Петербург',\n",
       "       'Светогорск', 'Сертолово', 'Сестрорецк', 'Сланцы', 'Сосновый Бор',\n",
       "       'Сясьстрой', 'Тихвин', 'Тосно', 'Шлиссельбург',\n",
       "       'деревня Агалатово', 'деревня Аро', 'деревня Батово',\n",
       "       'деревня Бегуницы', 'деревня Белогорка', 'деревня Большая Вруда',\n",
       "       'деревня Большая Пустомержа', 'деревня Большие Колпаны',\n",
       "       'деревня Большое Рейзино', 'деревня Большой Сабск', 'деревня Бор',\n",
       "       'деревня Борисова Грива', 'деревня Ваганово', 'деревня Вартемяги',\n",
       "       'деревня Вахнова Кара', 'деревня Выскатка', 'деревня Гарболово',\n",
       "       'деревня Глинка', 'деревня Горбунки', 'деревня Гостилицы',\n",
       "       'деревня Заклинье', 'деревня Заневка', 'деревня Зимитицы',\n",
       "       'деревня Извара', 'деревня Иссад', 'деревня Калитино',\n",
       "       'деревня Кальтино', 'деревня Камышовка', 'деревня Каськово',\n",
       "       'деревня Келози', 'деревня Кипень', 'деревня Кисельня',\n",
       "       'деревня Колтуши', 'деревня Коркино', 'деревня Котлы',\n",
       "       'деревня Кривко', 'деревня Кудрово', 'деревня Кузьмолово',\n",
       "       'деревня Курковицы', 'деревня Куровицы', 'деревня Куттузи',\n",
       "       'деревня Лаврики', 'деревня Лаголово', 'деревня Лампово',\n",
       "       'деревня Лесколово', 'деревня Лопухинка', 'деревня Лупполово',\n",
       "       'деревня Малая Романовка', 'деревня Малое Верево',\n",
       "       'деревня Малое Карлино', 'деревня Малые Колпаны',\n",
       "       'деревня Мануйлово', 'деревня Меньково', 'деревня Мины',\n",
       "       'деревня Мистолово', 'деревня Ненимяки', 'деревня Нижние Осельки',\n",
       "       'деревня Нижняя', 'деревня Низино', 'деревня Новое Девяткино',\n",
       "       'деревня Новолисино', 'деревня Нурма', 'деревня Оржицы',\n",
       "       'деревня Парицы', 'деревня Пельгора', 'деревня Пеники',\n",
       "       'деревня Пижма', 'деревня Пикколово', 'деревня Пудомяги',\n",
       "       'деревня Пустынка', 'деревня Пчева', 'деревня Рабитицы',\n",
       "       'деревня Разбегаево', 'деревня Раздолье', 'деревня Разметелево',\n",
       "       'деревня Рапполово', 'деревня Реброво', 'деревня Русско',\n",
       "       'деревня Сижно', 'деревня Снегирёвка', 'деревня Старая',\n",
       "       'деревня Старая Пустошь', 'деревня Старое Хинколово',\n",
       "       'деревня Старополье', 'деревня Старосиверская',\n",
       "       'деревня Старые Бегуницы', 'деревня Суоранда',\n",
       "       'деревня Сяськелево', 'деревня Тарасово', 'деревня Терпилицы',\n",
       "       'деревня Тихковицы', 'деревня Тойворово', 'деревня Торосово',\n",
       "       'деревня Торошковичи', 'деревня Трубников Бор',\n",
       "       'деревня Фалилеево', 'деревня Фёдоровское', 'деревня Хапо-Ое',\n",
       "       'деревня Хязельки', 'деревня Чудской Бор', 'деревня Шпаньково',\n",
       "       'деревня Щеглово', 'деревня Юкки', 'деревня Ялгино',\n",
       "       'деревня Яльгелево', 'деревня Ям-Тесово',\n",
       "       'коттеджный посёлок Кивеннапа Север', 'коттеджный посёлок Лесное',\n",
       "       'коттеджный посёлок Счастье', 'посёлок Александровская',\n",
       "       'посёлок Алексеевка', 'посёлок Аннино', 'посёлок Барышево',\n",
       "       'посёлок Белоостров', 'посёлок Бугры', 'посёлок Возрождение',\n",
       "       'посёлок Войсковицы', 'посёлок Войскорово', 'посёлок Володарское',\n",
       "       'посёлок Высокоключевой', 'посёлок Гаврилово', 'посёлок Гарболово',\n",
       "       'посёлок Гладкое', 'посёлок Глажево', 'посёлок Глебычево',\n",
       "       'посёлок Гончарово', 'посёлок Громово', 'посёлок Дзержинского',\n",
       "       'посёлок Дружноселье', 'посёлок Елизаветино', 'посёлок Жилгородок',\n",
       "       'посёлок Жилпосёлок', 'посёлок Житково', 'посёлок Заводской',\n",
       "       'посёлок Запорожское', 'посёлок Зимитицы', 'посёлок Ильичёво',\n",
       "       'посёлок Калитино', 'посёлок Каложицы', 'посёлок Кикерино',\n",
       "       'посёлок Кингисеппский', 'посёлок Кирпичное', 'посёлок Кобралово',\n",
       "       'посёлок Кобринское', 'посёлок Коммунары', 'посёлок Коробицыно',\n",
       "       'посёлок Котельский', 'посёлок Красная Долина',\n",
       "       'посёлок Красносельское', 'посёлок Левашово', 'посёлок Ленинское',\n",
       "       'посёлок Лесное', 'посёлок Лисий Нос', 'посёлок Лукаши',\n",
       "       'посёлок Любань', 'посёлок Мельниково', 'посёлок Металлострой',\n",
       "       'посёлок Мичуринское', 'посёлок Молодцово', 'посёлок Молодёжное',\n",
       "       'посёлок Мурино', 'посёлок Мыза-Ивановка', 'посёлок Новогорелово',\n",
       "       'посёлок Новый Свет', 'посёлок Новый Учхоз', 'посёлок Оредеж',\n",
       "       'посёлок Пансионат Зелёный Бор', 'посёлок Парголово',\n",
       "       'посёлок Первомайское', 'посёлок Перово', 'посёлок Песочный',\n",
       "       'посёлок Петро-Славянка', 'посёлок Петровское',\n",
       "       'посёлок Платформа 69-й километр', 'посёлок Плодовое',\n",
       "       'посёлок Плоское', 'посёлок Победа', 'посёлок Поляны',\n",
       "       'посёлок Понтонный', 'посёлок Почап', 'посёлок Починок',\n",
       "       'посёлок Пригородный', 'посёлок Пудость', 'посёлок Пушное',\n",
       "       'посёлок Пчевжа', 'посёлок Рабитицы', 'посёлок Репино',\n",
       "       'посёлок Романовка', 'посёлок Ромашки', 'посёлок Ропша',\n",
       "       'посёлок Рябово', 'посёлок Сапёрное', 'посёлок Сапёрный',\n",
       "       'посёлок Севастьяново', 'посёлок Селезнёво', 'посёлок Сельцо',\n",
       "       'посёлок Семиозерье', 'посёлок Семрино', 'посёлок Серебрянский',\n",
       "       'посёлок Совхозный', 'посёлок Сосново', 'посёлок Старая Малукса',\n",
       "       'посёлок Стеклянный', 'посёлок Стрельна', 'посёлок Суйда',\n",
       "       'посёлок Сумино', 'посёлок Суходолье', 'посёлок Тельмана',\n",
       "       'посёлок Терволово', 'посёлок Торковичи', 'посёлок Торфяное',\n",
       "       'посёлок Тёсово-4', 'посёлок Углово', 'посёлок Усть-Ижора',\n",
       "       'посёлок Усть-Луга', 'посёлок Ушаки', 'посёлок Форт Красная Горка',\n",
       "       'посёлок Цвелодубово', 'посёлок Цвылёво', 'посёлок Шугозеро',\n",
       "       'посёлок Шушары', 'посёлок Щеглово',\n",
       "       'посёлок городского типа Большая Ижора',\n",
       "       'посёлок городского типа Будогощь',\n",
       "       'посёлок городского типа Важины',\n",
       "       'посёлок городского типа Виллози',\n",
       "       'посёлок городского типа Вознесенье',\n",
       "       'посёлок городского типа Вырица',\n",
       "       'посёлок городского типа Дружная Горка',\n",
       "       'посёлок городского типа Дубровка',\n",
       "       'посёлок городского типа Ефимовский',\n",
       "       'посёлок городского типа Кондратьево',\n",
       "       'посёлок городского типа Красный Бор',\n",
       "       'посёлок городского типа Кузнечное',\n",
       "       'посёлок городского типа Кузьмоловский',\n",
       "       'посёлок городского типа Лебяжье',\n",
       "       'посёлок городского типа Лесогорский',\n",
       "       'посёлок городского типа Мга', 'посёлок городского типа Назия',\n",
       "       'посёлок городского типа Никольский',\n",
       "       'посёлок городского типа Новоселье',\n",
       "       'посёлок городского типа Павлово',\n",
       "       'посёлок городского типа Приладожский',\n",
       "       'посёлок городского типа Рахья', 'посёлок городского типа Рощино',\n",
       "       'посёлок городского типа Рябово',\n",
       "       'посёлок городского типа Свирьстрой',\n",
       "       'посёлок городского типа Сиверский',\n",
       "       'посёлок городского типа Синявино',\n",
       "       'посёлок городского типа Советский',\n",
       "       'посёлок городского типа Тайцы', 'посёлок городского типа Токсово',\n",
       "       'посёлок городского типа Ульяновка',\n",
       "       'посёлок городского типа Форносово',\n",
       "       'посёлок городского типа Фёдоровское',\n",
       "       'посёлок городского типа Янино-1',\n",
       "       'посёлок городского типа имени Морозова',\n",
       "       'посёлок городского типа имени Свердлова',\n",
       "       'посёлок при железнодорожной станции Вещево',\n",
       "       'посёлок при железнодорожной станции Приветнинское',\n",
       "       'посёлок станции Вещево', 'посёлок станции Громово',\n",
       "       'посёлок станции Корнево', 'посёлок станции Лужайка',\n",
       "       'посёлок станции Приветнинское', 'посёлок станции Свирь',\n",
       "       'садовое товарищество Лесная Поляна',\n",
       "       'садовое товарищество Новая Ропша',\n",
       "       'садовое товарищество Приладожский', 'садовое товарищество Рахья',\n",
       "       'садовое товарищество Садко', 'село Копорье', 'село Никольское',\n",
       "       'село Павлово', 'село Паша', 'село Путилово', 'село Рождествено',\n",
       "       'село Русско-Высоцкое', 'село Старая Ладога', 'село Шум'],\n",
       "      dtype=object)"
      ]
     },
     "execution_count": 121,
     "metadata": {},
     "output_type": "execute_result"
    }
   ],
   "source": [
    "data['locality_name'].sort_values().unique()"
   ]
  },
  {
   "cell_type": "markdown",
   "metadata": {},
   "source": [
    "<div class=\"alert alert-success\">\n",
    "\n",
    "**✔️ Комментарий ревьюера ✔️**\n",
    "   \n",
    "\n",
    "   Также рекомендую хорошую статью по предобработке, в ней есть интересные способы обработки неявных дубликатов: https://proglib.io/p/moem-dataset-rukovodstvo-po-ochistke-dannyh-v-python-2020-03-27 \n",
    "\n",
    "</div>\n"
   ]
  },
  {
   "cell_type": "markdown",
   "metadata": {},
   "source": [
    "<div class=\"alert alert-danger\">\n",
    "\n",
    "**❌ Комментарий ревьюера ❌**\n",
    "   \n",
    "   На этапе предобработки отсутствует работа с аномалиями\n",
    "\n",
    "</div>\n"
   ]
  },
  {
   "cell_type": "markdown",
   "metadata": {},
   "source": [
    "### Посчитайте и добавьте в таблицу новые столбцы"
   ]
  },
  {
   "cell_type": "markdown",
   "metadata": {},
   "source": [
    "цену квадратного метра;\n",
    "\n",
    "день недели, месяц и год публикации объявления;\n",
    "\n",
    "этаж квартиры; варианты — первый, последний, другой;\n",
    "\n",
    "соотношение жилой и общей площади, а также отношение площади кухни к общей."
   ]
  },
  {
   "cell_type": "code",
   "execution_count": 122,
   "metadata": {},
   "outputs": [],
   "source": [
    "# Добавляем столбец со стоимостью квадратного метра (sm_price)\n",
    "# Для удобства приведем к типу int\n",
    "data['sm_price'] = data['last_price'] / data['total_area']\n",
    "data['sm_price'] = data['sm_price'].astype('int')"
   ]
  },
  {
   "cell_type": "code",
   "execution_count": 123,
   "metadata": {},
   "outputs": [],
   "source": [
    "# Добавим столбцы дня недели, месяца и года публикации объявления\n",
    "\n",
    "data['weekday_exposition'] = data['first_day_exposition'].dt.weekday\n",
    "data['month_exposition'] = data['first_day_exposition'].dt.month\n",
    "data['year_exposition'] = data['first_day_exposition'].dt.year\n"
   ]
  },
  {
   "cell_type": "code",
   "execution_count": 124,
   "metadata": {},
   "outputs": [],
   "source": [
    "#Добавим столбец с соотношением жилой площади к общей area_ratio\n",
    "\n",
    "data['useful_area_ratio'] = data['living_area'] / data['total_area']"
   ]
  },
  {
   "cell_type": "code",
   "execution_count": 125,
   "metadata": {},
   "outputs": [],
   "source": [
    "# Добавим столбец отношения площади кухни к общей \n",
    "\n",
    "data['kitchen_area_ratio'] = data['kitchen_area'] / data['total_area']"
   ]
  },
  {
   "cell_type": "code",
   "execution_count": 126,
   "metadata": {},
   "outputs": [],
   "source": [
    "# Напишем функцию категоризации по этажам\n",
    "# Используем метод apply применив к каждой строке датафрейма через axis = 1\n",
    "\n",
    "def floor_category(row):\n",
    "    floors_total = row['floors_total']\n",
    "    floor = row['floor']\n",
    "    if floor == 1:\n",
    "        return 'первый'\n",
    "    elif floor == floors_total:\n",
    "        return 'последний'\n",
    "    elif  1< floor < floors_total:\n",
    "        return 'другой'\n",
    "    \n",
    "# Категоризируем этажи с помощью нашей функции\n",
    "\n",
    "data['floor_category'] = data.apply(floor_category, axis=1)"
   ]
  },
  {
   "cell_type": "code",
   "execution_count": 127,
   "metadata": {},
   "outputs": [],
   "source": [
    "# Дабавим столбец с расстоянием до центра в км\n",
    "\n",
    "data['center_km'] = data['cityCenters_nearest']/1000\n",
    "data['center_km'] = data['center_km'].fillna(value=0).astype('int')"
   ]
  },
  {
   "cell_type": "markdown",
   "metadata": {},
   "source": [
    "<div class=\"alert alert-success\">\n",
    "\n",
    "**✔️ Комментарий ревьюера ✔️**\n",
    "   \n",
    "   В данном блоке все верно\n",
    "\n",
    "</div>\n"
   ]
  },
  {
   "cell_type": "markdown",
   "metadata": {},
   "source": [
    "### Проведите исследовательский анализ данных"
   ]
  },
  {
   "cell_type": "markdown",
   "metadata": {},
   "source": [
    "  - общая площадь;\n",
    "  - жилая площадь;\n",
    "  - площадь кухни;\n",
    "  - цена объекта;\n",
    "  - количество комнат;\n",
    "  - высота потолков;\n",
    "  - этаж квартиры;\n",
    "  - тип этажа квартиры («первый», «последний», «другой»);\n",
    "  - общее количество этажей в доме;\n",
    "  - расстояние до центра города в метрах;\n",
    "  - расстояние до ближайшего аэропорта;\n",
    "  - расстояние до ближайшего парка;\n",
    "  - день и месяц публикации объявления\n",
    "  \n",
    " Постройте гистограммы для каждого параметра."
   ]
  },
  {
   "cell_type": "code",
   "execution_count": 128,
   "metadata": {},
   "outputs": [
    {
     "data": {
      "image/png": "[encoded data removed]",
      "text/plain": [
       "<Figure size 432x288 with 1 Axes>"
      ]
     },
     "metadata": {
      "needs_background": "light"
     },
     "output_type": "display_data"
    }
   ],
   "source": [
    "# Изучим общую площадь \n",
    "\n",
    "plt.hist(data['total_area'], bins=20, range=(10, 140))\n",
    "plt.title('Площадь квартир')\n",
    "plt.xlabel('Квадратныее метры')\n",
    "plt.ylabel('Количество квартир')\n",
    "plt.show()\n",
    "# Распределение данных нормальное. Есть выбросы, но они не сильно влияют наа данные."
   ]
  },
  {
   "cell_type": "code",
   "execution_count": 129,
   "metadata": {},
   "outputs": [
    {
     "data": {
      "image/png": "[encoded data removed]",
      "text/plain": [
       "<Figure size 432x288 with 1 Axes>"
      ]
     },
     "metadata": {
      "needs_background": "light"
     },
     "output_type": "display_data"
    }
   ],
   "source": [
    "# Изучим жилую площадь\n",
    "plt.hist(data['living_area'], bins=20, range=(10, 80))\n",
    "plt.title('Жилая площадь')\n",
    "plt.xlabel('Квадратныее метры')\n",
    "plt.ylabel('Количество квартир')\n",
    "plt.show()"
   ]
  },
  {
   "cell_type": "code",
   "execution_count": 130,
   "metadata": {},
   "outputs": [
    {
     "data": {
      "image/png": "[encoded data removed]",
      "text/plain": [
       "<Figure size 432x288 with 1 Axes>"
      ]
     },
     "metadata": {
      "needs_background": "light"
     },
     "output_type": "display_data"
    }
   ],
   "source": [
    "# Изучим площадь кухни\n",
    "plt.hist(data['kitchen_area'], bins=20, range=(5, 20))\n",
    "plt.title('Площадь кухни')\n",
    "plt.xlabel('Квадратныее метры')\n",
    "plt.ylabel('Количество квартир')\n",
    "plt.show()"
   ]
  },
  {
   "cell_type": "code",
   "execution_count": 131,
   "metadata": {},
   "outputs": [
    {
     "data": {
      "image/png": "[encoded data removed]",
      "text/plain": [
       "<Figure size 432x288 with 1 Axes>"
      ]
     },
     "metadata": {
      "needs_background": "light"
     },
     "output_type": "display_data"
    }
   ],
   "source": [
    "# Изучим цену объектов\n",
    "plt.hist(data['last_price'], bins=20, range=(0, 15000000))\n",
    "plt.title('Стоимость квартир')\n",
    "plt.xlabel('Стоимость')\n",
    "plt.ylabel('Количество квартир')\n",
    "plt.show()"
   ]
  },
  {
   "cell_type": "code",
   "execution_count": 132,
   "metadata": {},
   "outputs": [
    {
     "data": {
      "image/png": "[encoded data removed]",
      "text/plain": [
       "<Figure size 432x288 with 1 Axes>"
      ]
     },
     "metadata": {
      "needs_background": "light"
     },
     "output_type": "display_data"
    }
   ],
   "source": [
    "# Изучим число комнат\n",
    "plt.hist(data['rooms'], bins=20, range=(1, 8))\n",
    "plt.title('Комнаты')\n",
    "plt.xlabel('Количество комнат')\n",
    "plt.ylabel('Количество квартир')\n",
    "plt.show()"
   ]
  },
  {
   "cell_type": "code",
   "execution_count": 143,
   "metadata": {},
   "outputs": [
    {
     "data": {
      "image/png": "[encoded data removed]",
      "text/plain": [
       "<Figure size 432x288 with 1 Axes>"
      ]
     },
     "metadata": {
      "needs_background": "light"
     },
     "output_type": "display_data"
    }
   ],
   "source": [
    "# Изучим высоту потолков\n",
    "\n",
    "plt.hist(data['ceiling_height'], bins=10, range=(2, 4))\n",
    "plt.title('Высота потолков')\n",
    "plt.xlabel('Высота в метрах')\n",
    "plt.ylabel('Количество квартир')\n",
    "plt.show()"
   ]
  },
  {
   "cell_type": "code",
   "execution_count": 134,
   "metadata": {},
   "outputs": [
    {
     "data": {
      "image/png": "[encoded data removed]",
      "text/plain": [
       "<Figure size 432x288 with 1 Axes>"
      ]
     },
     "metadata": {
      "needs_background": "light"
     },
     "output_type": "display_data"
    }
   ],
   "source": [
    "# Изучим этаж квартиры\n",
    "\n",
    "plt.hist(data['floor'], bins=20, range=(0, 25))\n",
    "plt.title('Этаж квартиры')\n",
    "plt.xlabel('Количество этажей')\n",
    "plt.ylabel('Количество квартир')\n",
    "plt.show()"
   ]
  },
  {
   "cell_type": "code",
   "execution_count": 135,
   "metadata": {},
   "outputs": [
    {
     "data": {
      "image/png": "[encoded data removed]",
      "text/plain": [
       "<Figure size 432x288 with 1 Axes>"
      ]
     },
     "metadata": {
      "needs_background": "light"
     },
     "output_type": "display_data"
    }
   ],
   "source": [
    "# Изучим типы этажей\n",
    "\n",
    "plt.hist(data['floor_category'], bins=10, range=(0, 5))\n",
    "plt.title('Тип этажа квартиры')\n",
    "plt.xlabel('Тип этажа')\n",
    "plt.ylabel('Количество квартир')\n",
    "plt.show()"
   ]
  },
  {
   "cell_type": "code",
   "execution_count": 136,
   "metadata": {},
   "outputs": [
    {
     "data": {
      "image/png": "[encoded data removed]",
      "text/plain": [
       "<Figure size 432x288 with 1 Axes>"
      ]
     },
     "metadata": {
      "needs_background": "light"
     },
     "output_type": "display_data"
    }
   ],
   "source": [
    "# Изучим общее количество этажей в доме floors_total \n",
    "plt.hist(data['floors_total'], bins=20, range=(1, 25))\n",
    "plt.title('Общее количество этажей в доме')\n",
    "plt.xlabel('Количество этажей')\n",
    "plt.ylabel('Количество квартир')\n",
    "plt.show()"
   ]
  },
  {
   "cell_type": "code",
   "execution_count": 137,
   "metadata": {},
   "outputs": [
    {
     "data": {
      "image/png": "[encoded data removed]",
      "text/plain": [
       "<Figure size 432x288 with 1 Axes>"
      ]
     },
     "metadata": {
      "needs_background": "light"
     },
     "output_type": "display_data"
    }
   ],
   "source": [
    "# Изучим расстояние до центра города\n",
    "plt.hist(data['cityCenters_nearest'], bins=20, range=(2000, 20000))\n",
    "plt.title('Расстояние до центра города')\n",
    "plt.xlabel('Расстояние в метрах')\n",
    "plt.ylabel('Количество квартир')\n",
    "plt.show()"
   ]
  },
  {
   "cell_type": "code",
   "execution_count": 146,
   "metadata": {},
   "outputs": [
    {
     "data": {
      "image/png": "[encoded data removed]",
      "text/plain": [
       "<Figure size 432x288 with 1 Axes>"
      ]
     },
     "metadata": {
      "needs_background": "light"
     },
     "output_type": "display_data"
    }
   ],
   "source": [
    "# Изучим расстояние до ближайшего аэропорта\n",
    "plt.hist(data['airports_nearest'], bins=30, range=(5000, 60000))\n",
    "plt.title('Расстояние до аэропорта')\n",
    "plt.xlabel('Расстояние в метрах')\n",
    "plt.ylabel('Количество квартир')\n",
    "plt.show()"
   ]
  },
  {
   "cell_type": "code",
   "execution_count": 147,
   "metadata": {},
   "outputs": [
    {
     "data": {
      "image/png": "[encoded data removed]",
      "text/plain": [
       "<Figure size 432x288 with 1 Axes>"
      ]
     },
     "metadata": {
      "needs_background": "light"
     },
     "output_type": "display_data"
    }
   ],
   "source": [
    "# Изучим расстояние до ближайшего парка\n",
    "plt.hist(data['parks_nearest'], bins=20, range=(500, 2000))\n",
    "plt.title('Расстояние до ближайшего парка')\n",
    "plt.xlabel('Расстояние в метрах')\n",
    "plt.ylabel('Количество квартир')\n",
    "plt.show()"
   ]
  },
  {
   "cell_type": "code",
   "execution_count": 148,
   "metadata": {},
   "outputs": [
    {
     "data": {
      "image/png": "[encoded data removed]",
      "text/plain": [
       "<Figure size 432x288 with 1 Axes>"
      ]
     },
     "metadata": {
      "needs_background": "light"
     },
     "output_type": "display_data"
    },
    {
     "data": {
      "image/png": "[encoded data removed]",
      "text/plain": [
       "<Figure size 432x288 with 1 Axes>"
      ]
     },
     "metadata": {
      "needs_background": "light"
     },
     "output_type": "display_data"
    }
   ],
   "source": [
    "# Изучим день и месяц публикации\n",
    "plt.hist(data['weekday_exposition'], bins=10, range=(1, 7))\n",
    "plt.title('День публикации')\n",
    "plt.xlabel('Дни недели')\n",
    "plt.ylabel('Количество квартир')\n",
    "plt.show()\n",
    "\n",
    "plt.hist(data['month_exposition'], bins=10, range=(1, 12))\n",
    "plt.title('Месяц публикации')\n",
    "plt.xlabel('Месяц')\n",
    "plt.ylabel('Количество квартир')\n",
    "plt.show()"
   ]
  },
  {
   "cell_type": "markdown",
   "metadata": {},
   "source": [
    "Вывод:\n",
    "1. Общая площадь.\n",
    "Подавляющее большинство продаваемых квартир имеют площадь в диапазоне от 30 до 60 кв. метров. \n",
    "2. Жилая площадь.\n",
    "Самые распространённые варианты квартир имеют жилую площадь около 20 кв. метров.\n",
    "3. Площадь кухни.\n",
    "Статистика показывает, что площадь кухни в квартирах составляет как правило от 8 до 10 кв. метров. Больше 12 кв. метров кухни практически не встречаются.\n",
    "4. Стоимость объекта.\n",
    "В основном стоимость квартир составляет 2,5 - 6 млн руб.\n",
    "5. Количество комнат.\n",
    "Рынок недвижимости представлен в основном 1 и 2 комнатными квартирами (примерно по 8 тыс. объектов в каждой группе). На третьем месте находятся 3-х комнатные квартиры в количестве 6 тыс. объектов. Есть небольшая доля 4-комнатных квартир. Варианты, где больше 5 комнат выглядят странно и подозрительно. Даже при объединении нескольких квартир в одну это выглядит не правдоподобно. Возможно, это отдельные дома/ котеджи.\n",
    "6. Высота потолков.\n",
    "Большинство объектов имеют высоту потолков от 2,5 до 2,75 метров. Больше 3 метров высота потолков встречается довольно редко.\n",
    "7. Этаж квартиры.\n",
    "Продаваемые квартиры в основном располагаются с 1го по 6й этаж. Выше 6го этажа встречаются гораздо реже.\n",
    "8. Тип этажа. \n",
    "Большинство квартир расположены ни на первом ни на последнем этажах дома.\n",
    "9. Общее количество этажей в доме.\n",
    "Большинство продаваемых квартир расположены в 5-ти/ 9-ти этажных домах.\n",
    "10. Расстояние до центра города.\n",
    "Большинство квартир из объявлений находятся на расстоянии от 11 до 16 км от центра города.\n",
    "11. Расстояние до ближайшего аэропорта.\n",
    "До ближайшего аэропорта в большинстве случаев от 12 до 30 км.\n",
    "12. Расстояние до ближайшего парка.\n",
    "Если в объявлении указано расстояние до парка, то оно как правило составляет от 300 до 700 метров . Если же до ближайшего парка более 1 км, то большинство, скорее всего, просто не отмечает этот пункт.\n",
    "13. День и месяц публикации.\n",
    "Большую часть объявлений размещают в начале недели с понедельника по четверг. Меньше всего объявлений публикуется ближе к выходным в пятницу и субботу.\n",
    "Самые ативные месяцы публикации объявлений по продаже квартир приходятся на начало и конец года (январь, декабрь). С мая по июль публикуется меньше объявлений. Возможно это связано с тем, что в этот период люди часто уезжают в отпуск."
   ]
  },
  {
   "cell_type": "markdown",
   "metadata": {},
   "source": [
    "<div class=\"alert alert-success\">\n",
    "✔️ Комментарий ревьюера ✔️ \n",
    "\n",
    "Хороший результат. Хочу добавить, что обычно размеры двухкомнатных квартир составляют от 50 до 100 квадратных метров, что и соответствует проведенному анализу.\n",
    "    \n",
    "Могу посоветовать на будущее хорошую статью по оформлению графиков:\n",
    "    https://devpractice.ru/matplotlib-lesson-3-3-text-elements/    \n",
    "        \n",
    "    \n",
    "    \n",
    "</div>"
   ]
  },
  {
   "cell_type": "markdown",
   "metadata": {},
   "source": [
    "<div class=\"alert alert-block alert-info\">\n",
    "Исправила пункт 6 после обработки аномалий.\n",
    "    6. Высота потолков.\n",
    "Большинство объектов имеют высоту потолков от 2,5 до 2,75 метров. Больше 2,75 метров высота потолков встречается довольно редко."
   ]
  },
  {
   "cell_type": "markdown",
   "metadata": {},
   "source": [
    "#### 1 задание. Изучите, как быстро продавались квартиры (столбец days_exposition). Этот параметр показывает, сколько дней «висело» каждое объявление.\n",
    "\n",
    "Постройте гистограмму.\n",
    "\n",
    "Посчитайте среднее и медиану.\n",
    "\n",
    "В ячейке типа markdown опишите, сколько обычно занимает продажа. Какие продажи можно считать быстрыми, а какие — необычно долгими?"
   ]
  },
  {
   "cell_type": "code",
   "execution_count": 149,
   "metadata": {},
   "outputs": [
    {
     "name": "stdout",
     "output_type": "stream",
     "text": [
      "Медиана времени продажи: 95 \n",
      "\n",
      "Среднее времени продажи: 181 \n",
      "\n"
     ]
    },
    {
     "data": {
      "image/png": "[encoded data removed]",
      "text/plain": [
       "<Figure size 432x288 with 1 Axes>"
      ]
     },
     "metadata": {
      "needs_background": "light"
     },
     "output_type": "display_data"
    },
    {
     "data": {
      "text/plain": [
       "count    20394.000000\n",
       "mean       180.741395\n",
       "std        219.732782\n",
       "min          1.000000\n",
       "25%         45.000000\n",
       "50%         95.000000\n",
       "75%        231.000000\n",
       "max       1580.000000\n",
       "Name: days_exposition, dtype: float64"
      ]
     },
     "execution_count": 149,
     "metadata": {},
     "output_type": "execute_result"
    }
   ],
   "source": [
    "# Избавляемся от маркеров пустых значений\n",
    "print('Медиана времени продажи:', round(data.query('days_exposition != 9999')['days_exposition'].median()),'\\n')\n",
    "print('Среднее времени продажи:', round(data.query('days_exposition != 9999')['days_exposition'].mean()),'\\n')\n",
    "\n",
    "# Построим гистограмму времени продажи\n",
    "plt.hist(data.query('days_exposition != 9999')['days_exposition'], bins=50, range=(0, 160))\n",
    "plt.title('Время продажи')\n",
    "plt.xlabel('Дни')\n",
    "plt.ylabel('Количество квартир')\n",
    "plt.show()\n",
    "\n",
    "# Изучим значения сроков продажи квартир\n",
    "data.query('days_exposition != 9999')['days_exposition'].describe()\n"
   ]
  },
  {
   "cell_type": "markdown",
   "metadata": {},
   "source": [
    "Вывод.\n",
    "Судя по гистограмме мы имеем распределение Пуассона.\n",
    "Медианное время продажи - 74 дня. Среднее время продажи - 157 дней.\n",
    "В основном квартиры продаются за срок в 100 дней. Есть большое число квартир, проданных всего за несколько дней после публикации. А также есть варианты, которые продавались в течении нескольких десятков месяцев.\n",
    "\n",
    "Быстрой продажей можно назвать срок в 45 дней и меньше. Долгой продажей - более 100 дней.\n"
   ]
  },
  {
   "cell_type": "markdown",
   "metadata": {},
   "source": [
    "<div class=\"alert alert-danger\">\n",
    "\n",
    "**❌ Комментарий ревьюера ❌**\n",
    "   \n",
    "   Здесь стоит скорректировать выводы, после того как устранишь ошибки на этапе предобработки. Кроме того, обрати внимание, что пиковые значения около 40, 60 и 90 могут указывать на автоматическое снятие объявления агрегатором. https://yandex.ru/support/realty/owner/home/add-ads-housing.html\n",
    "\n",
    "</div>\n"
   ]
  },
  {
   "cell_type": "markdown",
   "metadata": {},
   "source": [
    "<div class=\"alert alert-block alert-info\">\n",
    "    На основе данных сайта Яндекс справка мы выяснили, что объявления снимаются автоматически через 45, 60 и 90 дней,в зависимости от стоимости объекта. Исключим эти выбросы и пропущенные значения про составлении графика."
   ]
  },
  {
   "cell_type": "code",
   "execution_count": 171,
   "metadata": {},
   "outputs": [
    {
     "name": "stdout",
     "output_type": "stream",
     "text": [
      "Медиана времени продажи: 100 \n",
      "\n",
      "Среднее времени продажи: 184 \n",
      "\n"
     ]
    },
    {
     "data": {
      "image/png": "[encoded data removed]",
      "text/plain": [
       "<Figure size 432x288 with 1 Axes>"
      ]
     },
     "metadata": {
      "needs_background": "light"
     },
     "output_type": "display_data"
    },
    {
     "data": {
      "text/plain": [
       "count    19856.000000\n",
       "mean       184.012893\n",
       "std        221.777031\n",
       "min          1.000000\n",
       "25%         44.000000\n",
       "50%        100.000000\n",
       "75%        238.000000\n",
       "max       1580.000000\n",
       "Name: days_exposition, dtype: float64"
      ]
     },
     "execution_count": 171,
     "metadata": {},
     "output_type": "execute_result"
    }
   ],
   "source": [
    "# Попробуем исключить их\n",
    "print('Медиана времени продажи:', round(data.query(\n",
    "    '(days_exposition != 45) & (days_exposition != 60) & (days_exposition != 90)')['days_exposition'].median()),'\\n'\n",
    "     )\n",
    "print('Среднее времени продажи:', round(data.query(\n",
    "    '(days_exposition != 45) & (days_exposition != 60) & (days_exposition != 90)')['days_exposition'].mean()),'\\n'\n",
    "     )\n",
    "\n",
    "# Построим гистограмму времени продажи\n",
    "plt.hist(data.query(\n",
    "    '(days_exposition != 45) & (days_exposition != 60) & (days_exposition != 90)')['days_exposition'], bins=50, range=(1, 150)\n",
    "        )\n",
    "plt.title('Время продажи')\n",
    "plt.xlabel('Дни')\n",
    "plt.ylabel('Количество квартир')\n",
    "plt.show()\n",
    "\n",
    "# Изучим значения сроков продажи квартир\n",
    "\n",
    "data.query('(days_exposition != 45) & (days_exposition != 60) & (days_exposition != 90)')['days_exposition'].describe()"
   ]
  },
  {
   "cell_type": "markdown",
   "metadata": {},
   "source": [
    "<div class=\"alert alert-block alert-info\">\n",
    "Исправленный вывод.    \n",
    "    Медианное время продажи - 100 дней. Среднее время продажи - 184 дня. В основном квартиры продаются за срок в 100 дней. Есть большое число квартир, проданных всего за 44 дня после публикации. А также есть варианты, которые продавались в течении нескольких десятков месяцев.\n",
    "\n",
    "Быстрой продажей можно назвать срок в 44 дня и меньше. Долгой продажей - более 184 дней."
   ]
  },
  {
   "cell_type": "markdown",
   "metadata": {},
   "source": [
    "#### 2 задание: Какие факторы больше всего влияют на общую (полную) стоимость объекта? Постройте графики, которые покажут зависимость цены от указанных ниже параметров. Для подготовки данных перед визуализацией вы можете использовать сводные таблицы.\n",
    "  - общей площади; \n",
    "  - жилой площади; \n",
    "  - площади кухни; \n",
    "  - количество комнат; \n",
    "  - типа этажа, на котором расположена квартира (первый, последний, другой); \n",
    "  - даты размещения (день недели, месяц, год);"
   ]
  },
  {
   "cell_type": "code",
   "execution_count": 151,
   "metadata": {},
   "outputs": [
    {
     "name": "stdout",
     "output_type": "stream",
     "text": [
      "Корреляция цены и общей площади: \n",
      "\n",
      "            last_price  total_area\n",
      "last_price    1.000000    0.739123\n",
      "total_area    0.739123    1.000000 \n",
      "\n"
     ]
    },
    {
     "data": {
      "image/png": "[encoded data removed]",
      "text/plain": [
       "<Figure size 432x288 with 1 Axes>"
      ]
     },
     "metadata": {
      "needs_background": "light"
     },
     "output_type": "display_data"
    }
   ],
   "source": [
    "# Изучим зависимость стоимости квартир от общей площади квартиры\n",
    "pivot_table_total_area = data.pivot_table(index = 'total_area', values = 'sm_price', aggfunc = ['mean', 'count', 'median'])\n",
    "pivot_table_total_area.columns=['mean', 'count', 'median']\n",
    "pivot_table_total_area.plot(y = 'median', style = 'o', alpha = 0.3)\n",
    "\n",
    "pivot_table_total_area.sort_values('median', ascending=False)\n",
    "\n",
    "print('Корреляция цены и общей площади:','\\n')\n",
    "print(data.pivot_table(index='floor', values=['total_area', 'last_price']).corr(),'\\n')\n"
   ]
  },
  {
   "cell_type": "markdown",
   "metadata": {},
   "source": [
    "Вывод: Корреляция равна 0,7. Согласно корреляции Пирсона зависимость есть. Чем больше площадь квартиры, тем выше будет её стоимость."
   ]
  },
  {
   "cell_type": "code",
   "execution_count": 152,
   "metadata": {},
   "outputs": [
    {
     "name": "stdout",
     "output_type": "stream",
     "text": [
      "Корреляция цены и жилой площади: \n",
      "\n",
      "             last_price  living_area\n",
      "last_price     1.000000     0.626808\n",
      "living_area    0.626808     1.000000 \n",
      "\n"
     ]
    },
    {
     "data": {
      "image/png": "[encoded data removed]",
      "text/plain": [
       "<Figure size 432x288 with 1 Axes>"
      ]
     },
     "metadata": {
      "needs_background": "light"
     },
     "output_type": "display_data"
    }
   ],
   "source": [
    "# Изучим зависимость стоимости квартир от жилой площади квартиры\n",
    "\n",
    "pivot_table_total_area = data.pivot_table(index = 'living_area', values = 'sm_price', aggfunc = ['mean', 'count', 'median'])\n",
    "pivot_table_total_area.columns=['mean', 'count', 'median']\n",
    "pivot_table_total_area.plot(y = 'median', style = 'o', alpha = 0.3)\n",
    "\n",
    "pivot_table_total_area.sort_values('median', ascending=False)\n",
    "\n",
    "print('Корреляция цены и жилой площади:','\\n')\n",
    "print(data.pivot_table(index='floor', values=['living_area', 'last_price']).corr(),'\\n')"
   ]
  },
  {
   "cell_type": "markdown",
   "metadata": {},
   "source": [
    "Вывод: Корреляция равна 0,6. То есть чем больше жилая площадь, тем немного выше будет общая стоимость квартиры."
   ]
  },
  {
   "cell_type": "code",
   "execution_count": 153,
   "metadata": {},
   "outputs": [
    {
     "name": "stdout",
     "output_type": "stream",
     "text": [
      "Корреляция цены и площади кухни: \n",
      "\n",
      "              kitchen_area  last_price\n",
      "kitchen_area      1.000000    0.308038\n",
      "last_price        0.308038    1.000000 \n",
      "\n"
     ]
    },
    {
     "data": {
      "image/png": "[encoded data removed]",
      "text/plain": [
       "<Figure size 432x288 with 1 Axes>"
      ]
     },
     "metadata": {
      "needs_background": "light"
     },
     "output_type": "display_data"
    }
   ],
   "source": [
    "# Изучим зависимость стоимости квартир от площади кухни\n",
    "\n",
    "pivot_table_total_area = data.pivot_table(index = 'kitchen_area', values = 'sm_price', aggfunc = ['mean', 'count', 'median'])\n",
    "pivot_table_total_area.columns=['mean', 'count', 'median']\n",
    "pivot_table_total_area.plot(y = 'median', style = 'o', alpha = 0.3)\n",
    "\n",
    "pivot_table_total_area.sort_values('median', ascending=False)\n",
    "\n",
    "print('Корреляция цены и площади кухни:','\\n')\n",
    "print(data.pivot_table(index='floor', values=['kitchen_area', 'last_price']).corr(),'\\n')"
   ]
  },
  {
   "cell_type": "markdown",
   "metadata": {},
   "source": [
    "Вывод: Корреляция составила 0,3. Значит общая стоимость квартиры имеет не значительную зависимость от площади кухни."
   ]
  },
  {
   "cell_type": "code",
   "execution_count": 154,
   "metadata": {},
   "outputs": [
    {
     "data": {
      "image/png": "[encoded data removed]",
      "text/plain": [
       "<Figure size 432x288 with 1 Axes>"
      ]
     },
     "metadata": {
      "needs_background": "light"
     },
     "output_type": "display_data"
    },
    {
     "name": "stdout",
     "output_type": "stream",
     "text": [
      "Корреляция цены и площади: \n",
      "\n",
      "            last_price     rooms\n",
      "last_price    1.000000  0.442934\n",
      "rooms         0.442934  1.000000 \n",
      "\n"
     ]
    }
   ],
   "source": [
    "# Изучим зависимость стоимости квартир от колличества комнат\n",
    "\n",
    "data.query('rooms > 0').pivot_table(index = 'rooms', values = 'last_price').plot(grid=True, style='-o')\n",
    "plt.show()\n",
    "\n",
    "#data['rooms'].corr(data['last_price'])\n",
    "\n",
    "print('Корреляция цены и площади:','\\n')\n",
    "print(data.pivot_table(index='floor', values=['rooms', 'last_price']).corr(),'\\n')"
   ]
  },
  {
   "cell_type": "markdown",
   "metadata": {},
   "source": [
    "Вывод: Корреляция составила 0,4. Число комнат влияет на цену (больше комнат - выше стоимость), однако зависимость ниже чем у площади."
   ]
  },
  {
   "cell_type": "code",
   "execution_count": 155,
   "metadata": {},
   "outputs": [
    {
     "data": {
      "image/png": "[encoded data removed]",
      "text/plain": [
       "<Figure size 432x288 with 1 Axes>"
      ]
     },
     "metadata": {
      "needs_background": "light"
     },
     "output_type": "display_data"
    }
   ],
   "source": [
    "# Изучим зависимость стоимости квартир от типа этажа, \n",
    "# на котором расположена квартира (первый, последний, другой)\n",
    "\n",
    "data.pivot_table(index = 'floor_category', values = 'last_price', aggfunc = 'median').plot(grid=True, style='-o')\n",
    "plt.show()"
   ]
  },
  {
   "cell_type": "markdown",
   "metadata": {},
   "source": [
    "Вывод: \n",
    "Самая высокая стоимость у квартир, расположенных не на 1-м и не на последнем этаже.\n",
    "Наименьшая стоимость будет у квартир на первом этаже, чуть дороже будут квартиры на последнем этаже."
   ]
  },
  {
   "cell_type": "code",
   "execution_count": 156,
   "metadata": {},
   "outputs": [
    {
     "data": {
      "image/png": "[encoded data removed]",
      "text/plain": [
       "<Figure size 432x288 with 1 Axes>"
      ]
     },
     "metadata": {
      "needs_background": "light"
     },
     "output_type": "display_data"
    },
    {
     "data": {
      "image/png": "[encoded data removed]",
      "text/plain": [
       "<Figure size 432x288 with 1 Axes>"
      ]
     },
     "metadata": {
      "needs_background": "light"
     },
     "output_type": "display_data"
    },
    {
     "data": {
      "image/png": "[encoded data removed]",
      "text/plain": [
       "<Figure size 432x288 with 1 Axes>"
      ]
     },
     "metadata": {
      "needs_background": "light"
     },
     "output_type": "display_data"
    }
   ],
   "source": [
    "# Изучим зависимость цены квадратного метра от даты размещения объявления (день недели, месяц, год)\n",
    "#data['weekday_exposition'] = data['first_day_exposition'].dt.weekday\n",
    "#data['month_exposition'] = data['first_day_exposition'].dt.month\n",
    "#data['year_exposition'] = data['first_day_exposition'].dt.year\n",
    "\n",
    "data.pivot_table(index = 'weekday_exposition', values = 'sm_price', aggfunc = 'median').plot(grid=True, style='-o')\n",
    "plt.title('Зависимость цены от дня недели')\n",
    "plt.show()\n",
    "\n",
    "\n",
    "data.pivot_table(index = 'month_exposition', values = 'sm_price', aggfunc = 'median').plot(grid=True, style='-o')\n",
    "plt.title('Зависимость цены от месяца публикации')\n",
    "\n",
    "plt.show()\n",
    "\n",
    "\n",
    "data.pivot_table(index = 'year_exposition', values = 'sm_price', aggfunc = 'median').plot(grid=True, style='-o')\n",
    "plt.title('Зависимость цены от года публикации')\n",
    "plt.show()\n"
   ]
  },
  {
   "cell_type": "markdown",
   "metadata": {},
   "source": [
    "Вывод.\n",
    "\n",
    "День недели: дороже всего квартиры, опубликованные во вторник, дешевле всего - в субботу.\n",
    "\n",
    "Месяц: дороже всего квартиры, продающиеся с апреля, дешевле всего - с июня.\n",
    "\n",
    "Год: квартиры очень сильно подешевели в 2015-2017 годах, что, вероятно, вызвано некоторым кризисом 2014-2015 годов. В 2018 году цены снова стали повышаться, т.к. экономика и зарплаты скорее всего стали расти."
   ]
  },
  {
   "cell_type": "markdown",
   "metadata": {},
   "source": [
    "<div class=\"alert alert-success\">\n",
    "\n",
    "**✔️ Комментарий ревьюера ✔️**\n",
    "   \n",
    "   Хорошие результаты. Отмечу, что скорее всего, низкую цену на квартиры на первом и последнем этажах можно аргументировать плохими условиями - шум от улиц и моторов лифта, охлаждаемость помещения зимой. \n",
    "\n",
    "</div>"
   ]
  },
  {
   "cell_type": "markdown",
   "metadata": {},
   "source": [
    "#### 3 задание: Посчитайте среднюю цену одного квадратного метра в 10 населённых пунктах с наибольшим числом объявлений. Выделите населённые пункты с самой высокой и низкой стоимостью квадратного метра. Эти данные можно найти по имени в столбце locality_name."
   ]
  },
  {
   "cell_type": "code",
   "execution_count": 157,
   "metadata": {},
   "outputs": [
    {
     "data": {
      "text/html": [
       "<div>\n",
       "<style scoped>\n",
       "    .dataframe tbody tr th:only-of-type {\n",
       "        vertical-align: middle;\n",
       "    }\n",
       "\n",
       "    .dataframe tbody tr th {\n",
       "        vertical-align: top;\n",
       "    }\n",
       "\n",
       "    .dataframe thead th {\n",
       "        text-align: right;\n",
       "    }\n",
       "</style>\n",
       "<table border=\"1\" class=\"dataframe\">\n",
       "  <thead>\n",
       "    <tr style=\"text-align: right;\">\n",
       "      <th></th>\n",
       "      <th>sm_price</th>\n",
       "    </tr>\n",
       "    <tr>\n",
       "      <th>locality_name</th>\n",
       "      <th></th>\n",
       "    </tr>\n",
       "  </thead>\n",
       "  <tbody>\n",
       "    <tr>\n",
       "      <th>Санкт-Петербург</th>\n",
       "      <td>114868</td>\n",
       "    </tr>\n",
       "    <tr>\n",
       "      <th>Пушкин</th>\n",
       "      <td>103125</td>\n",
       "    </tr>\n",
       "    <tr>\n",
       "      <th>деревня Кудрово</th>\n",
       "      <td>92473</td>\n",
       "    </tr>\n",
       "    <tr>\n",
       "      <th>посёлок Парголово</th>\n",
       "      <td>90175</td>\n",
       "    </tr>\n",
       "    <tr>\n",
       "      <th>посёлок Мурино</th>\n",
       "      <td>85629</td>\n",
       "    </tr>\n",
       "    <tr>\n",
       "      <th>посёлок Шушары</th>\n",
       "      <td>78550</td>\n",
       "    </tr>\n",
       "    <tr>\n",
       "      <th>Колпино</th>\n",
       "      <td>75424</td>\n",
       "    </tr>\n",
       "    <tr>\n",
       "      <th>Гатчина</th>\n",
       "      <td>68745</td>\n",
       "    </tr>\n",
       "    <tr>\n",
       "      <th>Всеволожск</th>\n",
       "      <td>68654</td>\n",
       "    </tr>\n",
       "    <tr>\n",
       "      <th>Выборг</th>\n",
       "      <td>58141</td>\n",
       "    </tr>\n",
       "  </tbody>\n",
       "</table>\n",
       "</div>"
      ],
      "text/plain": [
       "                   sm_price\n",
       "locality_name              \n",
       "Санкт-Петербург      114868\n",
       "Пушкин               103125\n",
       "деревня Кудрово       92473\n",
       "посёлок Парголово     90175\n",
       "посёлок Мурино        85629\n",
       "посёлок Шушары        78550\n",
       "Колпино               75424\n",
       "Гатчина               68745\n",
       "Всеволожск            68654\n",
       "Выборг                58141"
      ]
     },
     "execution_count": 157,
     "metadata": {},
     "output_type": "execute_result"
    }
   ],
   "source": [
    "# Сравним среднюю стоимость квадратного метра в топ - 10 городов по числу объявлений\n",
    "\n",
    "city_top10 = data['locality_name'].value_counts().head(10)\n",
    "city_sm_price = data.query('locality_name in (@city_top10.index)').pivot_table(values = 'sm_price', index = 'locality_name')\n",
    "city_sm_price = city_sm_price.astype('int')\n",
    "city_sm_price.sort_values('sm_price', ascending=False)"
   ]
  },
  {
   "cell_type": "markdown",
   "metadata": {},
   "source": [
    "Вывод:\n",
    "\n",
    "Как и ожидалось, наибольшая стоимость квадратного метра в Санкт - Петербурге. \n",
    "\n",
    "Затем идет Пушкин. Скорее всего это вызвано хорошей застройкой и большим количеством парков.\n",
    "\n",
    "Далее идут районы, фактически являющиеся Санкт - Петербургом и непосредственно примыкающие к нему.\n",
    "\n",
    "Наименьшая стоимость из топ - 10 в Выборге, Всеволожске и Гатчине. Думаю это связано с тем, что эти населенные пункты находятся на большом расстоянии от Санкт - Петербурга."
   ]
  },
  {
   "cell_type": "markdown",
   "metadata": {},
   "source": [
    "<div class=\"alert alert-success\">\n",
    "\n",
    "**✔️ Комментарий ревьюера ✔️**\n",
    "   Верно\n",
    "   \n",
    "\n",
    "</div>\n"
   ]
  },
  {
   "cell_type": "markdown",
   "metadata": {},
   "source": [
    "####  4 задание: Ранее вы посчитали расстояние до центра в километрах. Теперь выделите квартиры в Санкт-Петербурге с помощью столбца locality_name и вычислите среднюю цену каждого километра. Опишите, как стоимость объектов зависит от расстояния до центра города."
   ]
  },
  {
   "cell_type": "code",
   "execution_count": 158,
   "metadata": {},
   "outputs": [
    {
     "data": {
      "image/png": "[encoded data removed]",
      "text/plain": [
       "<Figure size 720x360 with 1 Axes>"
      ]
     },
     "metadata": {
      "needs_background": "light"
     },
     "output_type": "display_data"
    }
   ],
   "source": [
    "# Определим расстояние, которое будет считаться центром города.\n",
    "data.query('locality_name == \"Санкт-Петербург\"').pivot_table(index = 'center_km', values = 'last_price').plot(grid=True, style = '-o', xlim=(0,15), figsize=(10,5))\n",
    "plt.show()"
   ]
  },
  {
   "cell_type": "markdown",
   "metadata": {},
   "source": [
    "Вывод: \n",
    "\n",
    "Центральная зона находится в пределах 7 км. Дальше 7 км средня цена на объекты недвижимости сильно снижается."
   ]
  },
  {
   "cell_type": "code",
   "execution_count": 159,
   "metadata": {},
   "outputs": [
    {
     "data": {
      "image/png": "[encoded data removed]",
      "text/plain": [
       "<Figure size 360x360 with 1 Axes>"
      ]
     },
     "metadata": {
      "needs_background": "light"
     },
     "output_type": "display_data"
    },
    {
     "name": "stdout",
     "output_type": "stream",
     "text": [
      "Корреляция цены и удаленности от центра: \n",
      "\n",
      "                     cityCenters_nearest  last_price\n",
      "cityCenters_nearest             1.000000    0.166681\n",
      "last_price                      0.166681    1.000000 \n",
      "\n"
     ]
    }
   ],
   "source": [
    "# Исследуем зависимость цены от удаленности от центра\n",
    "# Создадим новый датафрейм в котором сконцентрируем только те объекты недвижимости, которые находятся в радиусе 7 км от центра\n",
    "#data['center_km'] = data['cityCenters_nearest']/1000\n",
    "#data['center_km'] = data['center_km'].fillna(value=0).astype('int')\n",
    "spb_center = data.query('(locality_name == \"Санкт-Петербург\") & (center_km <= 7)')\n",
    "\n",
    "spb_center.pivot_table(index = 'cityCenters_nearest', values = 'last_price', aggfunc = 'median').plot(grid=True, style='o', figsize=(5,5), alpha = 0.3)\n",
    "plt.show()\n",
    "\n",
    "print('Корреляция цены и удаленности от центра:', '\\n')\n",
    "print(spb_center.pivot_table(index='floor', values=['cityCenters_nearest', 'last_price']).corr(),'\\n')"
   ]
  },
  {
   "cell_type": "code",
   "execution_count": 160,
   "metadata": {},
   "outputs": [
    {
     "data": {
      "text/html": [
       "<div>\n",
       "<style scoped>\n",
       "    .dataframe tbody tr th:only-of-type {\n",
       "        vertical-align: middle;\n",
       "    }\n",
       "\n",
       "    .dataframe tbody tr th {\n",
       "        vertical-align: top;\n",
       "    }\n",
       "\n",
       "    .dataframe thead th {\n",
       "        text-align: right;\n",
       "    }\n",
       "</style>\n",
       "<table border=\"1\" class=\"dataframe\">\n",
       "  <thead>\n",
       "    <tr style=\"text-align: right;\">\n",
       "      <th></th>\n",
       "      <th>sm_price</th>\n",
       "    </tr>\n",
       "    <tr>\n",
       "      <th>center_km</th>\n",
       "      <th></th>\n",
       "    </tr>\n",
       "  </thead>\n",
       "  <tbody>\n",
       "    <tr>\n",
       "      <th>0</th>\n",
       "      <td>174707.890411</td>\n",
       "    </tr>\n",
       "    <tr>\n",
       "      <th>1</th>\n",
       "      <td>166603.312500</td>\n",
       "    </tr>\n",
       "    <tr>\n",
       "      <th>6</th>\n",
       "      <td>152277.455319</td>\n",
       "    </tr>\n",
       "    <tr>\n",
       "      <th>5</th>\n",
       "      <td>146977.869792</td>\n",
       "    </tr>\n",
       "    <tr>\n",
       "      <th>2</th>\n",
       "      <td>146662.420195</td>\n",
       "    </tr>\n",
       "    <tr>\n",
       "      <th>7</th>\n",
       "      <td>141399.287469</td>\n",
       "    </tr>\n",
       "    <tr>\n",
       "      <th>4</th>\n",
       "      <td>137412.971207</td>\n",
       "    </tr>\n",
       "    <tr>\n",
       "      <th>3</th>\n",
       "      <td>129526.480916</td>\n",
       "    </tr>\n",
       "  </tbody>\n",
       "</table>\n",
       "</div>"
      ],
      "text/plain": [
       "                sm_price\n",
       "center_km               \n",
       "0          174707.890411\n",
       "1          166603.312500\n",
       "6          152277.455319\n",
       "5          146977.869792\n",
       "2          146662.420195\n",
       "7          141399.287469\n",
       "4          137412.971207\n",
       "3          129526.480916"
      ]
     },
     "execution_count": 160,
     "metadata": {},
     "output_type": "execute_result"
    }
   ],
   "source": [
    "# Вычислим среднюю стоимость каждого километра в пределах центра\n",
    "\n",
    "spb_center_km = spb_center.pivot_table(values = 'sm_price', index = 'center_km', aggfunc = 'mean')\n",
    "\n",
    "spb_center_km.sort_values('sm_price', ascending=False)"
   ]
  },
  {
   "cell_type": "markdown",
   "metadata": {},
   "source": [
    "Вывод:\n",
    "В центральной зонее зависимость от удаленности практически не наблюдается. Местами стоимость даже немного повышается при удалении от центра. Возможно это связано с расположением формального центра города или наличием рядом основных станций метро."
   ]
  },
  {
   "cell_type": "markdown",
   "metadata": {},
   "source": [
    "<div class=\"alert alert-success\">\n",
    "✔️ Комментарий ревьюера ✔️\n",
    "\n",
    "Верно. На графике после 7 км заметно, что цена меняется. Это, действительно, возможный центр города.\n",
    "    \n",
    "Если интересно, то самый дорогой по стоимости жилья район в Санкт-Петербурге риелторы назвали \"Золотой треугольник\". Дома \"Золотого треугольника\" находятся в пределах Невского проспекта, набережной реки Фонтанки и Дворцовой набережной.\n",
    "Для географической справки: https://zen.yandex.ru/media/id/5cb4ebcc0a51a300b5b1f60d/zolotoi-treugolnik-sanktpeterburga-chto-eto-i-gde-nahoditsia-5edf942db1204610073e88b2 \n",
    "\n",
    "</div>"
   ]
  },
  {
   "cell_type": "markdown",
   "metadata": {},
   "source": [
    "### Общий вывод"
   ]
  },
  {
   "cell_type": "markdown",
   "metadata": {},
   "source": [
    "Мы обработали полученный архив данных - обработали пропущенные значения там, где это необходимо, заменили типы данных на необходимые для удобной работы. Посчитали и добавили в таблицу цену квадратного метра жилья, вывели из даты дни недели, месяцы и года размещения объявлений, добавили категории по этажам квартир. Изучили следующие параметры на наличие выбивающихся значений - площадь, цена, число комнат, высота потолков. Были определены аномалии в данных параметрах."
   ]
  },
  {
   "cell_type": "markdown",
   "metadata": {},
   "source": [
    "1. Сколько времени занимает продажа квартиры. \n",
    "Какие продажи можно считать быстрыми, а какие — необычно долгими.\n",
    "\n",
    "Судя по гистограмме мы имеем распределение Пуассона. Медианное время продажи составило 74 дня. Среднее время продажи - 157 дней. В основном квартиры продаются в срок до 100 дней. Есть большое число квартир, проданных всего за несколько дней после публикации. А также есть варианты, которые продавались в течении нескольких десятков месяцев.\n",
    "\n",
    "Быстрой продажей можно назвать срок в 45 дней и меньше, долгой - более 100 дней."
   ]
  },
  {
   "attachments": {
    "image.png": {
     "image/png": "[encoded data removed]"
    }
   },
   "cell_type": "markdown",
   "metadata": {},
   "source": [
    "![image.png](attachment:image.png)"
   ]
  },
  {
   "cell_type": "markdown",
   "metadata": {},
   "source": [
    "<div class=\"alert alert-block alert-info\">\n",
    "Иправила вывод и график по 1 заданию.\n",
    "\n",
    "Медианное время продажи составило 100 дней. Среднее время продажи - 184 дня. В основном квартиры продаются за срок до 100 дней. Есть большое число квартир, проданных всего за 44 дня после публикации. А также есть варианты, которые продавались в течении нескольких десятков месяцев.\n",
    "    \n",
    "Быстрой продажей можно назвать срок в 44 дня и меньше. Долгой продажей - более 184 дней."
   ]
  },
  {
   "attachments": {
    "image.png": {
     "image/png": "[encoded data removed]"
    }
   },
   "cell_type": "markdown",
   "metadata": {},
   "source": [
    "   ![image.png](attachment:image.png)"
   ]
  },
  {
   "cell_type": "markdown",
   "metadata": {},
   "source": [
    "2. Какие факторы больше всего влияют на стоимость объекта. \n",
    "\n",
    "Мы выявили, что на стоимость квадратного метра квартиры больше всего влияют общая и жилая площадь, количество комнат, этаж квартиры и близость к центру. Незначительно на стоимость квадратного метра влияют день, месяц, год размещения и площадь кухни. Так же стоит учитывать, что в 2016-2017 годах стоимость квартир в среднем по рынку была ниже на 10-20 %. \n",
    "Судя, по резкости изменения цен в зависимости от удаления от центра СПБ, мы выявили центр города в радиусе 7 километров.\n",
    "\n"
   ]
  },
  {
   "attachments": {
    "image-2.png": {
     "image/png": "[encoded data removed]"
    },
    "image-3.png": {
     "image/png": "[encoded data removed]"
    },
    "image-4.png": {
     "image/png": "[encoded data removed]"
    },
    "image.png": {
     "image/png": "[encoded data removed]"
    }
   },
   "cell_type": "markdown",
   "metadata": {},
   "source": [
    "![image.png](attachment:image.png)  ![image-2.png](attachment:image-2.png)  ![image-3.png](attachment:image-3.png)  ![image-4.png](attachment:image-4.png)"
   ]
  },
  {
   "cell_type": "markdown",
   "metadata": {},
   "source": [
    "3. Какая средняя стоимость квартиры в 10 населённых пунктов с наибольшим числом объявлений.\n",
    "\n",
    "Наибольшая стоимость квадратного метра в Санкт - Петербурге - 114868.\n",
    "\n",
    "Затем идет Пушкин, что скорее всего вызвано хорошей застройкой и большим количеством парков.\n",
    "\n",
    "Наименьшая стоимость из топ - 10 в Выборге, Всеволожске и Гатчине. Думаю это связано с тем, что эти населенные пункты находятся на большом расстоянии от Санкт - Петербурга.\n",
    "\n",
    "Дешевле всего квадратный метр в Выборге - 58141"
   ]
  },
  {
   "cell_type": "markdown",
   "metadata": {},
   "source": [
    "4. Как стоимость объектов зависит от расстояния до центра города.\n",
    "\n",
    "В центре города зависимость от удаленности практически не наблюдается. Местами стоимость даже немного повышается при удалении от центра. В целом экономическая ситуация мало влияет на стоимость элитной недвижимости в центре города.\n",
    "\n",
    "На графике четко видно как резко начинают падать в стоимости объекты недвижимости по мере удаления от центра (который мы определили как 7 км)."
   ]
  },
  {
   "attachments": {
    "image.png": {
     "image/png": "[encoded data removed]"
    }
   },
   "cell_type": "markdown",
   "metadata": {},
   "source": [
    "![image.png](attachment:image.png)"
   ]
  },
  {
   "cell_type": "markdown",
   "metadata": {},
   "source": [
    "<div class=\"alert alert-success\">\n",
    "\n",
    "**✔️ Комментарий ревьюера ✔️**\n",
    "   \n",
    "   Виктория, проведен основательный и подробный анализ. Все наглядно - графики и гистограммы подтверждают обоснованные выводы. Учти мои замечания. Возможно, придется немного подправить выводы. Жду твой проект на повторное ревью. Успехов!\n",
    "\n",
    "</div>\n"
   ]
  },
  {
   "cell_type": "markdown",
   "metadata": {},
   "source": [
    "<div class=\"alert alert-success\">\n",
    "\n",
    "**✔️ Комментарий ревьюера v2✔️**\n",
    "   \n",
    "   Виктория, замечания устранены 👍. Уверен, мои советы пригодятся тебе в новых проектах. Успехов в обучении! 😉 \n",
    "\n",
    "</div>"
   ]
  },
  {
   "cell_type": "markdown",
   "metadata": {},
   "source": [
    "**Чек-лист готовности проекта**\n",
    "\n",
    "Поставьте 'x' в выполненных пунктах. Далее нажмите Shift+Enter."
   ]
  },
  {
   "cell_type": "markdown",
   "metadata": {},
   "source": [
    "- [x]  открыт файл\n",
    "- [x]  файлы изучены (выведены первые строки, метод `info()`, гистограммы и т.д.)\n",
    "- [x]  определены пропущенные значения\n",
    "- [x]  заполнены пропущенные значения там, где это возможно\n",
    "- [x]  есть пояснение, какие пропущенные значения обнаружены\n",
    "- [x]  изменены типы данных\n",
    "- [x]  есть пояснение, в каких столбцах изменены типы и почему\n",
    "- [x]  устранены неявные дубликаты в названиях населённых пунктов\n",
    "- [x]  устранены редкие и выбивающиеся значения (аномалии) во всех столбцах\n",
    "- [x]  посчитано и добавлено в таблицу: цена одного квадратного метра\n",
    "- [x]  посчитано и добавлено в таблицу: день публикации объявления (0 - понедельник, 1 - вторник и т.д.)\n",
    "- [x]  посчитано и добавлено в таблицу: месяц публикации объявления\n",
    "- [x]  посчитано и добавлено в таблицу: год публикации объявления\n",
    "- [x]  посчитано и добавлено в таблицу: тип этажа квартиры (значения — «первый», «последний», «другой»)\n",
    "- [x]  посчитано и добавлено в таблицу: расстояние в км до центра города\n",
    "- [x]  изучены и описаны следующие параметры:\n",
    "        - общая площадь;\n",
    "        - жилая площадь;\n",
    "        - площадь кухни;\n",
    "        - цена объекта;\n",
    "        - количество комнат;\n",
    "        - высота потолков;\n",
    "        - этаж квартиры;\n",
    "        - тип этажа квартиры («первый», «последний», «другой»);\n",
    "        - общее количество этажей в доме;\n",
    "        - расстояние до центра города в метрах;\n",
    "        - расстояние до ближайшего аэропорта;\n",
    "        - расстояние до ближайшего парка;\n",
    "        - день и месяц публикации объявления\n",
    "- [x]  построены гистограммы для каждого параметра\n",
    "- [x]  выполнено задание: \"Изучите, как быстро продавались квартиры (столбец days_exposition). Этот параметр показывает, сколько дней «висело» каждое объявление.\n",
    "    - Постройте гистограмму.\n",
    "    - Посчитайте среднее и медиану.\n",
    "    - В ячейке типа markdown опишите, сколько обычно занимает продажа. Какие продажи можно считать быстрыми, а какие — необычно долгими?\"\n",
    "- [x]  выполнено задание: \"Какие факторы больше всего влияют на общую (полную) стоимость объекта? Постройте графики, которые покажут зависимость цены от указанных ниже параметров. Для подготовки данных перед визуализацией вы можете использовать сводные таблицы.\"\n",
    "        - общей площади;\n",
    "        - жилой площади;\n",
    "        - площади кухни;\n",
    "        - количество комнат;\n",
    "        - типа этажа, на котором расположена квартира (первый, последний, другой);\n",
    "        - даты размещения (день недели, месяц, год);\n",
    "- [x]  выполнено задание: \"Посчитайте среднюю цену одного квадратного метра в 10 населённых пунктах с наибольшим числом объявлений. Выделите населённые пункты с самой высокой и низкой стоимостью квадратного метра. Эти данные можно найти по имени в столбце `locality_name`.\"\n",
    "- [x]  выполнено задание: \"Ранее вы посчитали расстояние до центра в километрах. Теперь выделите квартиры в Санкт-Петербурге с помощью столбца `locality_name` и вычислите среднюю цену каждого километра. Опишите, как стоимость объектов зависит от расстояния до центра города.\"\n",
    "- [x]  в каждом этапе есть промежуточные выводы\n",
    "- [x]  есть общий вывод"
   ]
  }
 ],
 "metadata": {
  "ExecuteTimeLog": [
   {
    "duration": 619,
    "start_time": "2023-01-29T19:41:57.670Z"
   },
   {
    "duration": 2647,
    "start_time": "2023-01-29T19:47:57.223Z"
   },
   {
    "duration": 23,
    "start_time": "2023-01-29T19:49:29.003Z"
   },
   {
    "duration": 44,
    "start_time": "2023-01-29T19:49:50.935Z"
   },
   {
    "duration": 117,
    "start_time": "2023-01-29T19:51:26.661Z"
   },
   {
    "duration": 114,
    "start_time": "2023-01-29T19:51:34.814Z"
   },
   {
    "duration": 118,
    "start_time": "2023-01-29T19:51:46.407Z"
   },
   {
    "duration": 15,
    "start_time": "2023-01-29T19:52:46.267Z"
   },
   {
    "duration": 139,
    "start_time": "2023-01-29T19:53:09.807Z"
   },
   {
    "duration": 4,
    "start_time": "2023-01-29T19:55:16.694Z"
   },
   {
    "duration": 6,
    "start_time": "2023-01-29T19:57:39.499Z"
   },
   {
    "duration": 18,
    "start_time": "2023-01-29T20:00:23.762Z"
   },
   {
    "duration": 27,
    "start_time": "2023-01-29T20:01:29.734Z"
   },
   {
    "duration": 6,
    "start_time": "2023-01-29T20:02:14.018Z"
   },
   {
    "duration": 15,
    "start_time": "2023-01-29T20:06:12.182Z"
   },
   {
    "duration": 187,
    "start_time": "2023-01-29T20:07:25.098Z"
   },
   {
    "duration": 169,
    "start_time": "2023-01-29T20:07:35.158Z"
   },
   {
    "duration": 250,
    "start_time": "2023-01-29T20:11:18.082Z"
   },
   {
    "duration": 207,
    "start_time": "2023-01-29T20:13:30.136Z"
   },
   {
    "duration": 44,
    "start_time": "2023-01-29T20:13:35.346Z"
   },
   {
    "duration": 12,
    "start_time": "2023-01-29T20:19:13.685Z"
   },
   {
    "duration": 41,
    "start_time": "2023-01-29T20:20:51.385Z"
   },
   {
    "duration": 12,
    "start_time": "2023-01-29T20:24:51.693Z"
   },
   {
    "duration": 12,
    "start_time": "2023-01-29T20:27:59.973Z"
   },
   {
    "duration": 46,
    "start_time": "2023-01-30T13:37:54.789Z"
   },
   {
    "duration": 7,
    "start_time": "2023-01-30T13:38:03.792Z"
   },
   {
    "duration": 819,
    "start_time": "2023-01-30T13:38:11.541Z"
   },
   {
    "duration": 17,
    "start_time": "2023-01-30T13:38:12.362Z"
   },
   {
    "duration": 2567,
    "start_time": "2023-01-30T13:38:15.401Z"
   },
   {
    "duration": 4,
    "start_time": "2023-01-30T13:38:17.971Z"
   },
   {
    "duration": 31,
    "start_time": "2023-01-30T13:38:17.977Z"
   },
   {
    "duration": 28,
    "start_time": "2023-01-30T13:38:18.010Z"
   },
   {
    "duration": 192,
    "start_time": "2023-01-30T13:38:18.041Z"
   },
   {
    "duration": 65,
    "start_time": "2023-01-30T13:38:18.237Z"
   },
   {
    "duration": 14,
    "start_time": "2023-01-30T13:38:18.305Z"
   },
   {
    "duration": 66,
    "start_time": "2023-01-30T13:38:18.320Z"
   },
   {
    "duration": 12,
    "start_time": "2023-01-30T13:38:18.390Z"
   },
   {
    "duration": 5,
    "start_time": "2023-01-30T13:38:19.867Z"
   },
   {
    "duration": 280,
    "start_time": "2023-01-30T13:49:58.849Z"
   },
   {
    "duration": 5,
    "start_time": "2023-01-30T13:52:40.305Z"
   },
   {
    "duration": 369,
    "start_time": "2023-01-30T13:57:24.385Z"
   },
   {
    "duration": 313,
    "start_time": "2023-01-30T13:57:34.598Z"
   },
   {
    "duration": 307,
    "start_time": "2023-01-30T13:58:06.017Z"
   },
   {
    "duration": 290,
    "start_time": "2023-01-30T13:58:12.185Z"
   },
   {
    "duration": 320,
    "start_time": "2023-01-30T14:01:55.506Z"
   },
   {
    "duration": 296,
    "start_time": "2023-01-30T14:02:07.205Z"
   },
   {
    "duration": 415,
    "start_time": "2023-01-30T14:02:50.017Z"
   },
   {
    "duration": 288,
    "start_time": "2023-01-30T14:03:03.741Z"
   },
   {
    "duration": 3,
    "start_time": "2023-01-30T14:03:05.785Z"
   },
   {
    "duration": 311,
    "start_time": "2023-01-30T14:03:07.270Z"
   },
   {
    "duration": 330,
    "start_time": "2023-01-30T14:04:23.825Z"
   },
   {
    "duration": 337,
    "start_time": "2023-01-30T14:04:28.658Z"
   },
   {
    "duration": 456,
    "start_time": "2023-01-30T14:04:29.901Z"
   },
   {
    "duration": 783,
    "start_time": "2023-01-30T14:08:01.970Z"
   },
   {
    "duration": 223,
    "start_time": "2023-01-30T14:08:07.729Z"
   },
   {
    "duration": 316,
    "start_time": "2023-01-30T14:08:15.177Z"
   },
   {
    "duration": 47,
    "start_time": "2023-01-30T17:05:54.517Z"
   },
   {
    "duration": 8,
    "start_time": "2023-01-30T17:14:29.056Z"
   },
   {
    "duration": 615,
    "start_time": "2023-01-30T17:14:37.733Z"
   },
   {
    "duration": 16,
    "start_time": "2023-01-30T17:14:38.353Z"
   },
   {
    "duration": 2450,
    "start_time": "2023-01-30T17:14:39.600Z"
   },
   {
    "duration": 4,
    "start_time": "2023-01-30T17:14:42.052Z"
   },
   {
    "duration": 18,
    "start_time": "2023-01-30T17:14:42.813Z"
   },
   {
    "duration": 33,
    "start_time": "2023-01-30T17:14:43.860Z"
   },
   {
    "duration": 16,
    "start_time": "2023-01-30T17:17:58.033Z"
   },
   {
    "duration": 483,
    "start_time": "2023-01-30T17:17:58.777Z"
   },
   {
    "duration": 402,
    "start_time": "2023-01-30T17:18:20.145Z"
   },
   {
    "duration": 315,
    "start_time": "2023-01-30T17:18:22.337Z"
   },
   {
    "duration": 144,
    "start_time": "2023-01-30T17:18:29.117Z"
   },
   {
    "duration": 148,
    "start_time": "2023-01-30T17:18:36.033Z"
   },
   {
    "duration": 17,
    "start_time": "2023-01-30T17:19:31.385Z"
   },
   {
    "duration": 24,
    "start_time": "2023-01-30T17:20:23.753Z"
   },
   {
    "duration": 22,
    "start_time": "2023-01-30T17:22:28.441Z"
   },
   {
    "duration": 425,
    "start_time": "2023-01-30T17:22:38.857Z"
   },
   {
    "duration": 5,
    "start_time": "2023-01-30T17:29:39.666Z"
   },
   {
    "duration": 5,
    "start_time": "2023-01-30T17:39:40.642Z"
   },
   {
    "duration": 12,
    "start_time": "2023-01-30T17:39:41.158Z"
   },
   {
    "duration": 280,
    "start_time": "2023-01-30T17:39:41.855Z"
   },
   {
    "duration": 358,
    "start_time": "2023-01-30T17:44:36.934Z"
   },
   {
    "duration": 185,
    "start_time": "2023-01-30T17:45:55.006Z"
   },
   {
    "duration": 14,
    "start_time": "2023-01-30T17:45:55.218Z"
   },
   {
    "duration": 1971,
    "start_time": "2023-01-30T17:45:55.570Z"
   },
   {
    "duration": 3,
    "start_time": "2023-01-30T17:45:57.543Z"
   },
   {
    "duration": 59,
    "start_time": "2023-01-30T17:45:57.548Z"
   },
   {
    "duration": 78,
    "start_time": "2023-01-30T17:45:57.610Z"
   },
   {
    "duration": 0,
    "start_time": "2023-01-30T17:45:57.690Z"
   },
   {
    "duration": 0,
    "start_time": "2023-01-30T17:45:57.692Z"
   },
   {
    "duration": 13,
    "start_time": "2023-01-30T17:45:57.707Z"
   },
   {
    "duration": 112,
    "start_time": "2023-01-30T17:46:14.366Z"
   },
   {
    "duration": 24,
    "start_time": "2023-01-30T17:46:30.106Z"
   },
   {
    "duration": 23,
    "start_time": "2023-01-30T17:46:58.922Z"
   },
   {
    "duration": 185,
    "start_time": "2023-01-30T17:47:14.870Z"
   },
   {
    "duration": 14,
    "start_time": "2023-01-30T17:47:15.698Z"
   },
   {
    "duration": 1889,
    "start_time": "2023-01-30T17:47:17.586Z"
   },
   {
    "duration": 3,
    "start_time": "2023-01-30T17:47:19.698Z"
   },
   {
    "duration": 19,
    "start_time": "2023-01-30T17:47:21.087Z"
   },
   {
    "duration": 22,
    "start_time": "2023-01-30T17:47:24.442Z"
   },
   {
    "duration": 23,
    "start_time": "2023-01-30T17:47:25.322Z"
   },
   {
    "duration": 22,
    "start_time": "2023-01-30T17:48:15.110Z"
   },
   {
    "duration": 4,
    "start_time": "2023-01-30T17:48:20.831Z"
   },
   {
    "duration": 3,
    "start_time": "2023-01-30T17:48:22.686Z"
   },
   {
    "duration": 11,
    "start_time": "2023-01-30T17:48:37.083Z"
   },
   {
    "duration": 4,
    "start_time": "2023-01-30T17:48:57.178Z"
   },
   {
    "duration": 20,
    "start_time": "2023-01-30T17:49:25.062Z"
   },
   {
    "duration": 3,
    "start_time": "2023-01-30T17:49:26.418Z"
   },
   {
    "duration": 24,
    "start_time": "2023-01-30T17:49:27.962Z"
   },
   {
    "duration": 463,
    "start_time": "2023-01-30T17:49:28.678Z"
   },
   {
    "duration": 364,
    "start_time": "2023-01-30T17:49:44.978Z"
   },
   {
    "duration": 435,
    "start_time": "2023-01-30T17:49:47.815Z"
   },
   {
    "duration": 9,
    "start_time": "2023-01-30T17:49:49.378Z"
   },
   {
    "duration": 5,
    "start_time": "2023-01-30T17:49:54.146Z"
   },
   {
    "duration": 13,
    "start_time": "2023-01-30T17:49:54.826Z"
   },
   {
    "duration": 4,
    "start_time": "2023-01-30T17:49:55.558Z"
   },
   {
    "duration": 4,
    "start_time": "2023-01-30T17:49:56.306Z"
   },
   {
    "duration": 284,
    "start_time": "2023-01-30T17:49:57.082Z"
   },
   {
    "duration": 278,
    "start_time": "2023-01-30T17:49:59.974Z"
   },
   {
    "duration": 187,
    "start_time": "2023-01-30T18:00:40.271Z"
   },
   {
    "duration": 151,
    "start_time": "2023-01-30T18:00:51.991Z"
   },
   {
    "duration": 162,
    "start_time": "2023-01-30T18:01:03.146Z"
   },
   {
    "duration": 163,
    "start_time": "2023-01-30T18:02:38.402Z"
   },
   {
    "duration": 168,
    "start_time": "2023-01-30T18:02:45.027Z"
   },
   {
    "duration": 151,
    "start_time": "2023-01-30T18:02:53.683Z"
   },
   {
    "duration": 172,
    "start_time": "2023-01-30T18:03:32.879Z"
   },
   {
    "duration": 166,
    "start_time": "2023-01-30T18:03:36.151Z"
   },
   {
    "duration": 347,
    "start_time": "2023-01-30T18:03:43.091Z"
   },
   {
    "duration": 201,
    "start_time": "2023-01-30T18:03:50.111Z"
   },
   {
    "duration": 171,
    "start_time": "2023-01-30T18:03:55.491Z"
   },
   {
    "duration": 161,
    "start_time": "2023-01-30T18:04:01.791Z"
   },
   {
    "duration": 171,
    "start_time": "2023-01-30T18:04:29.299Z"
   },
   {
    "duration": 153,
    "start_time": "2023-01-30T18:04:37.624Z"
   },
   {
    "duration": 175,
    "start_time": "2023-01-30T18:06:31.648Z"
   },
   {
    "duration": 154,
    "start_time": "2023-01-30T18:06:42.010Z"
   },
   {
    "duration": 150,
    "start_time": "2023-01-30T18:06:48.039Z"
   },
   {
    "duration": 182,
    "start_time": "2023-01-30T18:09:28.835Z"
   },
   {
    "duration": 93,
    "start_time": "2023-01-30T18:11:00.275Z"
   },
   {
    "duration": 74,
    "start_time": "2023-01-30T18:11:14.444Z"
   },
   {
    "duration": 189,
    "start_time": "2023-01-30T18:11:33.035Z"
   },
   {
    "duration": 143,
    "start_time": "2023-01-30T18:11:43.635Z"
   },
   {
    "duration": 194,
    "start_time": "2023-01-30T18:11:50.779Z"
   },
   {
    "duration": 151,
    "start_time": "2023-01-30T18:12:27.392Z"
   },
   {
    "duration": 158,
    "start_time": "2023-01-30T18:12:36.952Z"
   },
   {
    "duration": 319,
    "start_time": "2023-01-30T18:12:41.868Z"
   },
   {
    "duration": 200,
    "start_time": "2023-01-30T18:15:42.456Z"
   },
   {
    "duration": 167,
    "start_time": "2023-01-30T18:16:14.858Z"
   },
   {
    "duration": 151,
    "start_time": "2023-01-30T18:16:29.612Z"
   },
   {
    "duration": 180,
    "start_time": "2023-01-30T18:16:36.340Z"
   },
   {
    "duration": 262,
    "start_time": "2023-01-30T18:21:08.384Z"
   },
   {
    "duration": 262,
    "start_time": "2023-01-30T18:21:25.032Z"
   },
   {
    "duration": 262,
    "start_time": "2023-01-30T18:21:30.944Z"
   },
   {
    "duration": 185,
    "start_time": "2023-01-30T18:24:26.455Z"
   },
   {
    "duration": 81,
    "start_time": "2023-01-30T18:29:11.724Z"
   },
   {
    "duration": 186,
    "start_time": "2023-01-30T18:29:30.132Z"
   },
   {
    "duration": 169,
    "start_time": "2023-01-30T18:29:42.296Z"
   },
   {
    "duration": 175,
    "start_time": "2023-01-30T18:30:43.624Z"
   },
   {
    "duration": 321,
    "start_time": "2023-01-30T18:31:40.047Z"
   },
   {
    "duration": 158,
    "start_time": "2023-01-30T18:39:12.624Z"
   },
   {
    "duration": 182,
    "start_time": "2023-01-30T18:40:33.553Z"
   },
   {
    "duration": 173,
    "start_time": "2023-01-30T18:40:41.517Z"
   },
   {
    "duration": 175,
    "start_time": "2023-01-30T18:40:48.804Z"
   },
   {
    "duration": 223,
    "start_time": "2023-01-30T18:42:54.249Z"
   },
   {
    "duration": 187,
    "start_time": "2023-01-30T18:43:02.766Z"
   },
   {
    "duration": 174,
    "start_time": "2023-01-30T18:43:07.541Z"
   },
   {
    "duration": 140,
    "start_time": "2023-01-30T18:44:10.476Z"
   },
   {
    "duration": 156,
    "start_time": "2023-01-30T18:44:49.885Z"
   },
   {
    "duration": 139,
    "start_time": "2023-01-30T18:44:56.748Z"
   },
   {
    "duration": 155,
    "start_time": "2023-01-30T18:46:25.196Z"
   },
   {
    "duration": 133,
    "start_time": "2023-01-30T18:46:38.448Z"
   },
   {
    "duration": 205,
    "start_time": "2023-01-30T18:46:43.845Z"
   },
   {
    "duration": 170,
    "start_time": "2023-01-30T18:46:51.365Z"
   },
   {
    "duration": 159,
    "start_time": "2023-01-30T18:46:56.640Z"
   },
   {
    "duration": 379,
    "start_time": "2023-01-30T18:47:04.492Z"
   },
   {
    "duration": 190,
    "start_time": "2023-01-30T18:47:13.272Z"
   },
   {
    "duration": 153,
    "start_time": "2023-01-30T18:49:04.125Z"
   },
   {
    "duration": 140,
    "start_time": "2023-01-30T18:49:10.784Z"
   },
   {
    "duration": 156,
    "start_time": "2023-01-30T18:49:15.254Z"
   },
   {
    "duration": 186,
    "start_time": "2023-01-30T18:49:31.061Z"
   },
   {
    "duration": 161,
    "start_time": "2023-01-30T19:00:48.589Z"
   },
   {
    "duration": 1132,
    "start_time": "2023-01-30T19:09:58.533Z"
   },
   {
    "duration": 172,
    "start_time": "2023-01-30T19:10:05.722Z"
   },
   {
    "duration": 171,
    "start_time": "2023-01-30T19:10:12.150Z"
   },
   {
    "duration": 152,
    "start_time": "2023-01-30T19:10:20.261Z"
   },
   {
    "duration": 138,
    "start_time": "2023-01-30T19:10:28.830Z"
   },
   {
    "duration": 163,
    "start_time": "2023-01-30T19:10:35.897Z"
   },
   {
    "duration": 166,
    "start_time": "2023-01-30T19:10:43.489Z"
   },
   {
    "duration": 151,
    "start_time": "2023-01-30T19:11:18.445Z"
   },
   {
    "duration": 158,
    "start_time": "2023-01-30T19:22:00.367Z"
   },
   {
    "duration": 365,
    "start_time": "2023-01-30T19:22:07.667Z"
   },
   {
    "duration": 159,
    "start_time": "2023-01-30T19:22:17.350Z"
   },
   {
    "duration": 150,
    "start_time": "2023-01-30T19:22:34.235Z"
   },
   {
    "duration": 153,
    "start_time": "2023-01-30T19:22:46.774Z"
   },
   {
    "duration": 184,
    "start_time": "2023-01-30T19:22:54.303Z"
   },
   {
    "duration": 158,
    "start_time": "2023-01-30T19:23:03.251Z"
   },
   {
    "duration": 140,
    "start_time": "2023-01-30T19:23:18.567Z"
   },
   {
    "duration": 159,
    "start_time": "2023-01-30T19:23:51.047Z"
   },
   {
    "duration": 173,
    "start_time": "2023-01-30T19:24:18.518Z"
   },
   {
    "duration": 149,
    "start_time": "2023-01-30T19:24:25.304Z"
   },
   {
    "duration": 335,
    "start_time": "2023-01-30T19:32:47.588Z"
   },
   {
    "duration": 316,
    "start_time": "2023-01-30T19:33:39.376Z"
   },
   {
    "duration": 321,
    "start_time": "2023-01-30T19:33:49.048Z"
   },
   {
    "duration": 358,
    "start_time": "2023-01-30T19:33:57.206Z"
   },
   {
    "duration": 512,
    "start_time": "2023-01-30T19:34:09.032Z"
   },
   {
    "duration": 315,
    "start_time": "2023-01-30T19:34:19.215Z"
   },
   {
    "duration": 372,
    "start_time": "2023-01-30T19:35:05.472Z"
   },
   {
    "duration": 309,
    "start_time": "2023-01-30T19:35:19.816Z"
   },
   {
    "duration": 293,
    "start_time": "2023-01-30T19:35:40.125Z"
   },
   {
    "duration": 289,
    "start_time": "2023-01-30T19:35:44.620Z"
   },
   {
    "duration": 299,
    "start_time": "2023-01-30T19:35:50.644Z"
   },
   {
    "duration": 311,
    "start_time": "2023-01-30T19:35:54.148Z"
   },
   {
    "duration": 132,
    "start_time": "2023-01-30T19:37:37.640Z"
   },
   {
    "duration": 171,
    "start_time": "2023-01-30T19:37:47.128Z"
   },
   {
    "duration": 126,
    "start_time": "2023-01-30T19:38:01.484Z"
   },
   {
    "duration": 175,
    "start_time": "2023-01-30T19:38:52.496Z"
   },
   {
    "duration": 396,
    "start_time": "2023-01-30T19:39:00.592Z"
   },
   {
    "duration": 164,
    "start_time": "2023-01-30T19:39:12.860Z"
   },
   {
    "duration": 161,
    "start_time": "2023-01-30T19:39:19.504Z"
   },
   {
    "duration": 165,
    "start_time": "2023-01-30T20:05:07.622Z"
   },
   {
    "duration": 190,
    "start_time": "2023-01-30T20:07:58.858Z"
   },
   {
    "duration": 183,
    "start_time": "2023-01-30T20:08:05.822Z"
   },
   {
    "duration": 130,
    "start_time": "2023-01-30T20:11:55.658Z"
   },
   {
    "duration": 161,
    "start_time": "2023-01-30T20:12:03.498Z"
   },
   {
    "duration": 180,
    "start_time": "2023-01-30T20:12:09.122Z"
   },
   {
    "duration": 158,
    "start_time": "2023-01-30T20:12:20.110Z"
   },
   {
    "duration": 176,
    "start_time": "2023-01-30T20:12:39.774Z"
   },
   {
    "duration": 152,
    "start_time": "2023-01-30T20:14:13.526Z"
   },
   {
    "duration": 303,
    "start_time": "2023-01-30T20:20:41.315Z"
   },
   {
    "duration": 282,
    "start_time": "2023-01-30T20:20:50.139Z"
   },
   {
    "duration": 506,
    "start_time": "2023-01-30T20:21:15.099Z"
   },
   {
    "duration": 301,
    "start_time": "2023-01-30T20:21:21.643Z"
   },
   {
    "duration": 360,
    "start_time": "2023-01-30T20:21:34.092Z"
   },
   {
    "duration": 281,
    "start_time": "2023-01-30T20:21:44.443Z"
   },
   {
    "duration": 339,
    "start_time": "2023-01-30T20:22:08.827Z"
   },
   {
    "duration": 359,
    "start_time": "2023-01-30T20:22:18.315Z"
   },
   {
    "duration": 301,
    "start_time": "2023-01-30T20:22:24.420Z"
   },
   {
    "duration": 302,
    "start_time": "2023-01-30T20:22:29.518Z"
   },
   {
    "duration": 287,
    "start_time": "2023-01-30T20:23:52.086Z"
   },
   {
    "duration": 305,
    "start_time": "2023-01-30T20:24:02.159Z"
   },
   {
    "duration": 4,
    "start_time": "2023-01-30T20:37:44.121Z"
   },
   {
    "duration": 75,
    "start_time": "2023-01-30T20:44:44.546Z"
   },
   {
    "duration": 469,
    "start_time": "2023-01-30T20:45:34.386Z"
   },
   {
    "duration": 234,
    "start_time": "2023-01-30T20:45:46.298Z"
   },
   {
    "duration": 228,
    "start_time": "2023-01-30T20:49:29.990Z"
   },
   {
    "duration": 241,
    "start_time": "2023-01-30T20:49:35.186Z"
   },
   {
    "duration": 205,
    "start_time": "2023-01-30T20:58:07.583Z"
   },
   {
    "duration": 288,
    "start_time": "2023-01-30T21:08:53.160Z"
   },
   {
    "duration": 294,
    "start_time": "2023-01-30T21:12:47.583Z"
   },
   {
    "duration": 158,
    "start_time": "2023-01-30T21:27:48.526Z"
   },
   {
    "duration": 202,
    "start_time": "2023-01-30T21:32:33.237Z"
   },
   {
    "duration": 159,
    "start_time": "2023-01-30T21:35:50.809Z"
   },
   {
    "duration": 159,
    "start_time": "2023-01-30T21:43:24.220Z"
   },
   {
    "duration": 360,
    "start_time": "2023-01-30T21:47:33.173Z"
   },
   {
    "duration": 155,
    "start_time": "2023-01-30T21:48:16.719Z"
   },
   {
    "duration": 67,
    "start_time": "2023-01-30T21:49:02.625Z"
   },
   {
    "duration": 166,
    "start_time": "2023-01-30T21:49:17.015Z"
   },
   {
    "duration": 143,
    "start_time": "2023-01-30T21:50:02.874Z"
   },
   {
    "duration": 135,
    "start_time": "2023-01-30T21:50:59.989Z"
   },
   {
    "duration": 142,
    "start_time": "2023-01-30T21:51:30.682Z"
   },
   {
    "duration": 143,
    "start_time": "2023-01-30T21:51:49.098Z"
   },
   {
    "duration": 169,
    "start_time": "2023-01-30T21:53:58.513Z"
   },
   {
    "duration": 149,
    "start_time": "2023-01-30T21:54:04.850Z"
   },
   {
    "duration": 159,
    "start_time": "2023-01-30T21:54:11.149Z"
   },
   {
    "duration": 156,
    "start_time": "2023-01-30T21:54:22.265Z"
   },
   {
    "duration": 7,
    "start_time": "2023-01-30T22:02:14.734Z"
   },
   {
    "duration": 13,
    "start_time": "2023-01-30T22:02:25.301Z"
   },
   {
    "duration": 128,
    "start_time": "2023-01-30T22:03:04.437Z"
   },
   {
    "duration": 479,
    "start_time": "2023-01-30T22:10:14.142Z"
   },
   {
    "duration": 124,
    "start_time": "2023-01-30T22:10:26.866Z"
   },
   {
    "duration": 140,
    "start_time": "2023-01-30T22:15:26.486Z"
   },
   {
    "duration": 426,
    "start_time": "2023-01-30T22:17:36.749Z"
   },
   {
    "duration": 54,
    "start_time": "2023-01-31T15:36:16.918Z"
   },
   {
    "duration": 1148,
    "start_time": "2023-01-31T15:36:22.565Z"
   },
   {
    "duration": 15,
    "start_time": "2023-01-31T15:36:23.716Z"
   },
   {
    "duration": 2146,
    "start_time": "2023-01-31T15:36:23.732Z"
   },
   {
    "duration": 4,
    "start_time": "2023-01-31T15:36:25.880Z"
   },
   {
    "duration": 37,
    "start_time": "2023-01-31T15:36:25.886Z"
   },
   {
    "duration": 46,
    "start_time": "2023-01-31T15:36:25.925Z"
   },
   {
    "duration": 80,
    "start_time": "2023-01-31T15:36:25.974Z"
   },
   {
    "duration": 0,
    "start_time": "2023-01-31T15:36:26.056Z"
   },
   {
    "duration": 0,
    "start_time": "2023-01-31T15:36:26.058Z"
   },
   {
    "duration": 0,
    "start_time": "2023-01-31T15:36:26.059Z"
   },
   {
    "duration": 0,
    "start_time": "2023-01-31T15:36:26.061Z"
   },
   {
    "duration": 6,
    "start_time": "2023-01-31T15:36:26.334Z"
   },
   {
    "duration": 17,
    "start_time": "2023-01-31T15:36:26.614Z"
   },
   {
    "duration": 4,
    "start_time": "2023-01-31T15:36:26.862Z"
   },
   {
    "duration": 5,
    "start_time": "2023-01-31T15:36:27.249Z"
   },
   {
    "duration": 297,
    "start_time": "2023-01-31T15:36:27.499Z"
   },
   {
    "duration": 187,
    "start_time": "2023-01-31T15:36:28.810Z"
   },
   {
    "duration": 181,
    "start_time": "2023-01-31T15:37:28.276Z"
   },
   {
    "duration": 259,
    "start_time": "2023-01-31T15:37:57.273Z"
   },
   {
    "duration": 174,
    "start_time": "2023-01-31T15:38:15.913Z"
   },
   {
    "duration": 193,
    "start_time": "2023-01-31T15:40:06.909Z"
   },
   {
    "duration": 163,
    "start_time": "2023-01-31T15:40:32.563Z"
   },
   {
    "duration": 195,
    "start_time": "2023-01-31T15:40:48.214Z"
   },
   {
    "duration": 159,
    "start_time": "2023-01-31T15:40:57.222Z"
   },
   {
    "duration": 183,
    "start_time": "2023-01-31T15:41:47.663Z"
   },
   {
    "duration": 156,
    "start_time": "2023-01-31T15:41:58.743Z"
   },
   {
    "duration": 152,
    "start_time": "2023-01-31T15:44:45.935Z"
   },
   {
    "duration": 157,
    "start_time": "2023-01-31T15:45:04.905Z"
   },
   {
    "duration": 168,
    "start_time": "2023-01-31T15:47:26.555Z"
   },
   {
    "duration": 365,
    "start_time": "2023-01-31T15:47:59.505Z"
   },
   {
    "duration": 197,
    "start_time": "2023-01-31T15:48:10.317Z"
   },
   {
    "duration": 168,
    "start_time": "2023-01-31T15:48:33.459Z"
   },
   {
    "duration": 204,
    "start_time": "2023-01-31T15:48:43.532Z"
   },
   {
    "duration": 179,
    "start_time": "2023-01-31T15:49:00.712Z"
   },
   {
    "duration": 168,
    "start_time": "2023-01-31T15:49:20.371Z"
   },
   {
    "duration": 186,
    "start_time": "2023-01-31T15:51:40.768Z"
   },
   {
    "duration": 180,
    "start_time": "2023-01-31T15:51:44.488Z"
   },
   {
    "duration": 183,
    "start_time": "2023-01-31T15:52:02.164Z"
   },
   {
    "duration": 154,
    "start_time": "2023-01-31T15:52:11.684Z"
   },
   {
    "duration": 179,
    "start_time": "2023-01-31T15:52:17.932Z"
   },
   {
    "duration": 271,
    "start_time": "2023-01-31T15:56:30.981Z"
   },
   {
    "duration": 161,
    "start_time": "2023-01-31T15:56:39.964Z"
   },
   {
    "duration": 153,
    "start_time": "2023-01-31T15:57:39.129Z"
   },
   {
    "duration": 141,
    "start_time": "2023-01-31T15:57:51.610Z"
   },
   {
    "duration": 160,
    "start_time": "2023-01-31T15:57:58.685Z"
   },
   {
    "duration": 170,
    "start_time": "2023-01-31T15:58:17.029Z"
   },
   {
    "duration": 153,
    "start_time": "2023-01-31T15:58:47.718Z"
   },
   {
    "duration": 166,
    "start_time": "2023-01-31T16:04:26.451Z"
   },
   {
    "duration": 167,
    "start_time": "2023-01-31T16:04:34.516Z"
   },
   {
    "duration": 206,
    "start_time": "2023-01-31T16:04:49.759Z"
   },
   {
    "duration": 146,
    "start_time": "2023-01-31T16:05:00.419Z"
   },
   {
    "duration": 277,
    "start_time": "2023-01-31T16:05:08.583Z"
   },
   {
    "duration": 179,
    "start_time": "2023-01-31T16:10:20.688Z"
   },
   {
    "duration": 173,
    "start_time": "2023-01-31T16:10:28.707Z"
   },
   {
    "duration": 191,
    "start_time": "2023-01-31T16:10:48.989Z"
   },
   {
    "duration": 165,
    "start_time": "2023-01-31T16:10:56.657Z"
   },
   {
    "duration": 143,
    "start_time": "2023-01-31T16:11:08.148Z"
   },
   {
    "duration": 158,
    "start_time": "2023-01-31T16:11:16.007Z"
   },
   {
    "duration": 157,
    "start_time": "2023-01-31T16:11:30.307Z"
   },
   {
    "duration": 195,
    "start_time": "2023-01-31T16:11:40.537Z"
   },
   {
    "duration": 173,
    "start_time": "2023-01-31T16:11:47.185Z"
   },
   {
    "duration": 179,
    "start_time": "2023-01-31T16:13:55.041Z"
   },
   {
    "duration": 286,
    "start_time": "2023-01-31T16:14:03.889Z"
   },
   {
    "duration": 175,
    "start_time": "2023-01-31T16:15:25.525Z"
   },
   {
    "duration": 162,
    "start_time": "2023-01-31T16:15:40.117Z"
   },
   {
    "duration": 305,
    "start_time": "2023-01-31T16:17:56.834Z"
   },
   {
    "duration": 308,
    "start_time": "2023-01-31T16:18:31.138Z"
   },
   {
    "duration": 357,
    "start_time": "2023-01-31T16:18:59.617Z"
   },
   {
    "duration": 294,
    "start_time": "2023-01-31T16:22:16.252Z"
   },
   {
    "duration": 337,
    "start_time": "2023-01-31T16:22:34.334Z"
   },
   {
    "duration": 273,
    "start_time": "2023-01-31T16:22:45.575Z"
   },
   {
    "duration": 215,
    "start_time": "2023-01-31T16:23:24.843Z"
   },
   {
    "duration": 230,
    "start_time": "2023-01-31T16:23:30.988Z"
   },
   {
    "duration": 232,
    "start_time": "2023-01-31T16:23:55.315Z"
   },
   {
    "duration": 189,
    "start_time": "2023-01-31T16:26:22.175Z"
   },
   {
    "duration": 162,
    "start_time": "2023-01-31T16:27:00.339Z"
   },
   {
    "duration": 174,
    "start_time": "2023-01-31T16:27:16.983Z"
   },
   {
    "duration": 154,
    "start_time": "2023-01-31T16:28:45.784Z"
   },
   {
    "duration": 589,
    "start_time": "2023-01-31T16:28:47.955Z"
   },
   {
    "duration": 477,
    "start_time": "2023-01-31T16:29:03.675Z"
   },
   {
    "duration": 503,
    "start_time": "2023-01-31T16:29:10.614Z"
   },
   {
    "duration": 464,
    "start_time": "2023-01-31T16:29:14.772Z"
   },
   {
    "duration": 147,
    "start_time": "2023-01-31T16:29:21.616Z"
   },
   {
    "duration": 166,
    "start_time": "2023-01-31T16:29:29.048Z"
   },
   {
    "duration": 557,
    "start_time": "2023-01-31T16:29:40.828Z"
   },
   {
    "duration": 192,
    "start_time": "2023-01-31T16:56:08.340Z"
   },
   {
    "duration": 199,
    "start_time": "2023-01-31T16:56:13.748Z"
   },
   {
    "duration": 189,
    "start_time": "2023-01-31T16:57:28.432Z"
   },
   {
    "duration": 183,
    "start_time": "2023-01-31T16:59:08.013Z"
   },
   {
    "duration": 172,
    "start_time": "2023-01-31T17:09:55.697Z"
   },
   {
    "duration": 181,
    "start_time": "2023-01-31T17:12:05.703Z"
   },
   {
    "duration": 195,
    "start_time": "2023-01-31T17:13:39.103Z"
   },
   {
    "duration": 203,
    "start_time": "2023-01-31T17:13:48.255Z"
   },
   {
    "duration": 71,
    "start_time": "2023-01-31T17:14:23.499Z"
   },
   {
    "duration": 198,
    "start_time": "2023-01-31T17:14:34.978Z"
   },
   {
    "duration": 166,
    "start_time": "2023-01-31T17:14:43.790Z"
   },
   {
    "duration": 155,
    "start_time": "2023-01-31T17:14:57.200Z"
   },
   {
    "duration": 168,
    "start_time": "2023-01-31T17:15:51.934Z"
   },
   {
    "duration": 184,
    "start_time": "2023-01-31T17:17:54.693Z"
   },
   {
    "duration": 277,
    "start_time": "2023-01-31T17:18:46.772Z"
   },
   {
    "duration": 175,
    "start_time": "2023-01-31T17:19:02.636Z"
   },
   {
    "duration": 178,
    "start_time": "2023-01-31T17:19:11.612Z"
   },
   {
    "duration": 182,
    "start_time": "2023-01-31T17:19:20.948Z"
   },
   {
    "duration": 237,
    "start_time": "2023-01-31T17:20:18.800Z"
   },
   {
    "duration": 180,
    "start_time": "2023-01-31T17:26:02.679Z"
   },
   {
    "duration": 152,
    "start_time": "2023-01-31T17:26:27.720Z"
   },
   {
    "duration": 159,
    "start_time": "2023-01-31T17:26:48.718Z"
   },
   {
    "duration": 158,
    "start_time": "2023-01-31T17:30:43.126Z"
   },
   {
    "duration": 144,
    "start_time": "2023-01-31T17:31:00.096Z"
   },
   {
    "duration": 1128,
    "start_time": "2023-01-31T17:42:03.166Z"
   },
   {
    "duration": 1177,
    "start_time": "2023-01-31T17:42:13.654Z"
   },
   {
    "duration": 24,
    "start_time": "2023-01-31T17:42:44.774Z"
   },
   {
    "duration": 13,
    "start_time": "2023-01-31T17:43:15.150Z"
   },
   {
    "duration": 13,
    "start_time": "2023-01-31T17:43:30.706Z"
   },
   {
    "duration": 9,
    "start_time": "2023-01-31T17:43:42.534Z"
   },
   {
    "duration": 12,
    "start_time": "2023-01-31T17:43:48.250Z"
   },
   {
    "duration": 118,
    "start_time": "2023-01-31T17:43:51.438Z"
   },
   {
    "duration": 13,
    "start_time": "2023-01-31T17:43:52.486Z"
   },
   {
    "duration": 24,
    "start_time": "2023-01-31T17:44:12.258Z"
   },
   {
    "duration": 519,
    "start_time": "2023-01-31T17:44:12.726Z"
   },
   {
    "duration": 10,
    "start_time": "2023-01-31T17:44:13.247Z"
   },
   {
    "duration": 12,
    "start_time": "2023-01-31T17:44:13.258Z"
   },
   {
    "duration": 203,
    "start_time": "2023-01-31T17:44:36.554Z"
   },
   {
    "duration": 15,
    "start_time": "2023-01-31T17:44:36.787Z"
   },
   {
    "duration": 2123,
    "start_time": "2023-01-31T17:44:37.438Z"
   },
   {
    "duration": 4,
    "start_time": "2023-01-31T17:44:39.563Z"
   },
   {
    "duration": 39,
    "start_time": "2023-01-31T17:44:39.568Z"
   },
   {
    "duration": 34,
    "start_time": "2023-01-31T17:44:39.765Z"
   },
   {
    "duration": 12,
    "start_time": "2023-01-31T17:44:41.301Z"
   },
   {
    "duration": 29,
    "start_time": "2023-01-31T17:44:42.084Z"
   },
   {
    "duration": 519,
    "start_time": "2023-01-31T17:44:43.935Z"
   },
   {
    "duration": 368,
    "start_time": "2023-01-31T17:44:58.802Z"
   },
   {
    "duration": 383,
    "start_time": "2023-01-31T17:45:01.793Z"
   },
   {
    "duration": 10,
    "start_time": "2023-01-31T17:45:02.522Z"
   },
   {
    "duration": 4,
    "start_time": "2023-01-31T17:45:03.280Z"
   },
   {
    "duration": 5,
    "start_time": "2023-01-31T17:45:43.151Z"
   },
   {
    "duration": 3,
    "start_time": "2023-01-31T17:45:45.882Z"
   },
   {
    "duration": 25,
    "start_time": "2023-01-31T17:45:46.890Z"
   },
   {
    "duration": 478,
    "start_time": "2023-01-31T17:45:47.573Z"
   },
   {
    "duration": 11,
    "start_time": "2023-01-31T17:45:48.170Z"
   },
   {
    "duration": 5,
    "start_time": "2023-01-31T17:46:03.804Z"
   },
   {
    "duration": 6,
    "start_time": "2023-01-31T17:46:04.365Z"
   },
   {
    "duration": 13,
    "start_time": "2023-01-31T17:46:04.654Z"
   },
   {
    "duration": 4,
    "start_time": "2023-01-31T17:46:05.154Z"
   },
   {
    "duration": 5,
    "start_time": "2023-01-31T17:46:05.642Z"
   },
   {
    "duration": 291,
    "start_time": "2023-01-31T17:46:06.025Z"
   },
   {
    "duration": 165,
    "start_time": "2023-01-31T17:46:07.465Z"
   },
   {
    "duration": 158,
    "start_time": "2023-01-31T17:46:07.886Z"
   },
   {
    "duration": 172,
    "start_time": "2023-01-31T17:46:08.814Z"
   },
   {
    "duration": 180,
    "start_time": "2023-01-31T17:46:09.890Z"
   },
   {
    "duration": 178,
    "start_time": "2023-01-31T17:46:11.614Z"
   },
   {
    "duration": 174,
    "start_time": "2023-01-31T17:46:12.530Z"
   },
   {
    "duration": 169,
    "start_time": "2023-01-31T17:46:15.282Z"
   },
   {
    "duration": 146,
    "start_time": "2023-01-31T17:46:15.914Z"
   },
   {
    "duration": 174,
    "start_time": "2023-01-31T17:46:16.283Z"
   },
   {
    "duration": 290,
    "start_time": "2023-01-31T17:46:16.509Z"
   },
   {
    "duration": 175,
    "start_time": "2023-01-31T17:46:16.800Z"
   },
   {
    "duration": 154,
    "start_time": "2023-01-31T17:46:24.170Z"
   },
   {
    "duration": 292,
    "start_time": "2023-01-31T17:46:26.002Z"
   },
   {
    "duration": 228,
    "start_time": "2023-01-31T17:46:30.634Z"
   },
   {
    "duration": 183,
    "start_time": "2023-01-31T17:46:33.578Z"
   },
   {
    "duration": 190,
    "start_time": "2023-01-31T17:46:35.294Z"
   },
   {
    "duration": 181,
    "start_time": "2023-01-31T17:46:37.554Z"
   },
   {
    "duration": 164,
    "start_time": "2023-01-31T17:46:41.402Z"
   },
   {
    "duration": 153,
    "start_time": "2023-01-31T17:46:45.338Z"
   },
   {
    "duration": 551,
    "start_time": "2023-01-31T17:46:49.173Z"
   },
   {
    "duration": 27,
    "start_time": "2023-01-31T17:46:51.706Z"
   },
   {
    "duration": 24,
    "start_time": "2023-01-31T17:47:25.370Z"
   },
   {
    "duration": 5,
    "start_time": "2023-01-31T17:55:20.867Z"
   },
   {
    "duration": 26,
    "start_time": "2023-01-31T17:56:27.255Z"
   },
   {
    "duration": 6,
    "start_time": "2023-01-31T17:59:31.671Z"
   },
   {
    "duration": 17,
    "start_time": "2023-01-31T20:00:10.083Z"
   },
   {
    "duration": 166,
    "start_time": "2023-01-31T20:00:28.307Z"
   },
   {
    "duration": 302,
    "start_time": "2023-01-31T20:04:55.114Z"
   },
   {
    "duration": 69,
    "start_time": "2023-01-31T20:16:31.215Z"
   },
   {
    "duration": 184,
    "start_time": "2023-01-31T20:16:41.406Z"
   },
   {
    "duration": 24,
    "start_time": "2023-01-31T20:19:52.887Z"
   },
   {
    "duration": 174,
    "start_time": "2023-01-31T20:20:33.061Z"
   },
   {
    "duration": 192,
    "start_time": "2023-01-31T20:21:02.840Z"
   },
   {
    "duration": 210,
    "start_time": "2023-01-31T20:21:37.458Z"
   },
   {
    "duration": 201,
    "start_time": "2023-01-31T20:39:19.430Z"
   },
   {
    "duration": 186,
    "start_time": "2023-01-31T20:39:36.153Z"
   },
   {
    "duration": 185,
    "start_time": "2023-01-31T20:39:59.301Z"
   },
   {
    "duration": 192,
    "start_time": "2023-01-31T20:40:15.150Z"
   },
   {
    "duration": 194,
    "start_time": "2023-01-31T20:40:26.890Z"
   },
   {
    "duration": 11,
    "start_time": "2023-01-31T20:44:35.736Z"
   },
   {
    "duration": 9,
    "start_time": "2023-01-31T20:44:46.065Z"
   },
   {
    "duration": 18,
    "start_time": "2023-01-31T20:54:56.536Z"
   },
   {
    "duration": 13,
    "start_time": "2023-01-31T20:55:27.856Z"
   },
   {
    "duration": 12,
    "start_time": "2023-01-31T20:55:33.008Z"
   },
   {
    "duration": 15,
    "start_time": "2023-01-31T20:55:55.861Z"
   },
   {
    "duration": 17,
    "start_time": "2023-01-31T20:56:13.397Z"
   },
   {
    "duration": 188,
    "start_time": "2023-01-31T20:56:19.233Z"
   },
   {
    "duration": 9,
    "start_time": "2023-01-31T20:56:20.188Z"
   },
   {
    "duration": 16,
    "start_time": "2023-01-31T20:56:21.036Z"
   },
   {
    "duration": 13,
    "start_time": "2023-01-31T20:56:30.826Z"
   },
   {
    "duration": 12,
    "start_time": "2023-01-31T20:56:38.713Z"
   },
   {
    "duration": 12,
    "start_time": "2023-01-31T20:56:53.188Z"
   },
   {
    "duration": 13,
    "start_time": "2023-01-31T20:57:18.495Z"
   },
   {
    "duration": 12,
    "start_time": "2023-01-31T20:57:24.848Z"
   },
   {
    "duration": 15,
    "start_time": "2023-01-31T20:58:17.235Z"
   },
   {
    "duration": 14,
    "start_time": "2023-01-31T20:58:31.712Z"
   },
   {
    "duration": 14,
    "start_time": "2023-01-31T20:59:50.544Z"
   },
   {
    "duration": 17,
    "start_time": "2023-01-31T21:00:08.688Z"
   },
   {
    "duration": 16,
    "start_time": "2023-01-31T21:00:13.967Z"
   },
   {
    "duration": 23,
    "start_time": "2023-01-31T21:00:22.848Z"
   },
   {
    "duration": 17,
    "start_time": "2023-01-31T21:00:35.499Z"
   },
   {
    "duration": 16,
    "start_time": "2023-01-31T21:00:40.907Z"
   },
   {
    "duration": 18,
    "start_time": "2023-01-31T21:04:16.471Z"
   },
   {
    "duration": 15,
    "start_time": "2023-01-31T21:04:23.411Z"
   },
   {
    "duration": 15,
    "start_time": "2023-01-31T21:04:28.912Z"
   },
   {
    "duration": 1359,
    "start_time": "2023-01-31T21:06:48.344Z"
   },
   {
    "duration": 1341,
    "start_time": "2023-01-31T21:07:30.893Z"
   },
   {
    "duration": 1289,
    "start_time": "2023-01-31T21:08:29.299Z"
   },
   {
    "duration": 182,
    "start_time": "2023-01-31T21:08:35.539Z"
   },
   {
    "duration": 1253,
    "start_time": "2023-01-31T21:08:36.895Z"
   },
   {
    "duration": 1306,
    "start_time": "2023-01-31T21:09:08.132Z"
   },
   {
    "duration": 1246,
    "start_time": "2023-01-31T21:09:15.645Z"
   },
   {
    "duration": 15,
    "start_time": "2023-01-31T21:09:49.602Z"
   },
   {
    "duration": 12,
    "start_time": "2023-01-31T21:11:50.316Z"
   },
   {
    "duration": 13,
    "start_time": "2023-01-31T21:22:56.960Z"
   },
   {
    "duration": 12,
    "start_time": "2023-01-31T21:23:16.057Z"
   },
   {
    "duration": 16,
    "start_time": "2023-01-31T21:28:54.805Z"
   },
   {
    "duration": 11,
    "start_time": "2023-01-31T21:29:16.950Z"
   },
   {
    "duration": 7,
    "start_time": "2023-01-31T21:40:52.341Z"
   },
   {
    "duration": 19,
    "start_time": "2023-01-31T21:41:14.797Z"
   },
   {
    "duration": 8,
    "start_time": "2023-01-31T21:49:44.527Z"
   },
   {
    "duration": 5,
    "start_time": "2023-01-31T21:50:10.459Z"
   },
   {
    "duration": 6,
    "start_time": "2023-01-31T21:50:25.662Z"
   },
   {
    "duration": 5,
    "start_time": "2023-01-31T21:50:32.573Z"
   },
   {
    "duration": 11,
    "start_time": "2023-01-31T21:51:04.080Z"
   },
   {
    "duration": 18,
    "start_time": "2023-01-31T21:56:00.535Z"
   },
   {
    "duration": 20,
    "start_time": "2023-01-31T21:56:12.728Z"
   },
   {
    "duration": 29,
    "start_time": "2023-01-31T22:00:44.324Z"
   },
   {
    "duration": 30,
    "start_time": "2023-01-31T22:01:33.479Z"
   },
   {
    "duration": 21,
    "start_time": "2023-01-31T22:01:44.673Z"
   },
   {
    "duration": 54,
    "start_time": "2023-01-31T22:08:42.786Z"
   },
   {
    "duration": 21,
    "start_time": "2023-01-31T22:08:45.672Z"
   },
   {
    "duration": 69,
    "start_time": "2023-01-31T22:11:45.994Z"
   },
   {
    "duration": 19,
    "start_time": "2023-01-31T22:11:50.041Z"
   },
   {
    "duration": 76,
    "start_time": "2023-01-31T22:13:57.330Z"
   },
   {
    "duration": 19,
    "start_time": "2023-01-31T22:13:57.788Z"
   },
   {
    "duration": 5,
    "start_time": "2023-01-31T22:14:51.816Z"
   },
   {
    "duration": 200,
    "start_time": "2023-01-31T22:28:38.333Z"
   },
   {
    "duration": 462,
    "start_time": "2023-01-31T22:29:44.605Z"
   },
   {
    "duration": 593,
    "start_time": "2023-01-31T22:30:49.464Z"
   },
   {
    "duration": 619,
    "start_time": "2023-01-31T22:31:54.848Z"
   },
   {
    "duration": 666,
    "start_time": "2023-01-31T22:32:20.776Z"
   },
   {
    "duration": 707,
    "start_time": "2023-01-31T22:32:42.817Z"
   },
   {
    "duration": 374,
    "start_time": "2023-01-31T22:32:56.117Z"
   },
   {
    "duration": 505,
    "start_time": "2023-01-31T22:33:03.921Z"
   },
   {
    "duration": 451,
    "start_time": "2023-01-31T22:33:27.086Z"
   },
   {
    "duration": 321,
    "start_time": "2023-01-31T22:33:42.804Z"
   },
   {
    "duration": 357,
    "start_time": "2023-01-31T22:33:59.809Z"
   },
   {
    "duration": 363,
    "start_time": "2023-01-31T22:34:10.745Z"
   },
   {
    "duration": 354,
    "start_time": "2023-01-31T22:34:35.089Z"
   },
   {
    "duration": 332,
    "start_time": "2023-01-31T22:34:50.145Z"
   },
   {
    "duration": 4,
    "start_time": "2023-01-31T22:34:51.593Z"
   },
   {
    "duration": 421,
    "start_time": "2023-01-31T22:36:00.757Z"
   },
   {
    "duration": 4,
    "start_time": "2023-01-31T22:36:02.145Z"
   },
   {
    "duration": 29,
    "start_time": "2023-01-31T22:36:02.689Z"
   },
   {
    "duration": 7,
    "start_time": "2023-01-31T22:38:12.811Z"
   },
   {
    "duration": 4,
    "start_time": "2023-01-31T22:38:13.094Z"
   },
   {
    "duration": 21,
    "start_time": "2023-01-31T22:38:13.726Z"
   },
   {
    "duration": 77,
    "start_time": "2023-01-31T22:38:14.730Z"
   },
   {
    "duration": 19,
    "start_time": "2023-01-31T22:38:52.326Z"
   },
   {
    "duration": 6,
    "start_time": "2023-01-31T22:38:53.101Z"
   },
   {
    "duration": 6,
    "start_time": "2023-01-31T22:39:08.913Z"
   },
   {
    "duration": 17,
    "start_time": "2023-01-31T22:39:18.728Z"
   },
   {
    "duration": 20,
    "start_time": "2023-01-31T22:39:27.761Z"
   },
   {
    "duration": 210,
    "start_time": "2023-01-31T22:41:19.156Z"
   },
   {
    "duration": 24,
    "start_time": "2023-01-31T22:41:19.368Z"
   },
   {
    "duration": 2077,
    "start_time": "2023-01-31T22:41:19.666Z"
   },
   {
    "duration": 3,
    "start_time": "2023-01-31T22:41:21.745Z"
   },
   {
    "duration": 34,
    "start_time": "2023-01-31T22:41:21.750Z"
   },
   {
    "duration": 33,
    "start_time": "2023-01-31T22:41:21.786Z"
   },
   {
    "duration": 530,
    "start_time": "2023-01-31T22:41:21.821Z"
   },
   {
    "duration": 11,
    "start_time": "2023-01-31T22:41:22.353Z"
   },
   {
    "duration": 0,
    "start_time": "2023-01-31T22:41:22.366Z"
   },
   {
    "duration": 0,
    "start_time": "2023-01-31T22:41:22.367Z"
   },
   {
    "duration": 0,
    "start_time": "2023-01-31T22:41:22.384Z"
   },
   {
    "duration": 0,
    "start_time": "2023-01-31T22:41:22.385Z"
   },
   {
    "duration": 0,
    "start_time": "2023-01-31T22:41:22.386Z"
   },
   {
    "duration": 21,
    "start_time": "2023-01-31T22:41:22.493Z"
   },
   {
    "duration": 12,
    "start_time": "2023-01-31T22:41:35.047Z"
   },
   {
    "duration": 372,
    "start_time": "2023-01-31T22:41:41.981Z"
   },
   {
    "duration": 11,
    "start_time": "2023-01-31T22:41:44.018Z"
   },
   {
    "duration": 23,
    "start_time": "2023-01-31T22:41:44.795Z"
   },
   {
    "duration": 189,
    "start_time": "2023-01-31T22:41:59.160Z"
   },
   {
    "duration": 14,
    "start_time": "2023-01-31T22:41:59.495Z"
   },
   {
    "duration": 2130,
    "start_time": "2023-01-31T22:42:00.158Z"
   },
   {
    "duration": 4,
    "start_time": "2023-01-31T22:42:02.290Z"
   },
   {
    "duration": 47,
    "start_time": "2023-01-31T22:42:02.295Z"
   },
   {
    "duration": 27,
    "start_time": "2023-01-31T22:42:02.344Z"
   },
   {
    "duration": 500,
    "start_time": "2023-01-31T22:42:03.245Z"
   },
   {
    "duration": 413,
    "start_time": "2023-01-31T22:42:09.406Z"
   },
   {
    "duration": 12,
    "start_time": "2023-01-31T22:42:13.927Z"
   },
   {
    "duration": 15,
    "start_time": "2023-01-31T22:42:19.682Z"
   },
   {
    "duration": 13,
    "start_time": "2023-01-31T22:44:05.041Z"
   },
   {
    "duration": 185,
    "start_time": "2023-01-31T22:44:18.273Z"
   },
   {
    "duration": 14,
    "start_time": "2023-01-31T22:44:18.706Z"
   },
   {
    "duration": 2141,
    "start_time": "2023-01-31T22:44:19.513Z"
   },
   {
    "duration": 4,
    "start_time": "2023-01-31T22:44:21.656Z"
   },
   {
    "duration": 36,
    "start_time": "2023-01-31T22:44:21.662Z"
   },
   {
    "duration": 28,
    "start_time": "2023-01-31T22:44:21.700Z"
   },
   {
    "duration": 500,
    "start_time": "2023-01-31T22:44:22.705Z"
   },
   {
    "duration": 385,
    "start_time": "2023-01-31T22:44:32.286Z"
   },
   {
    "duration": 363,
    "start_time": "2023-01-31T22:44:35.227Z"
   },
   {
    "duration": 13,
    "start_time": "2023-01-31T22:44:36.578Z"
   },
   {
    "duration": 24,
    "start_time": "2023-01-31T22:45:29.290Z"
   },
   {
    "duration": 8,
    "start_time": "2023-01-31T22:45:30.712Z"
   },
   {
    "duration": 5,
    "start_time": "2023-01-31T22:45:31.506Z"
   },
   {
    "duration": 4,
    "start_time": "2023-01-31T22:45:32.019Z"
   },
   {
    "duration": 21,
    "start_time": "2023-01-31T22:45:32.994Z"
   },
   {
    "duration": 4,
    "start_time": "2023-01-31T22:45:36.627Z"
   },
   {
    "duration": 23,
    "start_time": "2023-01-31T22:46:16.798Z"
   },
   {
    "duration": 351,
    "start_time": "2023-01-31T22:46:17.358Z"
   },
   {
    "duration": 7,
    "start_time": "2023-01-31T22:46:17.990Z"
   },
   {
    "duration": 25,
    "start_time": "2023-01-31T22:46:18.594Z"
   },
   {
    "duration": 4,
    "start_time": "2023-01-31T22:46:19.539Z"
   },
   {
    "duration": 4,
    "start_time": "2023-01-31T22:46:20.013Z"
   },
   {
    "duration": 27,
    "start_time": "2023-01-31T22:46:20.622Z"
   },
   {
    "duration": 75,
    "start_time": "2023-01-31T22:46:21.831Z"
   },
   {
    "duration": 19,
    "start_time": "2023-01-31T22:46:22.597Z"
   },
   {
    "duration": 6,
    "start_time": "2023-01-31T22:46:25.065Z"
   },
   {
    "duration": 13,
    "start_time": "2023-01-31T22:46:25.562Z"
   },
   {
    "duration": 4,
    "start_time": "2023-01-31T22:46:26.030Z"
   },
   {
    "duration": 4,
    "start_time": "2023-01-31T22:46:26.443Z"
   },
   {
    "duration": 448,
    "start_time": "2023-01-31T22:46:27.183Z"
   },
   {
    "duration": 5,
    "start_time": "2023-01-31T22:46:27.633Z"
   },
   {
    "duration": 160,
    "start_time": "2023-01-31T22:46:28.614Z"
   },
   {
    "duration": 152,
    "start_time": "2023-01-31T22:46:28.934Z"
   },
   {
    "duration": 201,
    "start_time": "2023-01-31T22:46:29.587Z"
   },
   {
    "duration": 164,
    "start_time": "2023-01-31T22:46:30.106Z"
   },
   {
    "duration": 166,
    "start_time": "2023-01-31T22:46:31.146Z"
   },
   {
    "duration": 163,
    "start_time": "2023-01-31T22:46:35.118Z"
   },
   {
    "duration": 155,
    "start_time": "2023-01-31T22:46:35.910Z"
   },
   {
    "duration": 124,
    "start_time": "2023-01-31T22:46:39.338Z"
   },
   {
    "duration": 151,
    "start_time": "2023-01-31T22:46:40.730Z"
   },
   {
    "duration": 166,
    "start_time": "2023-01-31T22:46:40.979Z"
   },
   {
    "duration": 164,
    "start_time": "2023-01-31T22:46:41.302Z"
   },
   {
    "duration": 151,
    "start_time": "2023-01-31T22:46:41.562Z"
   },
   {
    "duration": 292,
    "start_time": "2023-01-31T22:46:41.818Z"
   },
   {
    "duration": 221,
    "start_time": "2023-01-31T22:46:42.754Z"
   },
   {
    "duration": 171,
    "start_time": "2023-01-31T22:46:43.549Z"
   },
   {
    "duration": 175,
    "start_time": "2023-01-31T22:46:44.002Z"
   },
   {
    "duration": 166,
    "start_time": "2023-01-31T22:46:44.942Z"
   },
   {
    "duration": 157,
    "start_time": "2023-01-31T22:46:45.612Z"
   },
   {
    "duration": 138,
    "start_time": "2023-01-31T22:46:46.397Z"
   },
   {
    "duration": 504,
    "start_time": "2023-01-31T22:46:47.182Z"
   },
   {
    "duration": 28,
    "start_time": "2023-01-31T22:46:48.478Z"
   },
   {
    "duration": 175,
    "start_time": "2023-01-31T22:46:51.750Z"
   },
   {
    "duration": 424,
    "start_time": "2023-01-31T22:46:52.818Z"
   },
   {
    "duration": 15,
    "start_time": "2023-01-31T22:46:53.942Z"
   },
   {
    "duration": 89,
    "start_time": "2023-01-31T22:59:44.546Z"
   },
   {
    "duration": 180,
    "start_time": "2023-01-31T23:17:32.859Z"
   },
   {
    "duration": 168,
    "start_time": "2023-01-31T23:17:40.359Z"
   },
   {
    "duration": 89,
    "start_time": "2023-01-31T23:20:24.599Z"
   },
   {
    "duration": 167,
    "start_time": "2023-01-31T23:20:45.152Z"
   },
   {
    "duration": 8,
    "start_time": "2023-01-31T23:26:52.220Z"
   },
   {
    "duration": 21,
    "start_time": "2023-01-31T23:47:54.557Z"
   },
   {
    "duration": 24,
    "start_time": "2023-01-31T23:48:00.187Z"
   },
   {
    "duration": 340,
    "start_time": "2023-01-31T23:48:40.112Z"
   },
   {
    "duration": 7,
    "start_time": "2023-01-31T23:48:44.753Z"
   },
   {
    "duration": 27,
    "start_time": "2023-01-31T23:48:45.953Z"
   },
   {
    "duration": 4,
    "start_time": "2023-01-31T23:49:01.393Z"
   },
   {
    "duration": 5,
    "start_time": "2023-01-31T23:49:02.082Z"
   },
   {
    "duration": 4,
    "start_time": "2023-01-31T23:49:29.353Z"
   },
   {
    "duration": 4,
    "start_time": "2023-01-31T23:49:30.058Z"
   },
   {
    "duration": 22,
    "start_time": "2023-01-31T23:49:31.057Z"
   },
   {
    "duration": 71,
    "start_time": "2023-01-31T23:49:38.206Z"
   },
   {
    "duration": 29,
    "start_time": "2023-01-31T23:49:40.613Z"
   },
   {
    "duration": 6,
    "start_time": "2023-01-31T23:50:48.793Z"
   },
   {
    "duration": 12,
    "start_time": "2023-01-31T23:50:48.983Z"
   },
   {
    "duration": 3,
    "start_time": "2023-01-31T23:50:49.141Z"
   },
   {
    "duration": 4,
    "start_time": "2023-01-31T23:50:49.333Z"
   },
   {
    "duration": 286,
    "start_time": "2023-01-31T23:50:49.935Z"
   },
   {
    "duration": 6,
    "start_time": "2023-01-31T23:50:50.741Z"
   },
   {
    "duration": 5,
    "start_time": "2023-01-31T23:51:05.825Z"
   },
   {
    "duration": 5,
    "start_time": "2023-01-31T23:51:10.726Z"
   },
   {
    "duration": 160,
    "start_time": "2023-01-31T23:51:27.865Z"
   },
   {
    "duration": 146,
    "start_time": "2023-01-31T23:51:33.421Z"
   },
   {
    "duration": 158,
    "start_time": "2023-01-31T23:51:34.125Z"
   },
   {
    "duration": 172,
    "start_time": "2023-01-31T23:51:40.554Z"
   },
   {
    "duration": 165,
    "start_time": "2023-01-31T23:51:44.941Z"
   },
   {
    "duration": 174,
    "start_time": "2023-01-31T23:51:50.430Z"
   },
   {
    "duration": 160,
    "start_time": "2023-01-31T23:51:58.117Z"
   },
   {
    "duration": 130,
    "start_time": "2023-01-31T23:52:01.710Z"
   },
   {
    "duration": 149,
    "start_time": "2023-01-31T23:52:02.655Z"
   },
   {
    "duration": 165,
    "start_time": "2023-01-31T23:52:18.765Z"
   },
   {
    "duration": 159,
    "start_time": "2023-01-31T23:52:20.410Z"
   },
   {
    "duration": 150,
    "start_time": "2023-01-31T23:52:22.384Z"
   },
   {
    "duration": 505,
    "start_time": "2023-01-31T23:52:28.321Z"
   },
   {
    "duration": 238,
    "start_time": "2023-01-31T23:54:15.446Z"
   },
   {
    "duration": 173,
    "start_time": "2023-01-31T23:54:22.586Z"
   },
   {
    "duration": 187,
    "start_time": "2023-01-31T23:54:25.506Z"
   },
   {
    "duration": 181,
    "start_time": "2023-01-31T23:54:30.139Z"
   },
   {
    "duration": 167,
    "start_time": "2023-01-31T23:54:36.570Z"
   },
   {
    "duration": 140,
    "start_time": "2023-01-31T23:54:42.184Z"
   },
   {
    "duration": 483,
    "start_time": "2023-01-31T23:54:59.927Z"
   },
   {
    "duration": 26,
    "start_time": "2023-01-31T23:55:12.009Z"
   },
   {
    "duration": 25,
    "start_time": "2023-01-31T23:55:16.751Z"
   },
   {
    "duration": 171,
    "start_time": "2023-01-31T23:55:19.926Z"
   },
   {
    "duration": 180,
    "start_time": "2023-01-31T23:55:40.906Z"
   },
   {
    "duration": 15,
    "start_time": "2023-01-31T23:55:41.341Z"
   },
   {
    "duration": 44,
    "start_time": "2023-02-01T12:19:58.045Z"
   },
   {
    "duration": 968,
    "start_time": "2023-02-01T12:20:06.665Z"
   },
   {
    "duration": 11,
    "start_time": "2023-02-01T12:20:07.635Z"
   },
   {
    "duration": 1781,
    "start_time": "2023-02-01T12:20:07.647Z"
   },
   {
    "duration": 20,
    "start_time": "2023-02-01T12:20:09.430Z"
   },
   {
    "duration": 23,
    "start_time": "2023-02-01T12:20:09.452Z"
   },
   {
    "duration": 463,
    "start_time": "2023-02-01T12:20:09.477Z"
   },
   {
    "duration": 6,
    "start_time": "2023-02-01T12:20:09.942Z"
   },
   {
    "duration": 39,
    "start_time": "2023-02-01T12:20:09.950Z"
   },
   {
    "duration": 2,
    "start_time": "2023-02-01T12:20:09.991Z"
   },
   {
    "duration": 15,
    "start_time": "2023-02-01T12:20:09.994Z"
   },
   {
    "duration": 20,
    "start_time": "2023-02-01T12:20:10.010Z"
   },
   {
    "duration": 66,
    "start_time": "2023-02-01T12:20:10.031Z"
   },
   {
    "duration": 16,
    "start_time": "2023-02-01T12:20:10.098Z"
   },
   {
    "duration": 5,
    "start_time": "2023-02-01T12:20:10.811Z"
   },
   {
    "duration": 11,
    "start_time": "2023-02-01T12:20:10.950Z"
   },
   {
    "duration": 4,
    "start_time": "2023-02-01T12:20:11.229Z"
   },
   {
    "duration": 4,
    "start_time": "2023-02-01T12:20:11.420Z"
   },
   {
    "duration": 249,
    "start_time": "2023-02-01T12:20:11.606Z"
   },
   {
    "duration": 6,
    "start_time": "2023-02-01T12:20:11.857Z"
   },
   {
    "duration": 211,
    "start_time": "2023-02-01T12:20:12.528Z"
   },
   {
    "duration": 132,
    "start_time": "2023-02-01T12:20:12.741Z"
   },
   {
    "duration": 137,
    "start_time": "2023-02-01T12:20:12.875Z"
   },
   {
    "duration": 140,
    "start_time": "2023-02-01T12:20:13.038Z"
   },
   {
    "duration": 141,
    "start_time": "2023-02-01T12:20:13.227Z"
   },
   {
    "duration": 143,
    "start_time": "2023-02-01T12:20:13.600Z"
   },
   {
    "duration": 140,
    "start_time": "2023-02-01T12:20:13.765Z"
   },
   {
    "duration": 124,
    "start_time": "2023-02-01T12:20:13.935Z"
   },
   {
    "duration": 133,
    "start_time": "2023-02-01T12:20:14.103Z"
   },
   {
    "duration": 159,
    "start_time": "2023-02-01T12:20:14.261Z"
   },
   {
    "duration": 155,
    "start_time": "2023-02-01T12:20:14.427Z"
   },
   {
    "duration": 222,
    "start_time": "2023-02-01T12:20:14.607Z"
   },
   {
    "duration": 256,
    "start_time": "2023-02-01T12:20:14.830Z"
   },
   {
    "duration": 195,
    "start_time": "2023-02-01T12:20:16.807Z"
   },
   {
    "duration": 184,
    "start_time": "2023-02-01T12:20:58.419Z"
   },
   {
    "duration": 187,
    "start_time": "2023-02-01T12:23:37.316Z"
   },
   {
    "duration": 191,
    "start_time": "2023-02-01T12:25:39.419Z"
   },
   {
    "duration": 70,
    "start_time": "2023-02-01T12:26:52.619Z"
   },
   {
    "duration": 75,
    "start_time": "2023-02-01T12:27:04.368Z"
   },
   {
    "duration": 186,
    "start_time": "2023-02-01T12:27:57.611Z"
   },
   {
    "duration": 200,
    "start_time": "2023-02-01T12:28:23.958Z"
   },
   {
    "duration": 197,
    "start_time": "2023-02-01T12:28:48.731Z"
   },
   {
    "duration": 298,
    "start_time": "2023-02-01T12:29:00.548Z"
   },
   {
    "duration": 308,
    "start_time": "2023-02-01T12:29:38.169Z"
   },
   {
    "duration": 173,
    "start_time": "2023-02-01T12:30:42.819Z"
   },
   {
    "duration": 179,
    "start_time": "2023-02-01T12:30:59.230Z"
   },
   {
    "duration": 6,
    "start_time": "2023-02-01T12:37:35.671Z"
   },
   {
    "duration": 150,
    "start_time": "2023-02-01T12:38:42.526Z"
   },
   {
    "duration": 159,
    "start_time": "2023-02-01T12:38:47.333Z"
   },
   {
    "duration": 6,
    "start_time": "2023-02-01T12:40:30.725Z"
   },
   {
    "duration": 5,
    "start_time": "2023-02-01T12:40:42.330Z"
   },
   {
    "duration": 5,
    "start_time": "2023-02-01T12:41:21.943Z"
   },
   {
    "duration": 154,
    "start_time": "2023-02-01T12:41:44.911Z"
   },
   {
    "duration": 369,
    "start_time": "2023-02-01T12:42:29.542Z"
   },
   {
    "duration": 295,
    "start_time": "2023-02-01T12:42:31.741Z"
   },
   {
    "duration": 43,
    "start_time": "2023-02-01T12:54:02.449Z"
   },
   {
    "duration": 7,
    "start_time": "2023-02-01T12:54:15.602Z"
   },
   {
    "duration": 4,
    "start_time": "2023-02-01T12:54:22.206Z"
   },
   {
    "duration": 5,
    "start_time": "2023-02-01T12:54:23.022Z"
   },
   {
    "duration": 11,
    "start_time": "2023-02-01T12:56:09.922Z"
   },
   {
    "duration": 8,
    "start_time": "2023-02-01T12:57:50.941Z"
   },
   {
    "duration": 9,
    "start_time": "2023-02-01T12:58:05.535Z"
   },
   {
    "duration": 9,
    "start_time": "2023-02-01T12:58:09.534Z"
   },
   {
    "duration": 9,
    "start_time": "2023-02-01T12:58:16.030Z"
   },
   {
    "duration": 9,
    "start_time": "2023-02-01T12:58:27.142Z"
   },
   {
    "duration": 10,
    "start_time": "2023-02-01T12:58:56.322Z"
   },
   {
    "duration": 7,
    "start_time": "2023-02-01T12:59:04.358Z"
   },
   {
    "duration": 10,
    "start_time": "2023-02-01T12:59:10.326Z"
   },
   {
    "duration": 90,
    "start_time": "2023-02-01T12:59:22.213Z"
   },
   {
    "duration": 10,
    "start_time": "2023-02-01T12:59:27.123Z"
   },
   {
    "duration": 42,
    "start_time": "2023-02-01T14:05:15.808Z"
   },
   {
    "duration": 976,
    "start_time": "2023-02-01T14:05:25.277Z"
   },
   {
    "duration": 13,
    "start_time": "2023-02-01T14:05:26.254Z"
   },
   {
    "duration": 1721,
    "start_time": "2023-02-01T14:05:26.268Z"
   },
   {
    "duration": 18,
    "start_time": "2023-02-01T14:05:27.990Z"
   },
   {
    "duration": 25,
    "start_time": "2023-02-01T14:05:28.009Z"
   },
   {
    "duration": 435,
    "start_time": "2023-02-01T14:05:28.035Z"
   },
   {
    "duration": 16,
    "start_time": "2023-02-01T14:05:28.472Z"
   },
   {
    "duration": 303,
    "start_time": "2023-02-01T14:05:31.785Z"
   },
   {
    "duration": 8,
    "start_time": "2023-02-01T14:05:33.313Z"
   },
   {
    "duration": 20,
    "start_time": "2023-02-01T14:05:33.982Z"
   },
   {
    "duration": 16,
    "start_time": "2023-02-01T14:05:46.137Z"
   },
   {
    "duration": 7,
    "start_time": "2023-02-01T14:06:39.793Z"
   },
   {
    "duration": 3,
    "start_time": "2023-02-01T14:06:48.582Z"
   },
   {
    "duration": 2,
    "start_time": "2023-02-01T14:06:49.470Z"
   },
   {
    "duration": 3,
    "start_time": "2023-02-01T14:06:50.281Z"
   },
   {
    "duration": 2,
    "start_time": "2023-02-01T14:06:51.066Z"
   },
   {
    "duration": 2,
    "start_time": "2023-02-01T14:06:52.102Z"
   },
   {
    "duration": 7,
    "start_time": "2023-02-01T14:06:53.378Z"
   },
   {
    "duration": 7,
    "start_time": "2023-02-01T14:10:23.789Z"
   },
   {
    "duration": 8,
    "start_time": "2023-02-01T14:10:25.878Z"
   },
   {
    "duration": 7,
    "start_time": "2023-02-01T14:10:26.925Z"
   },
   {
    "duration": 6,
    "start_time": "2023-02-01T14:10:28.605Z"
   },
   {
    "duration": 14,
    "start_time": "2023-02-01T14:10:30.601Z"
   },
   {
    "duration": 4,
    "start_time": "2023-02-01T14:11:39.510Z"
   },
   {
    "duration": 8,
    "start_time": "2023-02-01T14:11:47.379Z"
   },
   {
    "duration": 5,
    "start_time": "2023-02-01T14:12:02.197Z"
   },
   {
    "duration": 3,
    "start_time": "2023-02-01T14:12:12.674Z"
   },
   {
    "duration": 10,
    "start_time": "2023-02-01T14:12:13.800Z"
   },
   {
    "duration": 4,
    "start_time": "2023-02-01T14:12:33.083Z"
   },
   {
    "duration": 3,
    "start_time": "2023-02-01T14:12:34.282Z"
   },
   {
    "duration": 41,
    "start_time": "2023-02-01T14:12:43.002Z"
   },
   {
    "duration": 8,
    "start_time": "2023-02-01T14:12:48.129Z"
   },
   {
    "duration": 148,
    "start_time": "2023-02-01T14:14:55.766Z"
   },
   {
    "duration": 215,
    "start_time": "2023-02-01T14:15:33.607Z"
   },
   {
    "duration": 120,
    "start_time": "2023-02-01T14:15:42.566Z"
   },
   {
    "duration": 163,
    "start_time": "2023-02-01T14:15:53.077Z"
   },
   {
    "duration": 213,
    "start_time": "2023-02-01T15:42:43.209Z"
   },
   {
    "duration": 14,
    "start_time": "2023-02-01T15:42:43.460Z"
   },
   {
    "duration": 1963,
    "start_time": "2023-02-01T15:42:43.476Z"
   },
   {
    "duration": 19,
    "start_time": "2023-02-01T15:42:45.440Z"
   },
   {
    "duration": 45,
    "start_time": "2023-02-01T15:42:45.461Z"
   },
   {
    "duration": 533,
    "start_time": "2023-02-01T15:42:45.510Z"
   },
   {
    "duration": 7,
    "start_time": "2023-02-01T15:42:46.044Z"
   },
   {
    "duration": 23,
    "start_time": "2023-02-01T15:42:46.053Z"
   },
   {
    "duration": 13,
    "start_time": "2023-02-01T15:42:46.099Z"
   },
   {
    "duration": 3,
    "start_time": "2023-02-01T15:42:46.113Z"
   },
   {
    "duration": 12,
    "start_time": "2023-02-01T15:42:46.118Z"
   },
   {
    "duration": 25,
    "start_time": "2023-02-01T15:42:46.132Z"
   },
   {
    "duration": 9,
    "start_time": "2023-02-01T15:42:46.159Z"
   },
   {
    "duration": 9,
    "start_time": "2023-02-01T15:42:46.170Z"
   },
   {
    "duration": 37,
    "start_time": "2023-02-01T15:42:46.185Z"
   },
   {
    "duration": 76,
    "start_time": "2023-02-01T15:42:46.224Z"
   },
   {
    "duration": 22,
    "start_time": "2023-02-01T15:42:46.301Z"
   },
   {
    "duration": 5,
    "start_time": "2023-02-01T15:42:46.325Z"
   },
   {
    "duration": 18,
    "start_time": "2023-02-01T15:42:46.331Z"
   },
   {
    "duration": 4,
    "start_time": "2023-02-01T15:42:46.351Z"
   },
   {
    "duration": 11,
    "start_time": "2023-02-01T15:42:46.356Z"
   },
   {
    "duration": 325,
    "start_time": "2023-02-01T15:42:46.369Z"
   },
   {
    "duration": 11,
    "start_time": "2023-02-01T15:42:46.698Z"
   },
   {
    "duration": 195,
    "start_time": "2023-02-01T15:42:46.711Z"
   },
   {
    "duration": 149,
    "start_time": "2023-02-01T15:42:46.908Z"
   },
   {
    "duration": 169,
    "start_time": "2023-02-01T15:42:47.059Z"
   },
   {
    "duration": 274,
    "start_time": "2023-02-01T15:42:47.230Z"
   },
   {
    "duration": 157,
    "start_time": "2023-02-01T15:42:47.506Z"
   },
   {
    "duration": 179,
    "start_time": "2023-02-01T15:42:47.664Z"
   },
   {
    "duration": 165,
    "start_time": "2023-02-01T15:42:47.845Z"
   },
   {
    "duration": 133,
    "start_time": "2023-02-01T15:42:48.011Z"
   },
   {
    "duration": 166,
    "start_time": "2023-02-01T15:42:48.148Z"
   },
   {
    "duration": 152,
    "start_time": "2023-02-01T15:42:48.521Z"
   },
   {
    "duration": 142,
    "start_time": "2023-02-01T15:42:49.568Z"
   },
   {
    "duration": 156,
    "start_time": "2023-02-01T15:42:52.404Z"
   },
   {
    "duration": 156,
    "start_time": "2023-02-01T15:42:53.504Z"
   },
   {
    "duration": 151,
    "start_time": "2023-02-01T15:42:54.611Z"
   },
   {
    "duration": 156,
    "start_time": "2023-02-01T15:42:55.209Z"
   },
   {
    "duration": 172,
    "start_time": "2023-02-01T15:42:55.636Z"
   },
   {
    "duration": 266,
    "start_time": "2023-02-01T15:42:56.044Z"
   },
   {
    "duration": 157,
    "start_time": "2023-02-01T15:42:56.403Z"
   },
   {
    "duration": 174,
    "start_time": "2023-02-01T15:42:56.705Z"
   },
   {
    "duration": 174,
    "start_time": "2023-02-01T15:42:57.008Z"
   },
   {
    "duration": 157,
    "start_time": "2023-02-01T15:42:57.244Z"
   },
   {
    "duration": 280,
    "start_time": "2023-02-01T15:42:57.468Z"
   },
   {
    "duration": 215,
    "start_time": "2023-02-01T15:43:08.108Z"
   },
   {
    "duration": 212,
    "start_time": "2023-02-01T15:43:10.967Z"
   },
   {
    "duration": 451,
    "start_time": "2023-02-01T15:48:19.656Z"
   },
   {
    "duration": 7,
    "start_time": "2023-02-01T16:03:13.120Z"
   },
   {
    "duration": 11,
    "start_time": "2023-02-01T16:04:09.607Z"
   },
   {
    "duration": 10,
    "start_time": "2023-02-01T16:13:58.058Z"
   },
   {
    "duration": 8,
    "start_time": "2023-02-01T16:14:42.867Z"
   },
   {
    "duration": 7,
    "start_time": "2023-02-01T16:14:56.711Z"
   },
   {
    "duration": 36,
    "start_time": "2023-02-01T16:15:02.619Z"
   },
   {
    "duration": 43,
    "start_time": "2023-02-01T16:15:41.647Z"
   },
   {
    "duration": 40,
    "start_time": "2023-02-01T16:16:02.919Z"
   },
   {
    "duration": 32,
    "start_time": "2023-02-01T16:16:17.247Z"
   },
   {
    "duration": 215,
    "start_time": "2023-02-01T16:22:56.059Z"
   },
   {
    "duration": 222,
    "start_time": "2023-02-01T16:24:19.019Z"
   },
   {
    "duration": 196,
    "start_time": "2023-02-01T16:24:39.395Z"
   },
   {
    "duration": 180,
    "start_time": "2023-02-01T16:25:35.796Z"
   },
   {
    "duration": 16,
    "start_time": "2023-02-01T16:25:35.979Z"
   },
   {
    "duration": 1887,
    "start_time": "2023-02-01T16:25:36.293Z"
   },
   {
    "duration": 32,
    "start_time": "2023-02-01T16:25:38.182Z"
   },
   {
    "duration": 36,
    "start_time": "2023-02-01T16:25:38.216Z"
   },
   {
    "duration": 75,
    "start_time": "2023-02-01T16:25:38.254Z"
   },
   {
    "duration": 39,
    "start_time": "2023-02-01T16:26:15.143Z"
   },
   {
    "duration": 37,
    "start_time": "2023-02-01T16:26:40.997Z"
   },
   {
    "duration": 33,
    "start_time": "2023-02-01T16:29:36.130Z"
   },
   {
    "duration": 221,
    "start_time": "2023-02-01T16:29:53.600Z"
   },
   {
    "duration": 224,
    "start_time": "2023-02-01T16:30:29.926Z"
   },
   {
    "duration": 205,
    "start_time": "2023-02-01T16:30:36.770Z"
   },
   {
    "duration": 2,
    "start_time": "2023-02-01T16:31:50.999Z"
   },
   {
    "duration": 6,
    "start_time": "2023-02-01T16:31:52.801Z"
   },
   {
    "duration": 16,
    "start_time": "2023-02-01T16:31:54.243Z"
   },
   {
    "duration": 8,
    "start_time": "2023-02-01T16:31:54.911Z"
   },
   {
    "duration": 3,
    "start_time": "2023-02-01T16:32:02.023Z"
   },
   {
    "duration": 10,
    "start_time": "2023-02-01T16:32:02.604Z"
   },
   {
    "duration": 22,
    "start_time": "2023-02-01T16:32:02.800Z"
   },
   {
    "duration": 3,
    "start_time": "2023-02-01T16:32:02.966Z"
   },
   {
    "duration": 4,
    "start_time": "2023-02-01T16:32:03.870Z"
   },
   {
    "duration": 18,
    "start_time": "2023-02-01T16:32:04.039Z"
   },
   {
    "duration": 73,
    "start_time": "2023-02-01T16:32:04.250Z"
   },
   {
    "duration": 18,
    "start_time": "2023-02-01T16:32:04.401Z"
   },
   {
    "duration": 5,
    "start_time": "2023-02-01T16:32:05.318Z"
   },
   {
    "duration": 15,
    "start_time": "2023-02-01T16:32:05.518Z"
   },
   {
    "duration": 5,
    "start_time": "2023-02-01T16:32:05.718Z"
   },
   {
    "duration": 4,
    "start_time": "2023-02-01T16:32:05.951Z"
   },
   {
    "duration": 278,
    "start_time": "2023-02-01T16:32:06.147Z"
   },
   {
    "duration": 5,
    "start_time": "2023-02-01T16:32:06.427Z"
   },
   {
    "duration": 160,
    "start_time": "2023-02-01T16:32:07.097Z"
   },
   {
    "duration": 134,
    "start_time": "2023-02-01T16:32:07.295Z"
   },
   {
    "duration": 138,
    "start_time": "2023-02-01T16:32:11.414Z"
   },
   {
    "duration": 156,
    "start_time": "2023-02-01T16:32:14.262Z"
   },
   {
    "duration": 276,
    "start_time": "2023-02-01T16:32:15.603Z"
   },
   {
    "duration": 162,
    "start_time": "2023-02-01T16:32:16.642Z"
   },
   {
    "duration": 142,
    "start_time": "2023-02-01T16:32:17.459Z"
   },
   {
    "duration": 113,
    "start_time": "2023-02-01T16:32:18.222Z"
   },
   {
    "duration": 138,
    "start_time": "2023-02-01T16:32:19.167Z"
   },
   {
    "duration": 153,
    "start_time": "2023-02-01T16:32:20.006Z"
   },
   {
    "duration": 141,
    "start_time": "2023-02-01T16:32:20.414Z"
   },
   {
    "duration": 135,
    "start_time": "2023-02-01T16:32:20.710Z"
   },
   {
    "duration": 260,
    "start_time": "2023-02-01T16:32:21.562Z"
   },
   {
    "duration": 145,
    "start_time": "2023-02-01T16:33:03.601Z"
   },
   {
    "duration": 133,
    "start_time": "2023-02-01T16:33:21.439Z"
   },
   {
    "duration": 149,
    "start_time": "2023-02-01T16:33:29.935Z"
   },
   {
    "duration": 163,
    "start_time": "2023-02-01T16:42:35.493Z"
   },
   {
    "duration": 8,
    "start_time": "2023-02-01T16:54:41.442Z"
   },
   {
    "duration": 149,
    "start_time": "2023-02-01T16:54:50.706Z"
   },
   {
    "duration": 142,
    "start_time": "2023-02-01T16:54:50.900Z"
   },
   {
    "duration": 412,
    "start_time": "2023-02-01T16:54:51.046Z"
   },
   {
    "duration": 206,
    "start_time": "2023-02-01T16:54:52.082Z"
   },
   {
    "duration": 203,
    "start_time": "2023-02-01T16:54:53.701Z"
   },
   {
    "duration": 149,
    "start_time": "2023-02-01T16:54:55.223Z"
   },
   {
    "duration": 178,
    "start_time": "2023-02-01T16:54:55.623Z"
   },
   {
    "duration": 151,
    "start_time": "2023-02-01T16:54:55.999Z"
   },
   {
    "duration": 137,
    "start_time": "2023-02-01T16:54:56.343Z"
   },
   {
    "duration": 120,
    "start_time": "2023-02-01T16:54:56.730Z"
   },
   {
    "duration": 444,
    "start_time": "2023-02-01T16:54:57.101Z"
   },
   {
    "duration": 21,
    "start_time": "2023-02-01T16:54:58.238Z"
   },
   {
    "duration": 147,
    "start_time": "2023-02-01T16:55:01.306Z"
   },
   {
    "duration": 175,
    "start_time": "2023-02-01T16:55:10.130Z"
   },
   {
    "duration": 15,
    "start_time": "2023-02-01T16:55:11.602Z"
   },
   {
    "duration": 30,
    "start_time": "2023-02-01T16:56:46.120Z"
   },
   {
    "duration": 196,
    "start_time": "2023-02-01T16:57:00.334Z"
   },
   {
    "duration": 8,
    "start_time": "2023-02-01T16:59:45.658Z"
   },
   {
    "duration": 8,
    "start_time": "2023-02-01T17:00:53.454Z"
   },
   {
    "duration": 7,
    "start_time": "2023-02-01T17:00:58.550Z"
   },
   {
    "duration": 7,
    "start_time": "2023-02-01T17:01:03.454Z"
   },
   {
    "duration": 10,
    "start_time": "2023-02-01T17:02:51.038Z"
   },
   {
    "duration": 25,
    "start_time": "2023-02-01T17:02:55.246Z"
   },
   {
    "duration": 6,
    "start_time": "2023-02-01T17:03:37.302Z"
   },
   {
    "duration": 181,
    "start_time": "2023-02-01T17:17:03.769Z"
   },
   {
    "duration": 189,
    "start_time": "2023-02-01T17:19:33.549Z"
   },
   {
    "duration": 79,
    "start_time": "2023-02-01T17:39:14.446Z"
   },
   {
    "duration": 14,
    "start_time": "2023-02-01T17:47:46.670Z"
   }
  ],
  "kernelspec": {
   "display_name": "Python 3 (ipykernel)",
   "language": "python",
   "name": "python3"
  },
  "language_info": {
   "codemirror_mode": {
    "name": "ipython",
    "version": 3
   },
   "file_extension": ".py",
   "mimetype": "text/x-python",
   "name": "python",
   "nbconvert_exporter": "python",
   "pygments_lexer": "ipython3",
   "version": "3.9.5"
  },
  "toc": {
   "base_numbering": 1,
   "nav_menu": {},
   "number_sections": true,
   "sideBar": true,
   "skip_h1_title": true,
   "title_cell": "Table of Contents",
   "title_sidebar": "Contents",
   "toc_cell": false,
   "toc_position": {},
   "toc_section_display": true,
   "toc_window_display": false
  }
 },
 "nbformat": 4,
 "nbformat_minor": 2
}
